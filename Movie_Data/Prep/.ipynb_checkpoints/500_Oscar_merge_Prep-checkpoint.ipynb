{
 "cells": [
  {
   "cell_type": "markdown",
   "metadata": {},
   "source": [
    "# 500_Oscar_merge_Prep\n",
    "\n",
    "\n",
    "## Purpose\n",
    "The purpose of this notebook is to merge our Oscar datasets with our movie industry dataset, creating the final dataset that we will use in our analysis.\n",
    "\n",
    "## Datasets\n",
    "\n",
    " - input: wins.pkl, noms.pkl, movies.pkl\n",
    " - output: oscarMovies.pkl"
   ]
  },
  {
   "cell_type": "markdown",
   "metadata": {},
   "source": [
    "# Loading the Datasets\n",
    "\n",
    "First we need to load in the datasets that we have prepared in our earlier then we can begin to combine them."
   ]
  },
  {
   "cell_type": "code",
   "execution_count": 1,
   "metadata": {
    "collapsed": true
   },
   "outputs": [],
   "source": [
    "import os.path\n",
    "import pandas as pd\n",
    "import numpy as np"
   ]
  },
  {
   "cell_type": "code",
   "execution_count": 2,
   "metadata": {
    "collapsed": true
   },
   "outputs": [],
   "source": [
    "if  not os.path.exists(\"movies.csv\"):\n",
    "    print(\"Missing dataset file\")"
   ]
  },
  {
   "cell_type": "code",
   "execution_count": 3,
   "metadata": {
    "collapsed": true
   },
   "outputs": [],
   "source": [
    "movies = pd.read_pickle('../../data/processed/movies.pkl')"
   ]
  },
  {
   "cell_type": "code",
   "execution_count": 5,
   "metadata": {
    "collapsed": true
   },
   "outputs": [],
   "source": [
    "wins = pd.read_pickle('../../data/processed/wins.pkl')\n",
    "noms = pd.read_pickle('../../data/processed/noms.pkl')"
   ]
  },
  {
   "cell_type": "code",
   "execution_count": 6,
   "metadata": {},
   "outputs": [
    {
     "data": {
      "text/html": [
       "<div>\n",
       "<style>\n",
       "    .dataframe thead tr:only-child th {\n",
       "        text-align: right;\n",
       "    }\n",
       "\n",
       "    .dataframe thead th {\n",
       "        text-align: left;\n",
       "    }\n",
       "\n",
       "    .dataframe tbody tr th {\n",
       "        vertical-align: top;\n",
       "    }\n",
       "</style>\n",
       "<table border=\"1\" class=\"dataframe\">\n",
       "  <thead>\n",
       "    <tr style=\"text-align: right;\">\n",
       "      <th></th>\n",
       "      <th>budget</th>\n",
       "      <th>company</th>\n",
       "      <th>country</th>\n",
       "      <th>director</th>\n",
       "      <th>genre</th>\n",
       "      <th>gross</th>\n",
       "      <th>name</th>\n",
       "      <th>rating</th>\n",
       "      <th>released</th>\n",
       "      <th>runtime</th>\n",
       "      <th>score</th>\n",
       "      <th>star</th>\n",
       "      <th>votes</th>\n",
       "      <th>writer</th>\n",
       "      <th>year</th>\n",
       "      <th>scoreRank</th>\n",
       "      <th>grossRank</th>\n",
       "      <th>HarMean</th>\n",
       "    </tr>\n",
       "  </thead>\n",
       "  <tbody>\n",
       "    <tr>\n",
       "      <th>0</th>\n",
       "      <td>8000000.0</td>\n",
       "      <td>Columbia Pictures Corporation</td>\n",
       "      <td>USA</td>\n",
       "      <td>Rob Reiner</td>\n",
       "      <td>Adventure</td>\n",
       "      <td>52287414.0</td>\n",
       "      <td>Stand by Me</td>\n",
       "      <td>R</td>\n",
       "      <td>1986-08-22</td>\n",
       "      <td>89</td>\n",
       "      <td>8.1</td>\n",
       "      <td>Wil Wheaton</td>\n",
       "      <td>299174</td>\n",
       "      <td>Stephen King</td>\n",
       "      <td>1986</td>\n",
       "      <td>6685.0</td>\n",
       "      <td>5495.0</td>\n",
       "      <td>0.884794</td>\n",
       "    </tr>\n",
       "    <tr>\n",
       "      <th>1</th>\n",
       "      <td>6000000.0</td>\n",
       "      <td>Paramount Pictures</td>\n",
       "      <td>USA</td>\n",
       "      <td>John Hughes</td>\n",
       "      <td>Comedy</td>\n",
       "      <td>70136369.0</td>\n",
       "      <td>Ferris Bueller's Day Off</td>\n",
       "      <td>PG-13</td>\n",
       "      <td>1986-06-11</td>\n",
       "      <td>103</td>\n",
       "      <td>7.8</td>\n",
       "      <td>Matthew Broderick</td>\n",
       "      <td>264740</td>\n",
       "      <td>John Hughes</td>\n",
       "      <td>1986</td>\n",
       "      <td>6436.5</td>\n",
       "      <td>5878.0</td>\n",
       "      <td>0.901333</td>\n",
       "    </tr>\n",
       "    <tr>\n",
       "      <th>2</th>\n",
       "      <td>15000000.0</td>\n",
       "      <td>Paramount Pictures</td>\n",
       "      <td>USA</td>\n",
       "      <td>Tony Scott</td>\n",
       "      <td>Action</td>\n",
       "      <td>179800601.0</td>\n",
       "      <td>Top Gun</td>\n",
       "      <td>PG</td>\n",
       "      <td>1986-05-16</td>\n",
       "      <td>110</td>\n",
       "      <td>6.9</td>\n",
       "      <td>Tom Cruise</td>\n",
       "      <td>236909</td>\n",
       "      <td>Jim Cash</td>\n",
       "      <td>1986</td>\n",
       "      <td>4651.5</td>\n",
       "      <td>6613.0</td>\n",
       "      <td>0.801096</td>\n",
       "    </tr>\n",
       "    <tr>\n",
       "      <th>3</th>\n",
       "      <td>18500000.0</td>\n",
       "      <td>Twentieth Century Fox Film Corporation</td>\n",
       "      <td>USA</td>\n",
       "      <td>James Cameron</td>\n",
       "      <td>Action</td>\n",
       "      <td>85160248.0</td>\n",
       "      <td>Aliens</td>\n",
       "      <td>R</td>\n",
       "      <td>1986-07-18</td>\n",
       "      <td>137</td>\n",
       "      <td>8.4</td>\n",
       "      <td>Sigourney Weaver</td>\n",
       "      <td>540152</td>\n",
       "      <td>James Cameron</td>\n",
       "      <td>1986</td>\n",
       "      <td>6775.0</td>\n",
       "      <td>6095.0</td>\n",
       "      <td>0.941311</td>\n",
       "    </tr>\n",
       "    <tr>\n",
       "      <th>4</th>\n",
       "      <td>9000000.0</td>\n",
       "      <td>Walt Disney Pictures</td>\n",
       "      <td>USA</td>\n",
       "      <td>Randal Kleiser</td>\n",
       "      <td>Adventure</td>\n",
       "      <td>18564613.0</td>\n",
       "      <td>Flight of the Navigator</td>\n",
       "      <td>PG</td>\n",
       "      <td>1986-08-01</td>\n",
       "      <td>90</td>\n",
       "      <td>6.9</td>\n",
       "      <td>Joey Cramer</td>\n",
       "      <td>36636</td>\n",
       "      <td>Mark H. Baker</td>\n",
       "      <td>1986</td>\n",
       "      <td>4651.5</td>\n",
       "      <td>3996.0</td>\n",
       "      <td>0.630507</td>\n",
       "    </tr>\n",
       "  </tbody>\n",
       "</table>\n",
       "</div>"
      ],
      "text/plain": [
       "       budget                                 company country        director  \\\n",
       "0   8000000.0           Columbia Pictures Corporation     USA      Rob Reiner   \n",
       "1   6000000.0                      Paramount Pictures     USA     John Hughes   \n",
       "2  15000000.0                      Paramount Pictures     USA      Tony Scott   \n",
       "3  18500000.0  Twentieth Century Fox Film Corporation     USA   James Cameron   \n",
       "4   9000000.0                    Walt Disney Pictures     USA  Randal Kleiser   \n",
       "\n",
       "       genre        gross                      name rating   released  \\\n",
       "0  Adventure   52287414.0               Stand by Me      R 1986-08-22   \n",
       "1     Comedy   70136369.0  Ferris Bueller's Day Off  PG-13 1986-06-11   \n",
       "2     Action  179800601.0                   Top Gun     PG 1986-05-16   \n",
       "3     Action   85160248.0                    Aliens      R 1986-07-18   \n",
       "4  Adventure   18564613.0   Flight of the Navigator     PG 1986-08-01   \n",
       "\n",
       "   runtime  score               star   votes         writer  year  scoreRank  \\\n",
       "0       89    8.1        Wil Wheaton  299174   Stephen King  1986     6685.0   \n",
       "1      103    7.8  Matthew Broderick  264740    John Hughes  1986     6436.5   \n",
       "2      110    6.9         Tom Cruise  236909       Jim Cash  1986     4651.5   \n",
       "3      137    8.4   Sigourney Weaver  540152  James Cameron  1986     6775.0   \n",
       "4       90    6.9        Joey Cramer   36636  Mark H. Baker  1986     4651.5   \n",
       "\n",
       "   grossRank   HarMean  \n",
       "0     5495.0  0.884794  \n",
       "1     5878.0  0.901333  \n",
       "2     6613.0  0.801096  \n",
       "3     6095.0  0.941311  \n",
       "4     3996.0  0.630507  "
      ]
     },
     "execution_count": 6,
     "metadata": {},
     "output_type": "execute_result"
    }
   ],
   "source": [
    "movies.head(5)"
   ]
  },
  {
   "cell_type": "code",
   "execution_count": 7,
   "metadata": {},
   "outputs": [
    {
     "data": {
      "text/plain": [
       "(6820, 18)"
      ]
     },
     "execution_count": 7,
     "metadata": {},
     "output_type": "execute_result"
    }
   ],
   "source": [
    "movies.shape"
   ]
  },
  {
   "cell_type": "markdown",
   "metadata": {},
   "source": [
    "We can see that datasets have loaded in correctly and are now ready to be combined."
   ]
  },
  {
   "cell_type": "markdown",
   "metadata": {},
   "source": [
    "# Combining the Datasets "
   ]
  },
  {
   "cell_type": "markdown",
   "metadata": {},
   "source": [
    "To create our final dataset, we needed to combine our two smaller datasets that have the counts of the Oscar wins and nominations.\n",
    "\n",
    "Our first step then was to merge these two datasets with the movie industry dataset individually.\n"
   ]
  },
  {
   "cell_type": "code",
   "execution_count": 8,
   "metadata": {
    "collapsed": true
   },
   "outputs": [],
   "source": [
    "wins = movies.merge(wins, left_on='name', right_on='movie_name')# merging the data sets on the movie name"
   ]
  },
  {
   "cell_type": "code",
   "execution_count": 9,
   "metadata": {
    "collapsed": true
   },
   "outputs": [],
   "source": [
    "noms = movies.merge(noms, left_on='name', right_on='movie_name')# merging the data sets on the movie name"
   ]
  },
  {
   "cell_type": "code",
   "execution_count": 10,
   "metadata": {},
   "outputs": [
    {
     "data": {
      "text/plain": [
       "(353, 20)"
      ]
     },
     "execution_count": 10,
     "metadata": {},
     "output_type": "execute_result"
    }
   ],
   "source": [
    "noms.shape"
   ]
  },
  {
   "cell_type": "code",
   "execution_count": 11,
   "metadata": {},
   "outputs": [
    {
     "data": {
      "text/html": [
       "<div>\n",
       "<style>\n",
       "    .dataframe thead tr:only-child th {\n",
       "        text-align: right;\n",
       "    }\n",
       "\n",
       "    .dataframe thead th {\n",
       "        text-align: left;\n",
       "    }\n",
       "\n",
       "    .dataframe tbody tr th {\n",
       "        vertical-align: top;\n",
       "    }\n",
       "</style>\n",
       "<table border=\"1\" class=\"dataframe\">\n",
       "  <thead>\n",
       "    <tr style=\"text-align: right;\">\n",
       "      <th></th>\n",
       "      <th>budget</th>\n",
       "      <th>company</th>\n",
       "      <th>country</th>\n",
       "      <th>director</th>\n",
       "      <th>genre</th>\n",
       "      <th>gross</th>\n",
       "      <th>name</th>\n",
       "      <th>rating</th>\n",
       "      <th>released</th>\n",
       "      <th>runtime</th>\n",
       "      <th>score</th>\n",
       "      <th>star</th>\n",
       "      <th>votes</th>\n",
       "      <th>writer</th>\n",
       "      <th>year</th>\n",
       "      <th>scoreRank</th>\n",
       "      <th>grossRank</th>\n",
       "      <th>HarMean</th>\n",
       "      <th>Oscar_noms</th>\n",
       "      <th>movie_name</th>\n",
       "    </tr>\n",
       "  </thead>\n",
       "  <tbody>\n",
       "    <tr>\n",
       "      <th>0</th>\n",
       "      <td>18500000.0</td>\n",
       "      <td>Twentieth Century Fox Film Corporation</td>\n",
       "      <td>USA</td>\n",
       "      <td>James Cameron</td>\n",
       "      <td>Action</td>\n",
       "      <td>85160248.0</td>\n",
       "      <td>Aliens</td>\n",
       "      <td>R</td>\n",
       "      <td>1986-07-18</td>\n",
       "      <td>137</td>\n",
       "      <td>8.4</td>\n",
       "      <td>Sigourney Weaver</td>\n",
       "      <td>540152</td>\n",
       "      <td>James Cameron</td>\n",
       "      <td>1986</td>\n",
       "      <td>6775.0</td>\n",
       "      <td>6095.0</td>\n",
       "      <td>0.941311</td>\n",
       "      <td>1</td>\n",
       "      <td>Aliens</td>\n",
       "    </tr>\n",
       "    <tr>\n",
       "      <th>1</th>\n",
       "      <td>6000000.0</td>\n",
       "      <td>Hemdale</td>\n",
       "      <td>UK</td>\n",
       "      <td>Oliver Stone</td>\n",
       "      <td>Drama</td>\n",
       "      <td>138530565.0</td>\n",
       "      <td>Platoon</td>\n",
       "      <td>R</td>\n",
       "      <td>1987-02-06</td>\n",
       "      <td>120</td>\n",
       "      <td>8.1</td>\n",
       "      <td>Charlie Sheen</td>\n",
       "      <td>317585</td>\n",
       "      <td>Oliver Stone</td>\n",
       "      <td>1986</td>\n",
       "      <td>6685.0</td>\n",
       "      <td>6479.0</td>\n",
       "      <td>0.965281</td>\n",
       "      <td>2</td>\n",
       "      <td>Platoon</td>\n",
       "    </tr>\n",
       "    <tr>\n",
       "      <th>2</th>\n",
       "      <td>6000000.0</td>\n",
       "      <td>De Laurentiis Entertainment Group (DEG)</td>\n",
       "      <td>USA</td>\n",
       "      <td>David Lynch</td>\n",
       "      <td>Drama</td>\n",
       "      <td>8551228.0</td>\n",
       "      <td>Blue Velvet</td>\n",
       "      <td>R</td>\n",
       "      <td>1986-10-23</td>\n",
       "      <td>120</td>\n",
       "      <td>7.8</td>\n",
       "      <td>Isabella Rossellini</td>\n",
       "      <td>146768</td>\n",
       "      <td>David Lynch</td>\n",
       "      <td>1986</td>\n",
       "      <td>6436.5</td>\n",
       "      <td>3057.0</td>\n",
       "      <td>0.607958</td>\n",
       "      <td>1</td>\n",
       "      <td>Blue Velvet</td>\n",
       "    </tr>\n",
       "    <tr>\n",
       "      <th>3</th>\n",
       "      <td>24500000.0</td>\n",
       "      <td>Warner Bros.</td>\n",
       "      <td>UK</td>\n",
       "      <td>Roland Joffé</td>\n",
       "      <td>Adventure</td>\n",
       "      <td>17218023.0</td>\n",
       "      <td>The Mission</td>\n",
       "      <td>PG</td>\n",
       "      <td>1986-10-31</td>\n",
       "      <td>125</td>\n",
       "      <td>7.5</td>\n",
       "      <td>Robert De Niro</td>\n",
       "      <td>47497</td>\n",
       "      <td>Robert Bolt</td>\n",
       "      <td>1986</td>\n",
       "      <td>5973.0</td>\n",
       "      <td>3887.0</td>\n",
       "      <td>0.690732</td>\n",
       "      <td>1</td>\n",
       "      <td>The Mission</td>\n",
       "    </tr>\n",
       "    <tr>\n",
       "      <th>4</th>\n",
       "      <td>13800000.0</td>\n",
       "      <td>Touchstone Pictures</td>\n",
       "      <td>USA</td>\n",
       "      <td>Martin Scorsese</td>\n",
       "      <td>Drama</td>\n",
       "      <td>52293982.0</td>\n",
       "      <td>The Color of Money</td>\n",
       "      <td>R</td>\n",
       "      <td>1986-10-17</td>\n",
       "      <td>119</td>\n",
       "      <td>7.0</td>\n",
       "      <td>Paul Newman</td>\n",
       "      <td>62495</td>\n",
       "      <td>Walter Tevis</td>\n",
       "      <td>1986</td>\n",
       "      <td>4885.5</td>\n",
       "      <td>5496.0</td>\n",
       "      <td>0.758738</td>\n",
       "      <td>1</td>\n",
       "      <td>The Color of Money</td>\n",
       "    </tr>\n",
       "  </tbody>\n",
       "</table>\n",
       "</div>"
      ],
      "text/plain": [
       "       budget                                  company country  \\\n",
       "0  18500000.0   Twentieth Century Fox Film Corporation     USA   \n",
       "1   6000000.0                                  Hemdale      UK   \n",
       "2   6000000.0  De Laurentiis Entertainment Group (DEG)     USA   \n",
       "3  24500000.0                             Warner Bros.      UK   \n",
       "4  13800000.0                      Touchstone Pictures     USA   \n",
       "\n",
       "          director      genre        gross                name rating  \\\n",
       "0    James Cameron     Action   85160248.0              Aliens      R   \n",
       "1     Oliver Stone      Drama  138530565.0             Platoon      R   \n",
       "2      David Lynch      Drama    8551228.0         Blue Velvet      R   \n",
       "3     Roland Joffé  Adventure   17218023.0         The Mission     PG   \n",
       "4  Martin Scorsese      Drama   52293982.0  The Color of Money      R   \n",
       "\n",
       "    released  runtime  score                 star   votes         writer  \\\n",
       "0 1986-07-18      137    8.4     Sigourney Weaver  540152  James Cameron   \n",
       "1 1987-02-06      120    8.1        Charlie Sheen  317585   Oliver Stone   \n",
       "2 1986-10-23      120    7.8  Isabella Rossellini  146768    David Lynch   \n",
       "3 1986-10-31      125    7.5       Robert De Niro   47497    Robert Bolt   \n",
       "4 1986-10-17      119    7.0          Paul Newman   62495   Walter Tevis   \n",
       "\n",
       "   year  scoreRank  grossRank   HarMean  Oscar_noms          movie_name  \n",
       "0  1986     6775.0     6095.0  0.941311           1              Aliens  \n",
       "1  1986     6685.0     6479.0  0.965281           2             Platoon  \n",
       "2  1986     6436.5     3057.0  0.607958           1         Blue Velvet  \n",
       "3  1986     5973.0     3887.0  0.690732           1         The Mission  \n",
       "4  1986     4885.5     5496.0  0.758738           1  The Color of Money  "
      ]
     },
     "execution_count": 11,
     "metadata": {},
     "output_type": "execute_result"
    }
   ],
   "source": [
    "noms.head()"
   ]
  },
  {
   "cell_type": "markdown",
   "metadata": {},
   "source": [
    "We can see that our noms dataset has successfully been merged."
   ]
  },
  {
   "cell_type": "code",
   "execution_count": 12,
   "metadata": {},
   "outputs": [
    {
     "data": {
      "text/plain": [
       "(107, 20)"
      ]
     },
     "execution_count": 12,
     "metadata": {},
     "output_type": "execute_result"
    }
   ],
   "source": [
    "wins.shape"
   ]
  },
  {
   "cell_type": "code",
   "execution_count": 13,
   "metadata": {},
   "outputs": [
    {
     "data": {
      "text/html": [
       "<div>\n",
       "<style>\n",
       "    .dataframe thead tr:only-child th {\n",
       "        text-align: right;\n",
       "    }\n",
       "\n",
       "    .dataframe thead th {\n",
       "        text-align: left;\n",
       "    }\n",
       "\n",
       "    .dataframe tbody tr th {\n",
       "        vertical-align: top;\n",
       "    }\n",
       "</style>\n",
       "<table border=\"1\" class=\"dataframe\">\n",
       "  <thead>\n",
       "    <tr style=\"text-align: right;\">\n",
       "      <th></th>\n",
       "      <th>budget</th>\n",
       "      <th>company</th>\n",
       "      <th>country</th>\n",
       "      <th>director</th>\n",
       "      <th>genre</th>\n",
       "      <th>gross</th>\n",
       "      <th>name</th>\n",
       "      <th>rating</th>\n",
       "      <th>released</th>\n",
       "      <th>runtime</th>\n",
       "      <th>score</th>\n",
       "      <th>star</th>\n",
       "      <th>votes</th>\n",
       "      <th>writer</th>\n",
       "      <th>year</th>\n",
       "      <th>scoreRank</th>\n",
       "      <th>grossRank</th>\n",
       "      <th>HarMean</th>\n",
       "      <th>Oscar_wins</th>\n",
       "      <th>movie_name</th>\n",
       "    </tr>\n",
       "  </thead>\n",
       "  <tbody>\n",
       "    <tr>\n",
       "      <th>0</th>\n",
       "      <td>6000000.0</td>\n",
       "      <td>Hemdale</td>\n",
       "      <td>UK</td>\n",
       "      <td>Oliver Stone</td>\n",
       "      <td>Drama</td>\n",
       "      <td>138530565.0</td>\n",
       "      <td>Platoon</td>\n",
       "      <td>R</td>\n",
       "      <td>1987-02-06</td>\n",
       "      <td>120</td>\n",
       "      <td>8.1</td>\n",
       "      <td>Charlie Sheen</td>\n",
       "      <td>317585</td>\n",
       "      <td>Oliver Stone</td>\n",
       "      <td>1986</td>\n",
       "      <td>6685.0</td>\n",
       "      <td>6479.0</td>\n",
       "      <td>0.965281</td>\n",
       "      <td>1</td>\n",
       "      <td>Platoon</td>\n",
       "    </tr>\n",
       "    <tr>\n",
       "      <th>1</th>\n",
       "      <td>13800000.0</td>\n",
       "      <td>Touchstone Pictures</td>\n",
       "      <td>USA</td>\n",
       "      <td>Martin Scorsese</td>\n",
       "      <td>Drama</td>\n",
       "      <td>52293982.0</td>\n",
       "      <td>The Color of Money</td>\n",
       "      <td>R</td>\n",
       "      <td>1986-10-17</td>\n",
       "      <td>119</td>\n",
       "      <td>7.0</td>\n",
       "      <td>Paul Newman</td>\n",
       "      <td>62495</td>\n",
       "      <td>Walter Tevis</td>\n",
       "      <td>1986</td>\n",
       "      <td>4885.5</td>\n",
       "      <td>5496.0</td>\n",
       "      <td>0.758738</td>\n",
       "      <td>1</td>\n",
       "      <td>The Color of Money</td>\n",
       "    </tr>\n",
       "    <tr>\n",
       "      <th>2</th>\n",
       "      <td>6400000.0</td>\n",
       "      <td>Orion Pictures</td>\n",
       "      <td>USA</td>\n",
       "      <td>Woody Allen</td>\n",
       "      <td>Comedy</td>\n",
       "      <td>40084041.0</td>\n",
       "      <td>Hannah and Her Sisters</td>\n",
       "      <td>PG-13</td>\n",
       "      <td>1986-03-14</td>\n",
       "      <td>107</td>\n",
       "      <td>8.0</td>\n",
       "      <td>Mia Farrow</td>\n",
       "      <td>56988</td>\n",
       "      <td>Woody Allen</td>\n",
       "      <td>1986</td>\n",
       "      <td>6616.5</td>\n",
       "      <td>5121.0</td>\n",
       "      <td>0.846879</td>\n",
       "      <td>2</td>\n",
       "      <td>Hannah and Her Sisters</td>\n",
       "    </tr>\n",
       "    <tr>\n",
       "      <th>3</th>\n",
       "      <td>0.0</td>\n",
       "      <td>Paramount Pictures</td>\n",
       "      <td>USA</td>\n",
       "      <td>Randa Haines</td>\n",
       "      <td>Drama</td>\n",
       "      <td>31853080.0</td>\n",
       "      <td>Children of a Lesser God</td>\n",
       "      <td>R</td>\n",
       "      <td>1986-10-31</td>\n",
       "      <td>119</td>\n",
       "      <td>7.2</td>\n",
       "      <td>William Hurt</td>\n",
       "      <td>12538</td>\n",
       "      <td>Mark Medoff</td>\n",
       "      <td>1986</td>\n",
       "      <td>5360.5</td>\n",
       "      <td>4739.0</td>\n",
       "      <td>0.737876</td>\n",
       "      <td>1</td>\n",
       "      <td>Children of a Lesser God</td>\n",
       "    </tr>\n",
       "    <tr>\n",
       "      <th>4</th>\n",
       "      <td>25000000.0</td>\n",
       "      <td>Paramount Pictures</td>\n",
       "      <td>USA</td>\n",
       "      <td>Brian De Palma</td>\n",
       "      <td>Crime</td>\n",
       "      <td>76270454.0</td>\n",
       "      <td>The Untouchables</td>\n",
       "      <td>R</td>\n",
       "      <td>1987-06-03</td>\n",
       "      <td>119</td>\n",
       "      <td>7.9</td>\n",
       "      <td>Kevin Costner</td>\n",
       "      <td>234254</td>\n",
       "      <td>Oscar Fraley</td>\n",
       "      <td>1987</td>\n",
       "      <td>6541.5</td>\n",
       "      <td>5984.0</td>\n",
       "      <td>0.916852</td>\n",
       "      <td>1</td>\n",
       "      <td>The Untouchables</td>\n",
       "    </tr>\n",
       "  </tbody>\n",
       "</table>\n",
       "</div>"
      ],
      "text/plain": [
       "       budget              company country         director   genre  \\\n",
       "0   6000000.0              Hemdale      UK     Oliver Stone   Drama   \n",
       "1  13800000.0  Touchstone Pictures     USA  Martin Scorsese   Drama   \n",
       "2   6400000.0       Orion Pictures     USA      Woody Allen  Comedy   \n",
       "3         0.0   Paramount Pictures     USA     Randa Haines   Drama   \n",
       "4  25000000.0   Paramount Pictures     USA   Brian De Palma   Crime   \n",
       "\n",
       "         gross                      name rating   released  runtime  score  \\\n",
       "0  138530565.0                   Platoon      R 1987-02-06      120    8.1   \n",
       "1   52293982.0        The Color of Money      R 1986-10-17      119    7.0   \n",
       "2   40084041.0    Hannah and Her Sisters  PG-13 1986-03-14      107    8.0   \n",
       "3   31853080.0  Children of a Lesser God      R 1986-10-31      119    7.2   \n",
       "4   76270454.0          The Untouchables      R 1987-06-03      119    7.9   \n",
       "\n",
       "            star   votes        writer  year  scoreRank  grossRank   HarMean  \\\n",
       "0  Charlie Sheen  317585  Oliver Stone  1986     6685.0     6479.0  0.965281   \n",
       "1    Paul Newman   62495  Walter Tevis  1986     4885.5     5496.0  0.758738   \n",
       "2     Mia Farrow   56988   Woody Allen  1986     6616.5     5121.0  0.846879   \n",
       "3   William Hurt   12538   Mark Medoff  1986     5360.5     4739.0  0.737876   \n",
       "4  Kevin Costner  234254  Oscar Fraley  1987     6541.5     5984.0  0.916852   \n",
       "\n",
       "   Oscar_wins                movie_name  \n",
       "0           1                   Platoon  \n",
       "1           1        The Color of Money  \n",
       "2           2    Hannah and Her Sisters  \n",
       "3           1  Children of a Lesser God  \n",
       "4           1          The Untouchables  "
      ]
     },
     "execution_count": 13,
     "metadata": {},
     "output_type": "execute_result"
    }
   ],
   "source": [
    "wins.head()"
   ]
  },
  {
   "cell_type": "markdown",
   "metadata": {},
   "source": [
    "Our wins dataset also has merged successfully so now we can prepare to create our final dataset.\n",
    "\n",
    "The next step we took was to add our noms dataset and our wins dataset to our movie industry dataset, this way we would have all the movies in the file with the count of their oscar wins and nominations."
   ]
  },
  {
   "cell_type": "code",
   "execution_count": 14,
   "metadata": {
    "collapsed": true
   },
   "outputs": [],
   "source": [
    "oscar_wins = movies.append(wins)"
   ]
  },
  {
   "cell_type": "code",
   "execution_count": 15,
   "metadata": {
    "collapsed": true
   },
   "outputs": [],
   "source": [
    "oscar_noms = movies.append(noms)"
   ]
  },
  {
   "cell_type": "markdown",
   "metadata": {},
   "source": [
    "We added the data with the Oscar win count to the end of the movie industry dataset. Then we dropped the duplicate rows, keeping the last duplicate, as these would be the duplicates with the Oscar counts. We then did the same process to the Oscar nominations data."
   ]
  },
  {
   "cell_type": "code",
   "execution_count": 16,
   "metadata": {
    "collapsed": true
   },
   "outputs": [],
   "source": [
    "oscar_wins.drop_duplicates(subset='name', keep='last', inplace=True)"
   ]
  },
  {
   "cell_type": "code",
   "execution_count": 17,
   "metadata": {
    "collapsed": true
   },
   "outputs": [],
   "source": [
    "oscar_noms.drop_duplicates(subset='name', keep='last', inplace=True)"
   ]
  },
  {
   "cell_type": "markdown",
   "metadata": {},
   "source": [
    "We now had two datasets with the oscar win/nominations counts for all movies. As any movie that was not in either the oscar datasets before the merge must then have not won or been nominated for any oscars."
   ]
  },
  {
   "cell_type": "code",
   "execution_count": 18,
   "metadata": {},
   "outputs": [
    {
     "data": {
      "text/plain": [
       "(6731, 20)"
      ]
     },
     "execution_count": 18,
     "metadata": {},
     "output_type": "execute_result"
    }
   ],
   "source": [
    "oscar_noms.shape"
   ]
  },
  {
   "cell_type": "code",
   "execution_count": 19,
   "metadata": {},
   "outputs": [
    {
     "data": {
      "text/plain": [
       "(6731, 20)"
      ]
     },
     "execution_count": 19,
     "metadata": {},
     "output_type": "execute_result"
    }
   ],
   "source": [
    "oscar_wins.shape"
   ]
  },
  {
   "cell_type": "markdown",
   "metadata": {},
   "source": [
    "We can see now that our two data sets are the same size and shape making merging very easy.\n",
    "\n",
    "We created our final dataset that would be used in our analysis, by combining the Oscar_nom column to our Oscar Wins dataset. We merged the data based on movie name to ensure that data matched up correctly.\n"
   ]
  },
  {
   "cell_type": "code",
   "execution_count": 20,
   "metadata": {
    "collapsed": true
   },
   "outputs": [],
   "source": [
    "oscarMovies = pd.merge(oscar_wins,oscar_noms[['name','Oscar_noms']],on='name', how='left')"
   ]
  },
  {
   "cell_type": "code",
   "execution_count": 21,
   "metadata": {},
   "outputs": [
    {
     "data": {
      "text/html": [
       "<div>\n",
       "<style>\n",
       "    .dataframe thead tr:only-child th {\n",
       "        text-align: right;\n",
       "    }\n",
       "\n",
       "    .dataframe thead th {\n",
       "        text-align: left;\n",
       "    }\n",
       "\n",
       "    .dataframe tbody tr th {\n",
       "        vertical-align: top;\n",
       "    }\n",
       "</style>\n",
       "<table border=\"1\" class=\"dataframe\">\n",
       "  <thead>\n",
       "    <tr style=\"text-align: right;\">\n",
       "      <th></th>\n",
       "      <th>HarMean</th>\n",
       "      <th>Oscar_wins</th>\n",
       "      <th>budget</th>\n",
       "      <th>company</th>\n",
       "      <th>country</th>\n",
       "      <th>director</th>\n",
       "      <th>genre</th>\n",
       "      <th>gross</th>\n",
       "      <th>grossRank</th>\n",
       "      <th>movie_name</th>\n",
       "      <th>...</th>\n",
       "      <th>rating</th>\n",
       "      <th>released</th>\n",
       "      <th>runtime</th>\n",
       "      <th>score</th>\n",
       "      <th>scoreRank</th>\n",
       "      <th>star</th>\n",
       "      <th>votes</th>\n",
       "      <th>writer</th>\n",
       "      <th>year</th>\n",
       "      <th>Oscar_noms</th>\n",
       "    </tr>\n",
       "  </thead>\n",
       "  <tbody>\n",
       "    <tr>\n",
       "      <th>0</th>\n",
       "      <td>0.884794</td>\n",
       "      <td>NaN</td>\n",
       "      <td>8000000.0</td>\n",
       "      <td>Columbia Pictures Corporation</td>\n",
       "      <td>USA</td>\n",
       "      <td>Rob Reiner</td>\n",
       "      <td>Adventure</td>\n",
       "      <td>52287414.0</td>\n",
       "      <td>5495.0</td>\n",
       "      <td>NaN</td>\n",
       "      <td>...</td>\n",
       "      <td>R</td>\n",
       "      <td>1986-08-22</td>\n",
       "      <td>89</td>\n",
       "      <td>8.1</td>\n",
       "      <td>6685.0</td>\n",
       "      <td>Wil Wheaton</td>\n",
       "      <td>299174</td>\n",
       "      <td>Stephen King</td>\n",
       "      <td>1986</td>\n",
       "      <td>NaN</td>\n",
       "    </tr>\n",
       "    <tr>\n",
       "      <th>1</th>\n",
       "      <td>0.901333</td>\n",
       "      <td>NaN</td>\n",
       "      <td>6000000.0</td>\n",
       "      <td>Paramount Pictures</td>\n",
       "      <td>USA</td>\n",
       "      <td>John Hughes</td>\n",
       "      <td>Comedy</td>\n",
       "      <td>70136369.0</td>\n",
       "      <td>5878.0</td>\n",
       "      <td>NaN</td>\n",
       "      <td>...</td>\n",
       "      <td>PG-13</td>\n",
       "      <td>1986-06-11</td>\n",
       "      <td>103</td>\n",
       "      <td>7.8</td>\n",
       "      <td>6436.5</td>\n",
       "      <td>Matthew Broderick</td>\n",
       "      <td>264740</td>\n",
       "      <td>John Hughes</td>\n",
       "      <td>1986</td>\n",
       "      <td>NaN</td>\n",
       "    </tr>\n",
       "    <tr>\n",
       "      <th>2</th>\n",
       "      <td>0.801096</td>\n",
       "      <td>NaN</td>\n",
       "      <td>15000000.0</td>\n",
       "      <td>Paramount Pictures</td>\n",
       "      <td>USA</td>\n",
       "      <td>Tony Scott</td>\n",
       "      <td>Action</td>\n",
       "      <td>179800601.0</td>\n",
       "      <td>6613.0</td>\n",
       "      <td>NaN</td>\n",
       "      <td>...</td>\n",
       "      <td>PG</td>\n",
       "      <td>1986-05-16</td>\n",
       "      <td>110</td>\n",
       "      <td>6.9</td>\n",
       "      <td>4651.5</td>\n",
       "      <td>Tom Cruise</td>\n",
       "      <td>236909</td>\n",
       "      <td>Jim Cash</td>\n",
       "      <td>1986</td>\n",
       "      <td>NaN</td>\n",
       "    </tr>\n",
       "    <tr>\n",
       "      <th>3</th>\n",
       "      <td>0.941311</td>\n",
       "      <td>NaN</td>\n",
       "      <td>18500000.0</td>\n",
       "      <td>Twentieth Century Fox Film Corporation</td>\n",
       "      <td>USA</td>\n",
       "      <td>James Cameron</td>\n",
       "      <td>Action</td>\n",
       "      <td>85160248.0</td>\n",
       "      <td>6095.0</td>\n",
       "      <td>NaN</td>\n",
       "      <td>...</td>\n",
       "      <td>R</td>\n",
       "      <td>1986-07-18</td>\n",
       "      <td>137</td>\n",
       "      <td>8.4</td>\n",
       "      <td>6775.0</td>\n",
       "      <td>Sigourney Weaver</td>\n",
       "      <td>540152</td>\n",
       "      <td>James Cameron</td>\n",
       "      <td>1986</td>\n",
       "      <td>1.0</td>\n",
       "    </tr>\n",
       "    <tr>\n",
       "      <th>4</th>\n",
       "      <td>0.630507</td>\n",
       "      <td>NaN</td>\n",
       "      <td>9000000.0</td>\n",
       "      <td>Walt Disney Pictures</td>\n",
       "      <td>USA</td>\n",
       "      <td>Randal Kleiser</td>\n",
       "      <td>Adventure</td>\n",
       "      <td>18564613.0</td>\n",
       "      <td>3996.0</td>\n",
       "      <td>NaN</td>\n",
       "      <td>...</td>\n",
       "      <td>PG</td>\n",
       "      <td>1986-08-01</td>\n",
       "      <td>90</td>\n",
       "      <td>6.9</td>\n",
       "      <td>4651.5</td>\n",
       "      <td>Joey Cramer</td>\n",
       "      <td>36636</td>\n",
       "      <td>Mark H. Baker</td>\n",
       "      <td>1986</td>\n",
       "      <td>NaN</td>\n",
       "    </tr>\n",
       "  </tbody>\n",
       "</table>\n",
       "<p>5 rows × 21 columns</p>\n",
       "</div>"
      ],
      "text/plain": [
       "    HarMean  Oscar_wins      budget                                 company  \\\n",
       "0  0.884794         NaN   8000000.0           Columbia Pictures Corporation   \n",
       "1  0.901333         NaN   6000000.0                      Paramount Pictures   \n",
       "2  0.801096         NaN  15000000.0                      Paramount Pictures   \n",
       "3  0.941311         NaN  18500000.0  Twentieth Century Fox Film Corporation   \n",
       "4  0.630507         NaN   9000000.0                    Walt Disney Pictures   \n",
       "\n",
       "  country        director      genre        gross  grossRank movie_name  \\\n",
       "0     USA      Rob Reiner  Adventure   52287414.0     5495.0        NaN   \n",
       "1     USA     John Hughes     Comedy   70136369.0     5878.0        NaN   \n",
       "2     USA      Tony Scott     Action  179800601.0     6613.0        NaN   \n",
       "3     USA   James Cameron     Action   85160248.0     6095.0        NaN   \n",
       "4     USA  Randal Kleiser  Adventure   18564613.0     3996.0        NaN   \n",
       "\n",
       "      ...     rating   released runtime  score  scoreRank               star  \\\n",
       "0     ...          R 1986-08-22      89    8.1     6685.0        Wil Wheaton   \n",
       "1     ...      PG-13 1986-06-11     103    7.8     6436.5  Matthew Broderick   \n",
       "2     ...         PG 1986-05-16     110    6.9     4651.5         Tom Cruise   \n",
       "3     ...          R 1986-07-18     137    8.4     6775.0   Sigourney Weaver   \n",
       "4     ...         PG 1986-08-01      90    6.9     4651.5        Joey Cramer   \n",
       "\n",
       "    votes         writer  year  Oscar_noms  \n",
       "0  299174   Stephen King  1986         NaN  \n",
       "1  264740    John Hughes  1986         NaN  \n",
       "2  236909       Jim Cash  1986         NaN  \n",
       "3  540152  James Cameron  1986         1.0  \n",
       "4   36636  Mark H. Baker  1986         NaN  \n",
       "\n",
       "[5 rows x 21 columns]"
      ]
     },
     "execution_count": 21,
     "metadata": {},
     "output_type": "execute_result"
    }
   ],
   "source": [
    "oscarMovies.head()"
   ]
  },
  {
   "cell_type": "markdown",
   "metadata": {},
   "source": [
    "The dataset has now one more column than before and that is the Oscar_Nom column. We now have both the Oscar wins and Oscar nominations a single dataset.\n",
    "\n",
    "Now we changed the NaN values in the Oscar wins and nominations columns with 0 as they have no wins or nominations by default.\n"
   ]
  },
  {
   "cell_type": "code",
   "execution_count": 22,
   "metadata": {
    "collapsed": true
   },
   "outputs": [],
   "source": [
    "oscarMovies['Oscar_noms']=oscarMovies['Oscar_noms'].fillna('0')#replace all NaN values with 0"
   ]
  },
  {
   "cell_type": "code",
   "execution_count": 23,
   "metadata": {
    "collapsed": true
   },
   "outputs": [],
   "source": [
    "oscarMovies['Oscar_wins']=oscarMovies['Oscar_wins'].fillna('0')#replace all NaN values with 0"
   ]
  },
  {
   "cell_type": "code",
   "execution_count": 24,
   "metadata": {},
   "outputs": [
    {
     "data": {
      "text/html": [
       "<div>\n",
       "<style>\n",
       "    .dataframe thead tr:only-child th {\n",
       "        text-align: right;\n",
       "    }\n",
       "\n",
       "    .dataframe thead th {\n",
       "        text-align: left;\n",
       "    }\n",
       "\n",
       "    .dataframe tbody tr th {\n",
       "        vertical-align: top;\n",
       "    }\n",
       "</style>\n",
       "<table border=\"1\" class=\"dataframe\">\n",
       "  <thead>\n",
       "    <tr style=\"text-align: right;\">\n",
       "      <th></th>\n",
       "      <th>HarMean</th>\n",
       "      <th>Oscar_wins</th>\n",
       "      <th>budget</th>\n",
       "      <th>company</th>\n",
       "      <th>country</th>\n",
       "      <th>director</th>\n",
       "      <th>genre</th>\n",
       "      <th>gross</th>\n",
       "      <th>grossRank</th>\n",
       "      <th>movie_name</th>\n",
       "      <th>...</th>\n",
       "      <th>rating</th>\n",
       "      <th>released</th>\n",
       "      <th>runtime</th>\n",
       "      <th>score</th>\n",
       "      <th>scoreRank</th>\n",
       "      <th>star</th>\n",
       "      <th>votes</th>\n",
       "      <th>writer</th>\n",
       "      <th>year</th>\n",
       "      <th>Oscar_noms</th>\n",
       "    </tr>\n",
       "  </thead>\n",
       "  <tbody>\n",
       "    <tr>\n",
       "      <th>0</th>\n",
       "      <td>0.884794</td>\n",
       "      <td>0</td>\n",
       "      <td>8000000.0</td>\n",
       "      <td>Columbia Pictures Corporation</td>\n",
       "      <td>USA</td>\n",
       "      <td>Rob Reiner</td>\n",
       "      <td>Adventure</td>\n",
       "      <td>52287414.0</td>\n",
       "      <td>5495.0</td>\n",
       "      <td>NaN</td>\n",
       "      <td>...</td>\n",
       "      <td>R</td>\n",
       "      <td>1986-08-22</td>\n",
       "      <td>89</td>\n",
       "      <td>8.1</td>\n",
       "      <td>6685.0</td>\n",
       "      <td>Wil Wheaton</td>\n",
       "      <td>299174</td>\n",
       "      <td>Stephen King</td>\n",
       "      <td>1986</td>\n",
       "      <td>0</td>\n",
       "    </tr>\n",
       "    <tr>\n",
       "      <th>1</th>\n",
       "      <td>0.901333</td>\n",
       "      <td>0</td>\n",
       "      <td>6000000.0</td>\n",
       "      <td>Paramount Pictures</td>\n",
       "      <td>USA</td>\n",
       "      <td>John Hughes</td>\n",
       "      <td>Comedy</td>\n",
       "      <td>70136369.0</td>\n",
       "      <td>5878.0</td>\n",
       "      <td>NaN</td>\n",
       "      <td>...</td>\n",
       "      <td>PG-13</td>\n",
       "      <td>1986-06-11</td>\n",
       "      <td>103</td>\n",
       "      <td>7.8</td>\n",
       "      <td>6436.5</td>\n",
       "      <td>Matthew Broderick</td>\n",
       "      <td>264740</td>\n",
       "      <td>John Hughes</td>\n",
       "      <td>1986</td>\n",
       "      <td>0</td>\n",
       "    </tr>\n",
       "    <tr>\n",
       "      <th>2</th>\n",
       "      <td>0.801096</td>\n",
       "      <td>0</td>\n",
       "      <td>15000000.0</td>\n",
       "      <td>Paramount Pictures</td>\n",
       "      <td>USA</td>\n",
       "      <td>Tony Scott</td>\n",
       "      <td>Action</td>\n",
       "      <td>179800601.0</td>\n",
       "      <td>6613.0</td>\n",
       "      <td>NaN</td>\n",
       "      <td>...</td>\n",
       "      <td>PG</td>\n",
       "      <td>1986-05-16</td>\n",
       "      <td>110</td>\n",
       "      <td>6.9</td>\n",
       "      <td>4651.5</td>\n",
       "      <td>Tom Cruise</td>\n",
       "      <td>236909</td>\n",
       "      <td>Jim Cash</td>\n",
       "      <td>1986</td>\n",
       "      <td>0</td>\n",
       "    </tr>\n",
       "    <tr>\n",
       "      <th>3</th>\n",
       "      <td>0.941311</td>\n",
       "      <td>0</td>\n",
       "      <td>18500000.0</td>\n",
       "      <td>Twentieth Century Fox Film Corporation</td>\n",
       "      <td>USA</td>\n",
       "      <td>James Cameron</td>\n",
       "      <td>Action</td>\n",
       "      <td>85160248.0</td>\n",
       "      <td>6095.0</td>\n",
       "      <td>NaN</td>\n",
       "      <td>...</td>\n",
       "      <td>R</td>\n",
       "      <td>1986-07-18</td>\n",
       "      <td>137</td>\n",
       "      <td>8.4</td>\n",
       "      <td>6775.0</td>\n",
       "      <td>Sigourney Weaver</td>\n",
       "      <td>540152</td>\n",
       "      <td>James Cameron</td>\n",
       "      <td>1986</td>\n",
       "      <td>1</td>\n",
       "    </tr>\n",
       "    <tr>\n",
       "      <th>4</th>\n",
       "      <td>0.630507</td>\n",
       "      <td>0</td>\n",
       "      <td>9000000.0</td>\n",
       "      <td>Walt Disney Pictures</td>\n",
       "      <td>USA</td>\n",
       "      <td>Randal Kleiser</td>\n",
       "      <td>Adventure</td>\n",
       "      <td>18564613.0</td>\n",
       "      <td>3996.0</td>\n",
       "      <td>NaN</td>\n",
       "      <td>...</td>\n",
       "      <td>PG</td>\n",
       "      <td>1986-08-01</td>\n",
       "      <td>90</td>\n",
       "      <td>6.9</td>\n",
       "      <td>4651.5</td>\n",
       "      <td>Joey Cramer</td>\n",
       "      <td>36636</td>\n",
       "      <td>Mark H. Baker</td>\n",
       "      <td>1986</td>\n",
       "      <td>0</td>\n",
       "    </tr>\n",
       "  </tbody>\n",
       "</table>\n",
       "<p>5 rows × 21 columns</p>\n",
       "</div>"
      ],
      "text/plain": [
       "    HarMean Oscar_wins      budget                                 company  \\\n",
       "0  0.884794          0   8000000.0           Columbia Pictures Corporation   \n",
       "1  0.901333          0   6000000.0                      Paramount Pictures   \n",
       "2  0.801096          0  15000000.0                      Paramount Pictures   \n",
       "3  0.941311          0  18500000.0  Twentieth Century Fox Film Corporation   \n",
       "4  0.630507          0   9000000.0                    Walt Disney Pictures   \n",
       "\n",
       "  country        director      genre        gross  grossRank movie_name  \\\n",
       "0     USA      Rob Reiner  Adventure   52287414.0     5495.0        NaN   \n",
       "1     USA     John Hughes     Comedy   70136369.0     5878.0        NaN   \n",
       "2     USA      Tony Scott     Action  179800601.0     6613.0        NaN   \n",
       "3     USA   James Cameron     Action   85160248.0     6095.0        NaN   \n",
       "4     USA  Randal Kleiser  Adventure   18564613.0     3996.0        NaN   \n",
       "\n",
       "      ...     rating   released runtime  score  scoreRank               star  \\\n",
       "0     ...          R 1986-08-22      89    8.1     6685.0        Wil Wheaton   \n",
       "1     ...      PG-13 1986-06-11     103    7.8     6436.5  Matthew Broderick   \n",
       "2     ...         PG 1986-05-16     110    6.9     4651.5         Tom Cruise   \n",
       "3     ...          R 1986-07-18     137    8.4     6775.0   Sigourney Weaver   \n",
       "4     ...         PG 1986-08-01      90    6.9     4651.5        Joey Cramer   \n",
       "\n",
       "    votes         writer  year  Oscar_noms  \n",
       "0  299174   Stephen King  1986           0  \n",
       "1  264740    John Hughes  1986           0  \n",
       "2  236909       Jim Cash  1986           0  \n",
       "3  540152  James Cameron  1986           1  \n",
       "4   36636  Mark H. Baker  1986           0  \n",
       "\n",
       "[5 rows x 21 columns]"
      ]
     },
     "execution_count": 24,
     "metadata": {},
     "output_type": "execute_result"
    }
   ],
   "source": [
    "oscarMovies.head()"
   ]
  },
  {
   "cell_type": "markdown",
   "metadata": {},
   "source": [
    "One of the final steps in preparing this dataset was to remove the columns that did not contain the key information we needed to preform our analysis. This was just a way to clean up the dataset further."
   ]
  },
  {
   "cell_type": "code",
   "execution_count": 25,
   "metadata": {
    "collapsed": true
   },
   "outputs": [],
   "source": [
    " oscarMovies = oscarMovies.drop(['movie_name','company','released','country','rating','genre','runtime','votes','writer'], axis=1)"
   ]
  },
  {
   "cell_type": "code",
   "execution_count": 26,
   "metadata": {},
   "outputs": [
    {
     "data": {
      "text/html": [
       "<div>\n",
       "<style>\n",
       "    .dataframe thead tr:only-child th {\n",
       "        text-align: right;\n",
       "    }\n",
       "\n",
       "    .dataframe thead th {\n",
       "        text-align: left;\n",
       "    }\n",
       "\n",
       "    .dataframe tbody tr th {\n",
       "        vertical-align: top;\n",
       "    }\n",
       "</style>\n",
       "<table border=\"1\" class=\"dataframe\">\n",
       "  <thead>\n",
       "    <tr style=\"text-align: right;\">\n",
       "      <th></th>\n",
       "      <th>HarMean</th>\n",
       "      <th>Oscar_wins</th>\n",
       "      <th>budget</th>\n",
       "      <th>director</th>\n",
       "      <th>gross</th>\n",
       "      <th>grossRank</th>\n",
       "      <th>name</th>\n",
       "      <th>score</th>\n",
       "      <th>scoreRank</th>\n",
       "      <th>star</th>\n",
       "      <th>year</th>\n",
       "      <th>Oscar_noms</th>\n",
       "    </tr>\n",
       "  </thead>\n",
       "  <tbody>\n",
       "    <tr>\n",
       "      <th>0</th>\n",
       "      <td>0.884794</td>\n",
       "      <td>0</td>\n",
       "      <td>8000000.0</td>\n",
       "      <td>Rob Reiner</td>\n",
       "      <td>52287414.0</td>\n",
       "      <td>5495.0</td>\n",
       "      <td>Stand by Me</td>\n",
       "      <td>8.1</td>\n",
       "      <td>6685.0</td>\n",
       "      <td>Wil Wheaton</td>\n",
       "      <td>1986</td>\n",
       "      <td>0</td>\n",
       "    </tr>\n",
       "    <tr>\n",
       "      <th>1</th>\n",
       "      <td>0.901333</td>\n",
       "      <td>0</td>\n",
       "      <td>6000000.0</td>\n",
       "      <td>John Hughes</td>\n",
       "      <td>70136369.0</td>\n",
       "      <td>5878.0</td>\n",
       "      <td>Ferris Bueller's Day Off</td>\n",
       "      <td>7.8</td>\n",
       "      <td>6436.5</td>\n",
       "      <td>Matthew Broderick</td>\n",
       "      <td>1986</td>\n",
       "      <td>0</td>\n",
       "    </tr>\n",
       "    <tr>\n",
       "      <th>2</th>\n",
       "      <td>0.801096</td>\n",
       "      <td>0</td>\n",
       "      <td>15000000.0</td>\n",
       "      <td>Tony Scott</td>\n",
       "      <td>179800601.0</td>\n",
       "      <td>6613.0</td>\n",
       "      <td>Top Gun</td>\n",
       "      <td>6.9</td>\n",
       "      <td>4651.5</td>\n",
       "      <td>Tom Cruise</td>\n",
       "      <td>1986</td>\n",
       "      <td>0</td>\n",
       "    </tr>\n",
       "    <tr>\n",
       "      <th>3</th>\n",
       "      <td>0.941311</td>\n",
       "      <td>0</td>\n",
       "      <td>18500000.0</td>\n",
       "      <td>James Cameron</td>\n",
       "      <td>85160248.0</td>\n",
       "      <td>6095.0</td>\n",
       "      <td>Aliens</td>\n",
       "      <td>8.4</td>\n",
       "      <td>6775.0</td>\n",
       "      <td>Sigourney Weaver</td>\n",
       "      <td>1986</td>\n",
       "      <td>1</td>\n",
       "    </tr>\n",
       "    <tr>\n",
       "      <th>4</th>\n",
       "      <td>0.630507</td>\n",
       "      <td>0</td>\n",
       "      <td>9000000.0</td>\n",
       "      <td>Randal Kleiser</td>\n",
       "      <td>18564613.0</td>\n",
       "      <td>3996.0</td>\n",
       "      <td>Flight of the Navigator</td>\n",
       "      <td>6.9</td>\n",
       "      <td>4651.5</td>\n",
       "      <td>Joey Cramer</td>\n",
       "      <td>1986</td>\n",
       "      <td>0</td>\n",
       "    </tr>\n",
       "  </tbody>\n",
       "</table>\n",
       "</div>"
      ],
      "text/plain": [
       "    HarMean Oscar_wins      budget        director        gross  grossRank  \\\n",
       "0  0.884794          0   8000000.0      Rob Reiner   52287414.0     5495.0   \n",
       "1  0.901333          0   6000000.0     John Hughes   70136369.0     5878.0   \n",
       "2  0.801096          0  15000000.0      Tony Scott  179800601.0     6613.0   \n",
       "3  0.941311          0  18500000.0   James Cameron   85160248.0     6095.0   \n",
       "4  0.630507          0   9000000.0  Randal Kleiser   18564613.0     3996.0   \n",
       "\n",
       "                       name  score  scoreRank               star  year  \\\n",
       "0               Stand by Me    8.1     6685.0        Wil Wheaton  1986   \n",
       "1  Ferris Bueller's Day Off    7.8     6436.5  Matthew Broderick  1986   \n",
       "2                   Top Gun    6.9     4651.5         Tom Cruise  1986   \n",
       "3                    Aliens    8.4     6775.0   Sigourney Weaver  1986   \n",
       "4   Flight of the Navigator    6.9     4651.5        Joey Cramer  1986   \n",
       "\n",
       "  Oscar_noms  \n",
       "0          0  \n",
       "1          0  \n",
       "2          0  \n",
       "3          1  \n",
       "4          0  "
      ]
     },
     "execution_count": 26,
     "metadata": {},
     "output_type": "execute_result"
    }
   ],
   "source": [
    "oscarMovies.head()"
   ]
  },
  {
   "cell_type": "code",
   "execution_count": 27,
   "metadata": {},
   "outputs": [
    {
     "data": {
      "text/plain": [
       "(6731, 12)"
      ]
     },
     "execution_count": 27,
     "metadata": {},
     "output_type": "execute_result"
    }
   ],
   "source": [
    "oscarMovies.shape"
   ]
  },
  {
   "cell_type": "markdown",
   "metadata": {},
   "source": [
    "We also changed the type of our oscar win/nomination columns to make the analysis easier later."
   ]
  },
  {
   "cell_type": "code",
   "execution_count": 28,
   "metadata": {
    "collapsed": true
   },
   "outputs": [],
   "source": [
    "oscarMovies.Oscar_noms = oscarMovies.Oscar_noms.astype(np.int64)#changing the type of the column to ints\n",
    "oscarMovies.Oscar_wins = oscarMovies.Oscar_wins.astype(np.int64)"
   ]
  },
  {
   "cell_type": "code",
   "execution_count": 29,
   "metadata": {},
   "outputs": [
    {
     "data": {
      "text/plain": [
       "HarMean       float64\n",
       "Oscar_wins      int64\n",
       "budget        float64\n",
       "director       object\n",
       "gross         float64\n",
       "grossRank     float64\n",
       "name           object\n",
       "score         float64\n",
       "scoreRank     float64\n",
       "star           object\n",
       "year            int64\n",
       "Oscar_noms      int64\n",
       "dtype: object"
      ]
     },
     "execution_count": 29,
     "metadata": {},
     "output_type": "execute_result"
    }
   ],
   "source": [
    "oscarMovies.dtypes"
   ]
  },
  {
   "cell_type": "markdown",
   "metadata": {},
   "source": [
    "Then we save the file to pickle."
   ]
  },
  {
   "cell_type": "code",
   "execution_count": 30,
   "metadata": {
    "collapsed": true
   },
   "outputs": [],
   "source": [
    "oscarMovies.to_pickle('../../data/analysis/oscarMovies.pkl')#saves to pickle file"
   ]
  },
  {
   "cell_type": "code",
   "execution_count": null,
   "metadata": {
    "collapsed": true
   },
   "outputs": [],
   "source": []
  }
 ],
 "metadata": {
  "kernelspec": {
   "display_name": "Python 3",
   "language": "python",
   "name": "python3"
  },
  "language_info": {
   "codemirror_mode": {
    "name": "ipython",
    "version": 3
   },
   "file_extension": ".py",
   "mimetype": "text/x-python",
   "name": "python",
   "nbconvert_exporter": "python",
   "pygments_lexer": "ipython3",
   "version": "3.6.3"
  }
 },
 "nbformat": 4,
 "nbformat_minor": 2
}

{
 "cells": [
  {
   "cell_type": "markdown",
   "metadata": {},
   "source": [
    "# 300_Oscar_Prep\n",
    "\n",
    "\n",
    "## Purpose\n",
    "The purpose of this data set is to load in our data and prepare it for analysis.\n",
    "\n",
    "## Datasets\n",
    "\n",
    " - input: academy_awards.csv\n",
    " - output: wins.pkl, noms.pkl"
   ]
  },
  {
   "cell_type": "markdown",
   "metadata": {},
   "source": [
    "# Loading the data"
   ]
  },
  {
   "cell_type": "code",
   "execution_count": 1,
   "metadata": {
    "collapsed": true
   },
   "outputs": [],
   "source": [
    "import os.path\n",
    "import pandas as pd"
   ]
  },
  {
   "cell_type": "code",
   "execution_count": 2,
   "metadata": {
    "collapsed": true
   },
   "outputs": [],
   "source": [
    "awards = pd.read_csv('../../data/raw/academy_awards.csv',  encoding='latin-1')"
   ]
  },
  {
   "cell_type": "code",
   "execution_count": 3,
   "metadata": {},
   "outputs": [
    {
     "data": {
      "text/html": [
       "<div>\n",
       "<style>\n",
       "    .dataframe thead tr:only-child th {\n",
       "        text-align: right;\n",
       "    }\n",
       "\n",
       "    .dataframe thead th {\n",
       "        text-align: left;\n",
       "    }\n",
       "\n",
       "    .dataframe tbody tr th {\n",
       "        vertical-align: top;\n",
       "    }\n",
       "</style>\n",
       "<table border=\"1\" class=\"dataframe\">\n",
       "  <thead>\n",
       "    <tr style=\"text-align: right;\">\n",
       "      <th></th>\n",
       "      <th>Year</th>\n",
       "      <th>Category</th>\n",
       "      <th>Nominee</th>\n",
       "      <th>Additional Info</th>\n",
       "      <th>Won?</th>\n",
       "      <th>Unnamed: 5</th>\n",
       "      <th>Unnamed: 6</th>\n",
       "      <th>Unnamed: 7</th>\n",
       "      <th>Unnamed: 8</th>\n",
       "      <th>Unnamed: 9</th>\n",
       "      <th>Unnamed: 10</th>\n",
       "    </tr>\n",
       "  </thead>\n",
       "  <tbody>\n",
       "    <tr>\n",
       "      <th>0</th>\n",
       "      <td>2010 (83rd)</td>\n",
       "      <td>Actor -- Leading Role</td>\n",
       "      <td>Javier Bardem</td>\n",
       "      <td>Biutiful {'Uxbal'}</td>\n",
       "      <td>NO</td>\n",
       "      <td>NaN</td>\n",
       "      <td>NaN</td>\n",
       "      <td>NaN</td>\n",
       "      <td>NaN</td>\n",
       "      <td>NaN</td>\n",
       "      <td>NaN</td>\n",
       "    </tr>\n",
       "    <tr>\n",
       "      <th>1</th>\n",
       "      <td>2010 (83rd)</td>\n",
       "      <td>Actor -- Leading Role</td>\n",
       "      <td>Jeff Bridges</td>\n",
       "      <td>True Grit {'Rooster Cogburn'}</td>\n",
       "      <td>NO</td>\n",
       "      <td>NaN</td>\n",
       "      <td>NaN</td>\n",
       "      <td>NaN</td>\n",
       "      <td>NaN</td>\n",
       "      <td>NaN</td>\n",
       "      <td>NaN</td>\n",
       "    </tr>\n",
       "    <tr>\n",
       "      <th>2</th>\n",
       "      <td>2010 (83rd)</td>\n",
       "      <td>Actor -- Leading Role</td>\n",
       "      <td>Jesse Eisenberg</td>\n",
       "      <td>The Social Network {'Mark Zuckerberg'}</td>\n",
       "      <td>NO</td>\n",
       "      <td>NaN</td>\n",
       "      <td>NaN</td>\n",
       "      <td>NaN</td>\n",
       "      <td>NaN</td>\n",
       "      <td>NaN</td>\n",
       "      <td>NaN</td>\n",
       "    </tr>\n",
       "    <tr>\n",
       "      <th>3</th>\n",
       "      <td>2010 (83rd)</td>\n",
       "      <td>Actor -- Leading Role</td>\n",
       "      <td>Colin Firth</td>\n",
       "      <td>The King's Speech {'King George VI'}</td>\n",
       "      <td>YES</td>\n",
       "      <td>NaN</td>\n",
       "      <td>NaN</td>\n",
       "      <td>NaN</td>\n",
       "      <td>NaN</td>\n",
       "      <td>NaN</td>\n",
       "      <td>NaN</td>\n",
       "    </tr>\n",
       "    <tr>\n",
       "      <th>4</th>\n",
       "      <td>2010 (83rd)</td>\n",
       "      <td>Actor -- Leading Role</td>\n",
       "      <td>James Franco</td>\n",
       "      <td>127 Hours {'Aron Ralston'}</td>\n",
       "      <td>NO</td>\n",
       "      <td>NaN</td>\n",
       "      <td>NaN</td>\n",
       "      <td>NaN</td>\n",
       "      <td>NaN</td>\n",
       "      <td>NaN</td>\n",
       "      <td>NaN</td>\n",
       "    </tr>\n",
       "  </tbody>\n",
       "</table>\n",
       "</div>"
      ],
      "text/plain": [
       "          Year               Category          Nominee  \\\n",
       "0  2010 (83rd)  Actor -- Leading Role    Javier Bardem   \n",
       "1  2010 (83rd)  Actor -- Leading Role     Jeff Bridges   \n",
       "2  2010 (83rd)  Actor -- Leading Role  Jesse Eisenberg   \n",
       "3  2010 (83rd)  Actor -- Leading Role      Colin Firth   \n",
       "4  2010 (83rd)  Actor -- Leading Role     James Franco   \n",
       "\n",
       "                          Additional Info Won? Unnamed: 5 Unnamed: 6  \\\n",
       "0                      Biutiful {'Uxbal'}   NO        NaN        NaN   \n",
       "1           True Grit {'Rooster Cogburn'}   NO        NaN        NaN   \n",
       "2  The Social Network {'Mark Zuckerberg'}   NO        NaN        NaN   \n",
       "3    The King's Speech {'King George VI'}  YES        NaN        NaN   \n",
       "4              127 Hours {'Aron Ralston'}   NO        NaN        NaN   \n",
       "\n",
       "  Unnamed: 7 Unnamed: 8 Unnamed: 9 Unnamed: 10  \n",
       "0        NaN        NaN        NaN         NaN  \n",
       "1        NaN        NaN        NaN         NaN  \n",
       "2        NaN        NaN        NaN         NaN  \n",
       "3        NaN        NaN        NaN         NaN  \n",
       "4        NaN        NaN        NaN         NaN  "
      ]
     },
     "execution_count": 3,
     "metadata": {},
     "output_type": "execute_result"
    }
   ],
   "source": [
    "awards.head()"
   ]
  },
  {
   "cell_type": "markdown",
   "metadata": {},
   "source": [
    "Looking at the initial data that we have we can see that we have, what appears to be, 6 empty columns in the dataset. We'll take a closer look at these columns."
   ]
  },
  {
   "cell_type": "code",
   "execution_count": 4,
   "metadata": {},
   "outputs": [
    {
     "data": {
      "text/plain": [
       "False    10126\n",
       "True        11\n",
       "Name: Unnamed: 5, dtype: int64"
      ]
     },
     "execution_count": 4,
     "metadata": {},
     "output_type": "execute_result"
    }
   ],
   "source": [
    "awards['Unnamed: 5'].notnull().value_counts()"
   ]
  },
  {
   "cell_type": "markdown",
   "metadata": {},
   "source": [
    "Right away we see that there are only 11 non-empty rows in the first of these unnamed columns. We will take a look to see what they are."
   ]
  },
  {
   "cell_type": "code",
   "execution_count": 5,
   "metadata": {
    "collapsed": true
   },
   "outputs": [],
   "source": [
    "df = awards[pd.notnull(awards['Unnamed: 5'])]"
   ]
  },
  {
   "cell_type": "code",
   "execution_count": 6,
   "metadata": {},
   "outputs": [
    {
     "data": {
      "text/html": [
       "<div>\n",
       "<style>\n",
       "    .dataframe thead tr:only-child th {\n",
       "        text-align: right;\n",
       "    }\n",
       "\n",
       "    .dataframe thead th {\n",
       "        text-align: left;\n",
       "    }\n",
       "\n",
       "    .dataframe tbody tr th {\n",
       "        vertical-align: top;\n",
       "    }\n",
       "</style>\n",
       "<table border=\"1\" class=\"dataframe\">\n",
       "  <thead>\n",
       "    <tr style=\"text-align: right;\">\n",
       "      <th></th>\n",
       "      <th>Year</th>\n",
       "      <th>Category</th>\n",
       "      <th>Nominee</th>\n",
       "      <th>Additional Info</th>\n",
       "      <th>Won?</th>\n",
       "      <th>Unnamed: 5</th>\n",
       "      <th>Unnamed: 6</th>\n",
       "      <th>Unnamed: 7</th>\n",
       "      <th>Unnamed: 8</th>\n",
       "      <th>Unnamed: 9</th>\n",
       "      <th>Unnamed: 10</th>\n",
       "    </tr>\n",
       "  </thead>\n",
       "  <tbody>\n",
       "    <tr>\n",
       "      <th>132</th>\n",
       "      <td>2010 (83rd)</td>\n",
       "      <td>Scientific and Technical (Technical Achievemen...</td>\n",
       "      <td>To ERIC TABELLION and ARNAULD LAMORLETTE for t...</td>\n",
       "      <td>was shared with the industry in their technic...</td>\n",
       "      <td>NO</td>\n",
       "      <td>*</td>\n",
       "      <td>NaN</td>\n",
       "      <td>NaN</td>\n",
       "      <td>NaN</td>\n",
       "      <td>NaN</td>\n",
       "      <td>NaN</td>\n",
       "    </tr>\n",
       "    <tr>\n",
       "      <th>510</th>\n",
       "      <td>2007 (80th)</td>\n",
       "      <td>Scientific and Technical (Technical Achievemen...</td>\n",
       "      <td>To CHRISTIEN TINSLEY for the creation of the t...</td>\n",
       "      <td>bruises and birthmarks</td>\n",
       "      <td>as well as 3D prosthetic appliances ranging i...</td>\n",
       "      <td>resilience</td>\n",
       "      <td>flexibility and water resistance</td>\n",
       "      <td>while requiring no dangerous solvents. [Syste...</td>\n",
       "      <td>NaN</td>\n",
       "      <td>*</td>\n",
       "      <td>NaN</td>\n",
       "    </tr>\n",
       "    <tr>\n",
       "      <th>1269</th>\n",
       "      <td>2001 (74th)</td>\n",
       "      <td>Scientific and Technical (Scientific and Engin...</td>\n",
       "      <td>To JOHN M. EARGLE, D.B. DON\" KEELE and MARK E....</td>\n",
       "      <td>design and engineering of the modern constant...</td>\n",
       "      <td>direct radiator style motion picture loudspea...</td>\n",
       "      <td>D.B. \"Don\" Keele and Mark E. Engebretson has ...</td>\n",
       "      <td>direct radiator bass style cinema loudspeaker...</td>\n",
       "      <td>NaN</td>\n",
       "      <td>*</td>\n",
       "      <td>NaN</td>\n",
       "      <td>NaN</td>\n",
       "    </tr>\n",
       "    <tr>\n",
       "      <th>1286</th>\n",
       "      <td>2001 (74th)</td>\n",
       "      <td>Scientific and Technical (Technical Achievemen...</td>\n",
       "      <td>To DR. LANCE J. WILLIAMS for his pioneering in...</td>\n",
       "      <td>Pyramidal Parametrics\" and \"View Interpolatio...</td>\n",
       "      <td>NO</td>\n",
       "      <td>*</td>\n",
       "      <td>NaN</td>\n",
       "      <td>NaN</td>\n",
       "      <td>NaN</td>\n",
       "      <td>NaN</td>\n",
       "      <td>NaN</td>\n",
       "    </tr>\n",
       "    <tr>\n",
       "      <th>1287</th>\n",
       "      <td>2001 (74th)</td>\n",
       "      <td>Scientific and Technical (Technical Achievemen...</td>\n",
       "      <td>To DR. UWE SASSENBERG and ROLF SCHNEIDER for t...</td>\n",
       "      <td>an advanced and robust camera and object matc...</td>\n",
       "      <td>which significantly reduces the need for pain...</td>\n",
       "      <td>error-prone measurements on sets. [Digital Im...</td>\n",
       "      <td>NaN</td>\n",
       "      <td>*</td>\n",
       "      <td>NaN</td>\n",
       "      <td>NaN</td>\n",
       "      <td>NaN</td>\n",
       "    </tr>\n",
       "    <tr>\n",
       "      <th>2100</th>\n",
       "      <td>1995 (68th)</td>\n",
       "      <td>Scientific and Technical (Technical Achievemen...</td>\n",
       "      <td>To DAVID PRINGLE and YAN ZHONG FANG for the de...</td>\n",
       "      <td>a flexible, high-performance electronic light...</td>\n",
       "      <td>NO</td>\n",
       "      <td>*</td>\n",
       "      <td>NaN</td>\n",
       "      <td>NaN</td>\n",
       "      <td>NaN</td>\n",
       "      <td>NaN</td>\n",
       "      <td>NaN</td>\n",
       "    </tr>\n",
       "    <tr>\n",
       "      <th>3458</th>\n",
       "      <td>1984 (57th)</td>\n",
       "      <td>Scientific and Technical (Technical Achievemen...</td>\n",
       "      <td>To DONALD TRUMBULL, JONATHAN ERLAND, STEPHEN F...</td>\n",
       "      <td>blue-flux projector for traveling matte compo...</td>\n",
       "      <td>NO</td>\n",
       "      <td>*</td>\n",
       "      <td>NaN</td>\n",
       "      <td>NaN</td>\n",
       "      <td>NaN</td>\n",
       "      <td>NaN</td>\n",
       "      <td>NaN</td>\n",
       "    </tr>\n",
       "    <tr>\n",
       "      <th>7832</th>\n",
       "      <td>1948 (21st)</td>\n",
       "      <td>Honorary Award</td>\n",
       "      <td>To Jean Hersholt - in recognition of his servi...</td>\n",
       "      <td>June 26, 1949, at the Academy building.]</td>\n",
       "      <td>NO</td>\n",
       "      <td>*</td>\n",
       "      <td>NaN</td>\n",
       "      <td>NaN</td>\n",
       "      <td>NaN</td>\n",
       "      <td>NaN</td>\n",
       "      <td>NaN</td>\n",
       "    </tr>\n",
       "    <tr>\n",
       "      <th>7834</th>\n",
       "      <td>1948 (21st)</td>\n",
       "      <td>Scientific and Technical (Scientific and Engin...</td>\n",
       "      <td>To VICTOR CACCIALANZA, MAURICE AYERS and the P...</td>\n",
       "      <td>a new lightweight plaster process for set con...</td>\n",
       "      <td>NO</td>\n",
       "      <td>*</td>\n",
       "      <td>NaN</td>\n",
       "      <td>NaN</td>\n",
       "      <td>NaN</td>\n",
       "      <td>NaN</td>\n",
       "      <td>NaN</td>\n",
       "    </tr>\n",
       "    <tr>\n",
       "      <th>8223</th>\n",
       "      <td>1945 (18th)</td>\n",
       "      <td>Honorary Award</td>\n",
       "      <td>To The House I Live In, tolerance short subjec...</td>\n",
       "      <td>music by Earl Robinson, lyrics by Lewis Allan...</td>\n",
       "      <td>NO</td>\n",
       "      <td>*</td>\n",
       "      <td>NaN</td>\n",
       "      <td>NaN</td>\n",
       "      <td>NaN</td>\n",
       "      <td>NaN</td>\n",
       "      <td>NaN</td>\n",
       "    </tr>\n",
       "    <tr>\n",
       "      <th>9550</th>\n",
       "      <td>1937 (10th)</td>\n",
       "      <td>Honorary Award</td>\n",
       "      <td>To Mack Sennett, for his lasting contribution ...</td>\n",
       "      <td>the basic principles of which are as importan...</td>\n",
       "      <td>the Academy presents a Special Award to that ...</td>\n",
       "      <td>discoverer of stars</td>\n",
       "      <td>sympathetic</td>\n",
       "      <td>kindly</td>\n",
       "      <td>understanding comedy genius - Mack Sennett.\"\"</td>\n",
       "      <td>NaN</td>\n",
       "      <td>*</td>\n",
       "    </tr>\n",
       "  </tbody>\n",
       "</table>\n",
       "</div>"
      ],
      "text/plain": [
       "             Year                                           Category  \\\n",
       "132   2010 (83rd)  Scientific and Technical (Technical Achievemen...   \n",
       "510   2007 (80th)  Scientific and Technical (Technical Achievemen...   \n",
       "1269  2001 (74th)  Scientific and Technical (Scientific and Engin...   \n",
       "1286  2001 (74th)  Scientific and Technical (Technical Achievemen...   \n",
       "1287  2001 (74th)  Scientific and Technical (Technical Achievemen...   \n",
       "2100  1995 (68th)  Scientific and Technical (Technical Achievemen...   \n",
       "3458  1984 (57th)  Scientific and Technical (Technical Achievemen...   \n",
       "7832  1948 (21st)                                     Honorary Award   \n",
       "7834  1948 (21st)  Scientific and Technical (Scientific and Engin...   \n",
       "8223  1945 (18th)                                     Honorary Award   \n",
       "9550  1937 (10th)                                     Honorary Award   \n",
       "\n",
       "                                                Nominee  \\\n",
       "132   To ERIC TABELLION and ARNAULD LAMORLETTE for t...   \n",
       "510   To CHRISTIEN TINSLEY for the creation of the t...   \n",
       "1269  To JOHN M. EARGLE, D.B. DON\" KEELE and MARK E....   \n",
       "1286  To DR. LANCE J. WILLIAMS for his pioneering in...   \n",
       "1287  To DR. UWE SASSENBERG and ROLF SCHNEIDER for t...   \n",
       "2100  To DAVID PRINGLE and YAN ZHONG FANG for the de...   \n",
       "3458  To DONALD TRUMBULL, JONATHAN ERLAND, STEPHEN F...   \n",
       "7832  To Jean Hersholt - in recognition of his servi...   \n",
       "7834  To VICTOR CACCIALANZA, MAURICE AYERS and the P...   \n",
       "8223  To The House I Live In, tolerance short subjec...   \n",
       "9550  To Mack Sennett, for his lasting contribution ...   \n",
       "\n",
       "                                        Additional Info  \\\n",
       "132    was shared with the industry in their technic...   \n",
       "510                              bruises and birthmarks   \n",
       "1269   design and engineering of the modern constant...   \n",
       "1286   Pyramidal Parametrics\" and \"View Interpolatio...   \n",
       "1287   an advanced and robust camera and object matc...   \n",
       "2100   a flexible, high-performance electronic light...   \n",
       "3458   blue-flux projector for traveling matte compo...   \n",
       "7832           June 26, 1949, at the Academy building.]   \n",
       "7834   a new lightweight plaster process for set con...   \n",
       "8223   music by Earl Robinson, lyrics by Lewis Allan...   \n",
       "9550   the basic principles of which are as importan...   \n",
       "\n",
       "                                                   Won?  \\\n",
       "132                                                  NO   \n",
       "510    as well as 3D prosthetic appliances ranging i...   \n",
       "1269   direct radiator style motion picture loudspea...   \n",
       "1286                                                 NO   \n",
       "1287   which significantly reduces the need for pain...   \n",
       "2100                                                 NO   \n",
       "3458                                                 NO   \n",
       "7832                                                 NO   \n",
       "7834                                                 NO   \n",
       "8223                                                 NO   \n",
       "9550   the Academy presents a Special Award to that ...   \n",
       "\n",
       "                                             Unnamed: 5  \\\n",
       "132                                                   *   \n",
       "510                                          resilience   \n",
       "1269   D.B. \"Don\" Keele and Mark E. Engebretson has ...   \n",
       "1286                                                  *   \n",
       "1287   error-prone measurements on sets. [Digital Im...   \n",
       "2100                                                  *   \n",
       "3458                                                  *   \n",
       "7832                                                  *   \n",
       "7834                                                  *   \n",
       "8223                                                  *   \n",
       "9550                                discoverer of stars   \n",
       "\n",
       "                                             Unnamed: 6  \\\n",
       "132                                                 NaN   \n",
       "510                    flexibility and water resistance   \n",
       "1269   direct radiator bass style cinema loudspeaker...   \n",
       "1286                                                NaN   \n",
       "1287                                                NaN   \n",
       "2100                                                NaN   \n",
       "3458                                                NaN   \n",
       "7832                                                NaN   \n",
       "7834                                                NaN   \n",
       "8223                                                NaN   \n",
       "9550                                        sympathetic   \n",
       "\n",
       "                                             Unnamed: 7  \\\n",
       "132                                                 NaN   \n",
       "510    while requiring no dangerous solvents. [Syste...   \n",
       "1269                                                NaN   \n",
       "1286                                                NaN   \n",
       "1287                                                  *   \n",
       "2100                                                NaN   \n",
       "3458                                                NaN   \n",
       "7832                                                NaN   \n",
       "7834                                                NaN   \n",
       "8223                                                NaN   \n",
       "9550                                             kindly   \n",
       "\n",
       "                                          Unnamed: 8 Unnamed: 9 Unnamed: 10  \n",
       "132                                              NaN        NaN         NaN  \n",
       "510                                              NaN          *         NaN  \n",
       "1269                                               *        NaN         NaN  \n",
       "1286                                             NaN        NaN         NaN  \n",
       "1287                                             NaN        NaN         NaN  \n",
       "2100                                             NaN        NaN         NaN  \n",
       "3458                                             NaN        NaN         NaN  \n",
       "7832                                             NaN        NaN         NaN  \n",
       "7834                                             NaN        NaN         NaN  \n",
       "8223                                             NaN        NaN         NaN  \n",
       "9550   understanding comedy genius - Mack Sennett.\"\"        NaN           *  "
      ]
     },
     "execution_count": 6,
     "metadata": {},
     "output_type": "execute_result"
    }
   ],
   "source": [
    "df"
   ]
  },
  {
   "cell_type": "markdown",
   "metadata": {},
   "source": [
    "Once we take a look at the contents of these columns we can see that they contain some extra information about certain awards. However, as we are only going to look at Nominations in the Acting and Directing column we can ignore this issue will won't be using any off these offending rows.\n",
    "\n",
    "We then can simply drop these extra columns."
   ]
  },
  {
   "cell_type": "code",
   "execution_count": 7,
   "metadata": {
    "collapsed": true
   },
   "outputs": [],
   "source": [
    "awards.drop(['Unnamed: 5', 'Unnamed: 6','Unnamed: 7','Unnamed: 8','Unnamed: 9','Unnamed: 10',], axis=1, inplace=True)"
   ]
  },
  {
   "cell_type": "markdown",
   "metadata": {},
   "source": [
    "We then rename some of our columns to make them more understandable."
   ]
  },
  {
   "cell_type": "code",
   "execution_count": 8,
   "metadata": {
    "collapsed": true
   },
   "outputs": [],
   "source": [
    "awards.rename(columns={'Won?': 'Winner','Additional Info': 'Movie'}, inplace=True)"
   ]
  },
  {
   "cell_type": "code",
   "execution_count": 9,
   "metadata": {},
   "outputs": [
    {
     "data": {
      "text/html": [
       "<div>\n",
       "<style>\n",
       "    .dataframe thead tr:only-child th {\n",
       "        text-align: right;\n",
       "    }\n",
       "\n",
       "    .dataframe thead th {\n",
       "        text-align: left;\n",
       "    }\n",
       "\n",
       "    .dataframe tbody tr th {\n",
       "        vertical-align: top;\n",
       "    }\n",
       "</style>\n",
       "<table border=\"1\" class=\"dataframe\">\n",
       "  <thead>\n",
       "    <tr style=\"text-align: right;\">\n",
       "      <th></th>\n",
       "      <th>Year</th>\n",
       "      <th>Category</th>\n",
       "      <th>Nominee</th>\n",
       "      <th>Movie</th>\n",
       "      <th>Winner</th>\n",
       "    </tr>\n",
       "  </thead>\n",
       "  <tbody>\n",
       "    <tr>\n",
       "      <th>0</th>\n",
       "      <td>2010 (83rd)</td>\n",
       "      <td>Actor -- Leading Role</td>\n",
       "      <td>Javier Bardem</td>\n",
       "      <td>Biutiful {'Uxbal'}</td>\n",
       "      <td>NO</td>\n",
       "    </tr>\n",
       "    <tr>\n",
       "      <th>1</th>\n",
       "      <td>2010 (83rd)</td>\n",
       "      <td>Actor -- Leading Role</td>\n",
       "      <td>Jeff Bridges</td>\n",
       "      <td>True Grit {'Rooster Cogburn'}</td>\n",
       "      <td>NO</td>\n",
       "    </tr>\n",
       "    <tr>\n",
       "      <th>2</th>\n",
       "      <td>2010 (83rd)</td>\n",
       "      <td>Actor -- Leading Role</td>\n",
       "      <td>Jesse Eisenberg</td>\n",
       "      <td>The Social Network {'Mark Zuckerberg'}</td>\n",
       "      <td>NO</td>\n",
       "    </tr>\n",
       "    <tr>\n",
       "      <th>3</th>\n",
       "      <td>2010 (83rd)</td>\n",
       "      <td>Actor -- Leading Role</td>\n",
       "      <td>Colin Firth</td>\n",
       "      <td>The King's Speech {'King George VI'}</td>\n",
       "      <td>YES</td>\n",
       "    </tr>\n",
       "    <tr>\n",
       "      <th>4</th>\n",
       "      <td>2010 (83rd)</td>\n",
       "      <td>Actor -- Leading Role</td>\n",
       "      <td>James Franco</td>\n",
       "      <td>127 Hours {'Aron Ralston'}</td>\n",
       "      <td>NO</td>\n",
       "    </tr>\n",
       "  </tbody>\n",
       "</table>\n",
       "</div>"
      ],
      "text/plain": [
       "          Year               Category          Nominee  \\\n",
       "0  2010 (83rd)  Actor -- Leading Role    Javier Bardem   \n",
       "1  2010 (83rd)  Actor -- Leading Role     Jeff Bridges   \n",
       "2  2010 (83rd)  Actor -- Leading Role  Jesse Eisenberg   \n",
       "3  2010 (83rd)  Actor -- Leading Role      Colin Firth   \n",
       "4  2010 (83rd)  Actor -- Leading Role     James Franco   \n",
       "\n",
       "                                    Movie Winner  \n",
       "0                      Biutiful {'Uxbal'}     NO  \n",
       "1           True Grit {'Rooster Cogburn'}     NO  \n",
       "2  The Social Network {'Mark Zuckerberg'}     NO  \n",
       "3    The King's Speech {'King George VI'}    YES  \n",
       "4              127 Hours {'Aron Ralston'}     NO  "
      ]
     },
     "execution_count": 9,
     "metadata": {},
     "output_type": "execute_result"
    }
   ],
   "source": [
    "awards.head()"
   ]
  },
  {
   "cell_type": "markdown",
   "metadata": {},
   "source": [
    "Our next step is to split our dataset into two datasets. We create a dataset for Oscar winners and one for the Oscar nominations. We'll preform all the subsequent operations on both of these datasets."
   ]
  },
  {
   "cell_type": "code",
   "execution_count": 10,
   "metadata": {
    "collapsed": true
   },
   "outputs": [],
   "source": [
    "oscar_winners =  awards[awards.Winner == 'YES']\n",
    "oscar_nominees =  awards[awards.Winner == 'NO']"
   ]
  },
  {
   "cell_type": "code",
   "execution_count": 11,
   "metadata": {},
   "outputs": [
    {
     "data": {
      "text/html": [
       "<div>\n",
       "<style>\n",
       "    .dataframe thead tr:only-child th {\n",
       "        text-align: right;\n",
       "    }\n",
       "\n",
       "    .dataframe thead th {\n",
       "        text-align: left;\n",
       "    }\n",
       "\n",
       "    .dataframe tbody tr th {\n",
       "        vertical-align: top;\n",
       "    }\n",
       "</style>\n",
       "<table border=\"1\" class=\"dataframe\">\n",
       "  <thead>\n",
       "    <tr style=\"text-align: right;\">\n",
       "      <th></th>\n",
       "      <th>Year</th>\n",
       "      <th>Category</th>\n",
       "      <th>Nominee</th>\n",
       "      <th>Movie</th>\n",
       "      <th>Winner</th>\n",
       "    </tr>\n",
       "  </thead>\n",
       "  <tbody>\n",
       "    <tr>\n",
       "      <th>3</th>\n",
       "      <td>2010 (83rd)</td>\n",
       "      <td>Actor -- Leading Role</td>\n",
       "      <td>Colin Firth</td>\n",
       "      <td>The King's Speech {'King George VI'}</td>\n",
       "      <td>YES</td>\n",
       "    </tr>\n",
       "    <tr>\n",
       "      <th>5</th>\n",
       "      <td>2010 (83rd)</td>\n",
       "      <td>Actor -- Supporting Role</td>\n",
       "      <td>Christian Bale</td>\n",
       "      <td>The Fighter {'Dicky Eklund'}</td>\n",
       "      <td>YES</td>\n",
       "    </tr>\n",
       "    <tr>\n",
       "      <th>13</th>\n",
       "      <td>2010 (83rd)</td>\n",
       "      <td>Actress -- Leading Role</td>\n",
       "      <td>Natalie Portman</td>\n",
       "      <td>Black Swan {'Nina Sayers/The Swan Queen'}</td>\n",
       "      <td>YES</td>\n",
       "    </tr>\n",
       "    <tr>\n",
       "      <th>17</th>\n",
       "      <td>2010 (83rd)</td>\n",
       "      <td>Actress -- Supporting Role</td>\n",
       "      <td>Melissa Leo</td>\n",
       "      <td>The Fighter {'Alice Ward'}</td>\n",
       "      <td>YES</td>\n",
       "    </tr>\n",
       "    <tr>\n",
       "      <th>22</th>\n",
       "      <td>2010 (83rd)</td>\n",
       "      <td>Animated Feature Film</td>\n",
       "      <td>Toy Story 3</td>\n",
       "      <td>Lee Unkrich</td>\n",
       "      <td>YES</td>\n",
       "    </tr>\n",
       "  </tbody>\n",
       "</table>\n",
       "</div>"
      ],
      "text/plain": [
       "           Year                    Category          Nominee  \\\n",
       "3   2010 (83rd)       Actor -- Leading Role      Colin Firth   \n",
       "5   2010 (83rd)    Actor -- Supporting Role   Christian Bale   \n",
       "13  2010 (83rd)     Actress -- Leading Role  Natalie Portman   \n",
       "17  2010 (83rd)  Actress -- Supporting Role      Melissa Leo   \n",
       "22  2010 (83rd)       Animated Feature Film      Toy Story 3   \n",
       "\n",
       "                                        Movie Winner  \n",
       "3        The King's Speech {'King George VI'}    YES  \n",
       "5                The Fighter {'Dicky Eklund'}    YES  \n",
       "13  Black Swan {'Nina Sayers/The Swan Queen'}    YES  \n",
       "17                 The Fighter {'Alice Ward'}    YES  \n",
       "22                                Lee Unkrich    YES  "
      ]
     },
     "execution_count": 11,
     "metadata": {},
     "output_type": "execute_result"
    }
   ],
   "source": [
    "oscar_winners.head()"
   ]
  },
  {
   "cell_type": "markdown",
   "metadata": {},
   "source": [
    "The next step is to have our datasets only containing winners and nominees for the acting and directing categories. We do this by creating individual data frames for each of our target categories (one for Oscar winners, one for Oscar nominations)."
   ]
  },
  {
   "cell_type": "code",
   "execution_count": 12,
   "metadata": {
    "collapsed": true
   },
   "outputs": [],
   "source": [
    "Directing =  oscar_winners[oscar_winners.Category == 'Directing']\n",
    "leadActor =  oscar_winners[oscar_winners.Category == 'Actor -- Leading Role']\n",
    "leadActress =  oscar_winners[oscar_winners.Category == 'Actress -- Leading Role']\n",
    "supportActor =  oscar_winners[oscar_winners.Category == 'Actor -- Supporting Role']\n",
    "supportActress =  oscar_winners[oscar_winners.Category == 'Actress -- Supporting Role']\n",
    "\n",
    "DirectingNom =  oscar_nominees[oscar_nominees.Category == 'Directing']\n",
    "leadActorNom =  oscar_nominees[oscar_nominees.Category == 'Actor -- Leading Role']\n",
    "leadActressNom =  oscar_nominees[oscar_nominees.Category == 'Actress -- Leading Role']\n",
    "supportActorNom =  oscar_nominees[oscar_nominees.Category == 'Actor -- Supporting Role']\n",
    "supportActressNom =  oscar_nominees[oscar_nominees.Category == 'Actress -- Supporting Role']"
   ]
  },
  {
   "cell_type": "markdown",
   "metadata": {},
   "source": [
    "Now that we have gathered the target categories that we're after we can join them together to create our datasets of winners and of nominees."
   ]
  },
  {
   "cell_type": "code",
   "execution_count": 13,
   "metadata": {
    "collapsed": true
   },
   "outputs": [],
   "source": [
    "oscar_win = pd.concat([Directing,leadActor,leadActress,supportActor,supportActress],axis=0,ignore_index=True)\n",
    "\n",
    "oscar_nom = pd.concat([DirectingNom,leadActorNom,leadActressNom,supportActorNom,supportActressNom],axis=0,ignore_index=True)"
   ]
  },
  {
   "cell_type": "code",
   "execution_count": 14,
   "metadata": {},
   "outputs": [
    {
     "data": {
      "text/plain": [
       "(1575, 5)"
      ]
     },
     "execution_count": 14,
     "metadata": {},
     "output_type": "execute_result"
    }
   ],
   "source": [
    "oscar_nom.shape"
   ]
  },
  {
   "cell_type": "code",
   "execution_count": 15,
   "metadata": {},
   "outputs": [
    {
     "data": {
      "text/plain": [
       "(404, 5)"
      ]
     },
     "execution_count": 15,
     "metadata": {},
     "output_type": "execute_result"
    }
   ],
   "source": [
    "oscar_win.shape"
   ]
  },
  {
   "cell_type": "markdown",
   "metadata": {},
   "source": [
    "We can see with a quick look that we have a lot more nominations than wins, which makes sense."
   ]
  },
  {
   "cell_type": "code",
   "execution_count": 16,
   "metadata": {},
   "outputs": [
    {
     "data": {
      "text/html": [
       "<div>\n",
       "<style>\n",
       "    .dataframe thead tr:only-child th {\n",
       "        text-align: right;\n",
       "    }\n",
       "\n",
       "    .dataframe thead th {\n",
       "        text-align: left;\n",
       "    }\n",
       "\n",
       "    .dataframe tbody tr th {\n",
       "        vertical-align: top;\n",
       "    }\n",
       "</style>\n",
       "<table border=\"1\" class=\"dataframe\">\n",
       "  <thead>\n",
       "    <tr style=\"text-align: right;\">\n",
       "      <th></th>\n",
       "      <th>Year</th>\n",
       "      <th>Category</th>\n",
       "      <th>Nominee</th>\n",
       "      <th>Movie</th>\n",
       "      <th>Winner</th>\n",
       "    </tr>\n",
       "  </thead>\n",
       "  <tbody>\n",
       "    <tr>\n",
       "      <th>0</th>\n",
       "      <td>2010 (83rd)</td>\n",
       "      <td>Directing</td>\n",
       "      <td>The King's Speech</td>\n",
       "      <td>Tom Hooper</td>\n",
       "      <td>YES</td>\n",
       "    </tr>\n",
       "    <tr>\n",
       "      <th>1</th>\n",
       "      <td>2009 (82nd)</td>\n",
       "      <td>Directing</td>\n",
       "      <td>The Hurt Locker</td>\n",
       "      <td>Kathryn Bigelow</td>\n",
       "      <td>YES</td>\n",
       "    </tr>\n",
       "    <tr>\n",
       "      <th>85</th>\n",
       "      <td>2010 (83rd)</td>\n",
       "      <td>Actor -- Leading Role</td>\n",
       "      <td>Colin Firth</td>\n",
       "      <td>The King's Speech {'King George VI'}</td>\n",
       "      <td>YES</td>\n",
       "    </tr>\n",
       "    <tr>\n",
       "      <th>86</th>\n",
       "      <td>2009 (82nd)</td>\n",
       "      <td>Actor -- Leading Role</td>\n",
       "      <td>Jeff Bridges</td>\n",
       "      <td>Crazy Heart {'Bad Blake'}</td>\n",
       "      <td>YES</td>\n",
       "    </tr>\n",
       "    <tr>\n",
       "      <th>170</th>\n",
       "      <td>2010 (83rd)</td>\n",
       "      <td>Actress -- Leading Role</td>\n",
       "      <td>Natalie Portman</td>\n",
       "      <td>Black Swan {'Nina Sayers/The Swan Queen'}</td>\n",
       "      <td>YES</td>\n",
       "    </tr>\n",
       "    <tr>\n",
       "      <th>171</th>\n",
       "      <td>2009 (82nd)</td>\n",
       "      <td>Actress -- Leading Role</td>\n",
       "      <td>Sandra Bullock</td>\n",
       "      <td>The Blind Side {'Leigh Anne Tuohy'}</td>\n",
       "      <td>YES</td>\n",
       "    </tr>\n",
       "    <tr>\n",
       "      <th>254</th>\n",
       "      <td>2010 (83rd)</td>\n",
       "      <td>Actor -- Supporting Role</td>\n",
       "      <td>Christian Bale</td>\n",
       "      <td>The Fighter {'Dicky Eklund'}</td>\n",
       "      <td>YES</td>\n",
       "    </tr>\n",
       "    <tr>\n",
       "      <th>255</th>\n",
       "      <td>2009 (82nd)</td>\n",
       "      <td>Actor -- Supporting Role</td>\n",
       "      <td>Christoph Waltz</td>\n",
       "      <td>Inglourious Basterds {'Col. Hans Landa'}</td>\n",
       "      <td>YES</td>\n",
       "    </tr>\n",
       "    <tr>\n",
       "      <th>329</th>\n",
       "      <td>2010 (83rd)</td>\n",
       "      <td>Actress -- Supporting Role</td>\n",
       "      <td>Melissa Leo</td>\n",
       "      <td>The Fighter {'Alice Ward'}</td>\n",
       "      <td>YES</td>\n",
       "    </tr>\n",
       "    <tr>\n",
       "      <th>330</th>\n",
       "      <td>2009 (82nd)</td>\n",
       "      <td>Actress -- Supporting Role</td>\n",
       "      <td>Mo'Nique</td>\n",
       "      <td>Precious: Based on the Novel 'Push' by Sapphir...</td>\n",
       "      <td>YES</td>\n",
       "    </tr>\n",
       "  </tbody>\n",
       "</table>\n",
       "</div>"
      ],
      "text/plain": [
       "            Year                    Category            Nominee  \\\n",
       "0    2010 (83rd)                   Directing  The King's Speech   \n",
       "1    2009 (82nd)                   Directing    The Hurt Locker   \n",
       "85   2010 (83rd)       Actor -- Leading Role        Colin Firth   \n",
       "86   2009 (82nd)       Actor -- Leading Role       Jeff Bridges   \n",
       "170  2010 (83rd)     Actress -- Leading Role    Natalie Portman   \n",
       "171  2009 (82nd)     Actress -- Leading Role     Sandra Bullock   \n",
       "254  2010 (83rd)    Actor -- Supporting Role     Christian Bale   \n",
       "255  2009 (82nd)    Actor -- Supporting Role    Christoph Waltz   \n",
       "329  2010 (83rd)  Actress -- Supporting Role        Melissa Leo   \n",
       "330  2009 (82nd)  Actress -- Supporting Role           Mo'Nique   \n",
       "\n",
       "                                                 Movie Winner  \n",
       "0                                           Tom Hooper    YES  \n",
       "1                                      Kathryn Bigelow    YES  \n",
       "85                The King's Speech {'King George VI'}    YES  \n",
       "86                           Crazy Heart {'Bad Blake'}    YES  \n",
       "170          Black Swan {'Nina Sayers/The Swan Queen'}    YES  \n",
       "171                The Blind Side {'Leigh Anne Tuohy'}    YES  \n",
       "254                       The Fighter {'Dicky Eklund'}    YES  \n",
       "255           Inglourious Basterds {'Col. Hans Landa'}    YES  \n",
       "329                         The Fighter {'Alice Ward'}    YES  \n",
       "330  Precious: Based on the Novel 'Push' by Sapphir...    YES  "
      ]
     },
     "execution_count": 16,
     "metadata": {},
     "output_type": "execute_result"
    }
   ],
   "source": [
    "oscar_win.groupby('Category').head(2)#takes the top 2 results from each category "
   ]
  },
  {
   "cell_type": "markdown",
   "metadata": {},
   "source": [
    "By examining our dataset, we can see that under the directing category we have the directors name in our movie column and our movie in the Nominee column. To fix we can swap the values in the 'Nominee' column and the 'Movie' when the category is directing."
   ]
  },
  {
   "cell_type": "code",
   "execution_count": 17,
   "metadata": {
    "collapsed": true
   },
   "outputs": [],
   "source": [
    "Director_idx = (oscar_win['Category'] == 'Directing')##finding all rows under the directing category.\n",
    "oscar_win.loc[Director_idx,['Nominee','Movie']] = oscar_win.loc[Director_idx,['Movie','Nominee']].values#this esencially swaps the column values for nominees and movies \n",
    "\n",
    "DirectorNom_idx = (oscar_nom['Category'] == 'Directing')\n",
    "oscar_nom.loc[DirectorNom_idx,['Nominee','Movie']] = oscar_nom.loc[DirectorNom_idx,['Movie','Nominee']].values"
   ]
  },
  {
   "cell_type": "code",
   "execution_count": 18,
   "metadata": {},
   "outputs": [
    {
     "data": {
      "text/html": [
       "<div>\n",
       "<style>\n",
       "    .dataframe thead tr:only-child th {\n",
       "        text-align: right;\n",
       "    }\n",
       "\n",
       "    .dataframe thead th {\n",
       "        text-align: left;\n",
       "    }\n",
       "\n",
       "    .dataframe tbody tr th {\n",
       "        vertical-align: top;\n",
       "    }\n",
       "</style>\n",
       "<table border=\"1\" class=\"dataframe\">\n",
       "  <thead>\n",
       "    <tr style=\"text-align: right;\">\n",
       "      <th></th>\n",
       "      <th>Year</th>\n",
       "      <th>Category</th>\n",
       "      <th>Nominee</th>\n",
       "      <th>Movie</th>\n",
       "      <th>Winner</th>\n",
       "    </tr>\n",
       "  </thead>\n",
       "  <tbody>\n",
       "    <tr>\n",
       "      <th>0</th>\n",
       "      <td>2010 (83rd)</td>\n",
       "      <td>Directing</td>\n",
       "      <td>Darren Aronofsky</td>\n",
       "      <td>Black Swan</td>\n",
       "      <td>NO</td>\n",
       "    </tr>\n",
       "    <tr>\n",
       "      <th>1</th>\n",
       "      <td>2010 (83rd)</td>\n",
       "      <td>Directing</td>\n",
       "      <td>David O. Russell</td>\n",
       "      <td>The Fighter</td>\n",
       "      <td>NO</td>\n",
       "    </tr>\n",
       "    <tr>\n",
       "      <th>2</th>\n",
       "      <td>2010 (83rd)</td>\n",
       "      <td>Directing</td>\n",
       "      <td>David Fincher</td>\n",
       "      <td>The Social Network</td>\n",
       "      <td>NO</td>\n",
       "    </tr>\n",
       "    <tr>\n",
       "      <th>325</th>\n",
       "      <td>2010 (83rd)</td>\n",
       "      <td>Actor -- Leading Role</td>\n",
       "      <td>Javier Bardem</td>\n",
       "      <td>Biutiful {'Uxbal'}</td>\n",
       "      <td>NO</td>\n",
       "    </tr>\n",
       "    <tr>\n",
       "      <th>326</th>\n",
       "      <td>2010 (83rd)</td>\n",
       "      <td>Actor -- Leading Role</td>\n",
       "      <td>Jeff Bridges</td>\n",
       "      <td>True Grit {'Rooster Cogburn'}</td>\n",
       "      <td>NO</td>\n",
       "    </tr>\n",
       "    <tr>\n",
       "      <th>327</th>\n",
       "      <td>2010 (83rd)</td>\n",
       "      <td>Actor -- Leading Role</td>\n",
       "      <td>Jesse Eisenberg</td>\n",
       "      <td>The Social Network {'Mark Zuckerberg'}</td>\n",
       "      <td>NO</td>\n",
       "    </tr>\n",
       "    <tr>\n",
       "      <th>648</th>\n",
       "      <td>2010 (83rd)</td>\n",
       "      <td>Actress -- Leading Role</td>\n",
       "      <td>Annette Bening</td>\n",
       "      <td>The Kids Are All Right {'Nic'}</td>\n",
       "      <td>NO</td>\n",
       "    </tr>\n",
       "    <tr>\n",
       "      <th>649</th>\n",
       "      <td>2010 (83rd)</td>\n",
       "      <td>Actress -- Leading Role</td>\n",
       "      <td>Nicole Kidman</td>\n",
       "      <td>Rabbit Hole {'Becca'}</td>\n",
       "      <td>NO</td>\n",
       "    </tr>\n",
       "    <tr>\n",
       "      <th>650</th>\n",
       "      <td>2010 (83rd)</td>\n",
       "      <td>Actress -- Leading Role</td>\n",
       "      <td>Jennifer Lawrence</td>\n",
       "      <td>Winter's Bone {'Ree'}</td>\n",
       "      <td>NO</td>\n",
       "    </tr>\n",
       "    <tr>\n",
       "      <th>975</th>\n",
       "      <td>2010 (83rd)</td>\n",
       "      <td>Actor -- Supporting Role</td>\n",
       "      <td>John Hawkes</td>\n",
       "      <td>Winter's Bone {'Teardrop'}</td>\n",
       "      <td>NO</td>\n",
       "    </tr>\n",
       "    <tr>\n",
       "      <th>976</th>\n",
       "      <td>2010 (83rd)</td>\n",
       "      <td>Actor -- Supporting Role</td>\n",
       "      <td>Jeremy Renner</td>\n",
       "      <td>The Town {'James Coughlin'}</td>\n",
       "      <td>NO</td>\n",
       "    </tr>\n",
       "    <tr>\n",
       "      <th>977</th>\n",
       "      <td>2010 (83rd)</td>\n",
       "      <td>Actor -- Supporting Role</td>\n",
       "      <td>Mark Ruffalo</td>\n",
       "      <td>The Kids Are All Right {'Paul'}</td>\n",
       "      <td>NO</td>\n",
       "    </tr>\n",
       "    <tr>\n",
       "      <th>1275</th>\n",
       "      <td>2010 (83rd)</td>\n",
       "      <td>Actress -- Supporting Role</td>\n",
       "      <td>Amy Adams</td>\n",
       "      <td>The Fighter {'Charlene Fleming'}</td>\n",
       "      <td>NO</td>\n",
       "    </tr>\n",
       "    <tr>\n",
       "      <th>1276</th>\n",
       "      <td>2010 (83rd)</td>\n",
       "      <td>Actress -- Supporting Role</td>\n",
       "      <td>Helena Bonham Carter</td>\n",
       "      <td>The King's Speech {'Queen Elizabeth'}</td>\n",
       "      <td>NO</td>\n",
       "    </tr>\n",
       "    <tr>\n",
       "      <th>1277</th>\n",
       "      <td>2010 (83rd)</td>\n",
       "      <td>Actress -- Supporting Role</td>\n",
       "      <td>Hailee Steinfeld</td>\n",
       "      <td>True Grit {'Mattie Ross'}</td>\n",
       "      <td>NO</td>\n",
       "    </tr>\n",
       "  </tbody>\n",
       "</table>\n",
       "</div>"
      ],
      "text/plain": [
       "             Year                    Category               Nominee  \\\n",
       "0     2010 (83rd)                   Directing      Darren Aronofsky   \n",
       "1     2010 (83rd)                   Directing      David O. Russell   \n",
       "2     2010 (83rd)                   Directing         David Fincher   \n",
       "325   2010 (83rd)       Actor -- Leading Role         Javier Bardem   \n",
       "326   2010 (83rd)       Actor -- Leading Role          Jeff Bridges   \n",
       "327   2010 (83rd)       Actor -- Leading Role       Jesse Eisenberg   \n",
       "648   2010 (83rd)     Actress -- Leading Role        Annette Bening   \n",
       "649   2010 (83rd)     Actress -- Leading Role         Nicole Kidman   \n",
       "650   2010 (83rd)     Actress -- Leading Role     Jennifer Lawrence   \n",
       "975   2010 (83rd)    Actor -- Supporting Role           John Hawkes   \n",
       "976   2010 (83rd)    Actor -- Supporting Role         Jeremy Renner   \n",
       "977   2010 (83rd)    Actor -- Supporting Role          Mark Ruffalo   \n",
       "1275  2010 (83rd)  Actress -- Supporting Role             Amy Adams   \n",
       "1276  2010 (83rd)  Actress -- Supporting Role  Helena Bonham Carter   \n",
       "1277  2010 (83rd)  Actress -- Supporting Role      Hailee Steinfeld   \n",
       "\n",
       "                                       Movie Winner  \n",
       "0                                 Black Swan     NO  \n",
       "1                                The Fighter     NO  \n",
       "2                         The Social Network     NO  \n",
       "325                       Biutiful {'Uxbal'}     NO  \n",
       "326            True Grit {'Rooster Cogburn'}     NO  \n",
       "327   The Social Network {'Mark Zuckerberg'}     NO  \n",
       "648           The Kids Are All Right {'Nic'}     NO  \n",
       "649                    Rabbit Hole {'Becca'}     NO  \n",
       "650                    Winter's Bone {'Ree'}     NO  \n",
       "975               Winter's Bone {'Teardrop'}     NO  \n",
       "976              The Town {'James Coughlin'}     NO  \n",
       "977          The Kids Are All Right {'Paul'}     NO  \n",
       "1275        The Fighter {'Charlene Fleming'}     NO  \n",
       "1276   The King's Speech {'Queen Elizabeth'}     NO  \n",
       "1277               True Grit {'Mattie Ross'}     NO  "
      ]
     },
     "execution_count": 18,
     "metadata": {},
     "output_type": "execute_result"
    }
   ],
   "source": [
    "oscar_nom.groupby('Category').head(3)"
   ]
  },
  {
   "cell_type": "markdown",
   "metadata": {},
   "source": [
    "Now we have all our movies in a single column which is exactly what we need. We then had to consider the extra data that was found after the movie title in the movie column. This was information on the main character in the movie, but we didn't require this information so we had to remove it.\n",
    "\n",
    "We also noticed that in our Year column we also had information about what number award ceremony was taking place, this too was extra information, that we needed to remove.\n"
   ]
  },
  {
   "cell_type": "code",
   "execution_count": 19,
   "metadata": {
    "collapsed": true
   },
   "outputs": [],
   "source": [
    "oscar_win = oscar_win.replace(dict(Movie={'\\ {.*\\}': ''}), regex=True)#takes all characters after and including the '{' and replaces it with nothing. \n",
    "oscar_win = oscar_win.replace(dict(Year={'\\(.*\\)': ''}), regex=True)#takes all characters after and including the '(' and replaces it with nothing.\n",
    "\n",
    "oscar_nom = oscar_nom.replace(dict(Movie={'\\ {.*\\}': ''}), regex=True)#takes all characters after and including the '{' and replaces it with nothing.\n",
    "oscar_nom = oscar_nom.replace(dict(Year={'\\(.*\\)': ''}), regex=True)#takes all characters after and including the '(' and replaces it with nothing."
   ]
  },
  {
   "cell_type": "markdown",
   "metadata": {},
   "source": [
    "Now we check to see if we have any missing data that we may have missed during our preparation of the data."
   ]
  },
  {
   "cell_type": "code",
   "execution_count": 20,
   "metadata": {},
   "outputs": [
    {
     "data": {
      "text/plain": [
       "Year        False\n",
       "Category    False\n",
       "Nominee     False\n",
       "Movie       False\n",
       "Winner      False\n",
       "dtype: bool"
      ]
     },
     "execution_count": 20,
     "metadata": {},
     "output_type": "execute_result"
    }
   ],
   "source": [
    "oscar_nom.isnull().any()"
   ]
  },
  {
   "cell_type": "code",
   "execution_count": 21,
   "metadata": {},
   "outputs": [
    {
     "data": {
      "text/plain": [
       "Year        False\n",
       "Category    False\n",
       "Nominee      True\n",
       "Movie        True\n",
       "Winner      False\n",
       "dtype: bool"
      ]
     },
     "execution_count": 21,
     "metadata": {},
     "output_type": "execute_result"
    }
   ],
   "source": [
    "oscar_win.isnull().any()"
   ]
  },
  {
   "cell_type": "markdown",
   "metadata": {},
   "source": [
    "We find that we have some empty values in our oscar_win data set so we need to find out what they are and remove them. We do this by adding any rows with null values into another dataset."
   ]
  },
  {
   "cell_type": "code",
   "execution_count": 22,
   "metadata": {
    "collapsed": true
   },
   "outputs": [],
   "source": [
    "nans = oscar_win[oscar_win.isnull().any(axis=1)]"
   ]
  },
  {
   "cell_type": "code",
   "execution_count": 23,
   "metadata": {},
   "outputs": [
    {
     "data": {
      "text/html": [
       "<div>\n",
       "<style>\n",
       "    .dataframe thead tr:only-child th {\n",
       "        text-align: right;\n",
       "    }\n",
       "\n",
       "    .dataframe thead th {\n",
       "        text-align: left;\n",
       "    }\n",
       "\n",
       "    .dataframe tbody tr th {\n",
       "        vertical-align: top;\n",
       "    }\n",
       "</style>\n",
       "<table border=\"1\" class=\"dataframe\">\n",
       "  <thead>\n",
       "    <tr style=\"text-align: right;\">\n",
       "      <th></th>\n",
       "      <th>Year</th>\n",
       "      <th>Category</th>\n",
       "      <th>Nominee</th>\n",
       "      <th>Movie</th>\n",
       "      <th>Winner</th>\n",
       "    </tr>\n",
       "  </thead>\n",
       "  <tbody>\n",
       "    <tr>\n",
       "      <th>84</th>\n",
       "      <td>1927/28</td>\n",
       "      <td>Directing</td>\n",
       "      <td>NaN</td>\n",
       "      <td>To Charles Chaplin, for acting, writing, direc...</td>\n",
       "      <td>YES</td>\n",
       "    </tr>\n",
       "    <tr>\n",
       "      <th>169</th>\n",
       "      <td>1927/28</td>\n",
       "      <td>Actor -- Leading Role</td>\n",
       "      <td>To Charles Chaplin, for acting, writing, direc...</td>\n",
       "      <td>NaN</td>\n",
       "      <td>YES</td>\n",
       "    </tr>\n",
       "  </tbody>\n",
       "</table>\n",
       "</div>"
      ],
      "text/plain": [
       "         Year               Category  \\\n",
       "84   1927/28               Directing   \n",
       "169  1927/28   Actor -- Leading Role   \n",
       "\n",
       "                                               Nominee  \\\n",
       "84                                                 NaN   \n",
       "169  To Charles Chaplin, for acting, writing, direc...   \n",
       "\n",
       "                                                 Movie Winner  \n",
       "84   To Charles Chaplin, for acting, writing, direc...    YES  \n",
       "169                                                NaN    YES  "
      ]
     },
     "execution_count": 23,
     "metadata": {},
     "output_type": "execute_result"
    }
   ],
   "source": [
    "nans"
   ]
  },
  {
   "cell_type": "markdown",
   "metadata": {},
   "source": [
    "We now see the cause of the issue, we have two rows with empty values and so we have to remove them. We know the index of these rows now to so we can drop them based on that."
   ]
  },
  {
   "cell_type": "code",
   "execution_count": 24,
   "metadata": {
    "collapsed": true
   },
   "outputs": [],
   "source": [
    "oscar_win = oscar_win.drop([oscar_win.index[84],oscar_win.index[169]])#drops rows based on the index "
   ]
  },
  {
   "cell_type": "code",
   "execution_count": 25,
   "metadata": {},
   "outputs": [
    {
     "data": {
      "text/plain": [
       "(402, 5)"
      ]
     },
     "execution_count": 25,
     "metadata": {},
     "output_type": "execute_result"
    }
   ],
   "source": [
    "oscar_win.shape"
   ]
  },
  {
   "cell_type": "code",
   "execution_count": 26,
   "metadata": {},
   "outputs": [
    {
     "data": {
      "text/plain": [
       "(1575, 5)"
      ]
     },
     "execution_count": 26,
     "metadata": {},
     "output_type": "execute_result"
    }
   ],
   "source": [
    "oscar_nom.shape"
   ]
  },
  {
   "cell_type": "markdown",
   "metadata": {},
   "source": [
    "Finally, we want to create a count of both the wins and nominations each movie recieved. We can do this by counting the number of times the name of a movie occurs in each of our dataset as it must represent a win or a nomination in their respective datasets."
   ]
  },
  {
   "cell_type": "code",
   "execution_count": 27,
   "metadata": {
    "collapsed": true
   },
   "outputs": [],
   "source": [
    "noms = pd.DataFrame({'Oscar_noms':oscar_nom.groupby('Movie').size()})#we group by the title and get the size of each grouping giving us a count of its occurance.\n",
    "wins = pd.DataFrame({'Oscar_wins':oscar_win.groupby('Movie').size()})#we group by the title and get the size of each grouping giving us a count of its occurance."
   ]
  },
  {
   "cell_type": "markdown",
   "metadata": {},
   "source": [
    "As we group by name the name of the movie becomes the index, however we will need a movie name column in order to merge our datasets later so we set a new column to be the movie name."
   ]
  },
  {
   "cell_type": "code",
   "execution_count": 28,
   "metadata": {
    "collapsed": true
   },
   "outputs": [],
   "source": [
    "wins['movie_name'] = wins.index\n",
    "noms['movie_name'] = noms.index"
   ]
  },
  {
   "cell_type": "code",
   "execution_count": 29,
   "metadata": {},
   "outputs": [
    {
     "data": {
      "text/plain": [
       "(1027, 2)"
      ]
     },
     "execution_count": 29,
     "metadata": {},
     "output_type": "execute_result"
    }
   ],
   "source": [
    "noms.shape"
   ]
  },
  {
   "cell_type": "code",
   "execution_count": 30,
   "metadata": {},
   "outputs": [
    {
     "data": {
      "text/plain": [
       "(317, 2)"
      ]
     },
     "execution_count": 30,
     "metadata": {},
     "output_type": "execute_result"
    }
   ],
   "source": [
    "wins.shape"
   ]
  },
  {
   "cell_type": "markdown",
   "metadata": {},
   "source": [
    "The very last thing we do is ensure that there are no trailing white spaces left over because of the operations we performed in our preparation. Then our datasets a prepared."
   ]
  },
  {
   "cell_type": "code",
   "execution_count": 31,
   "metadata": {
    "collapsed": true
   },
   "outputs": [],
   "source": [
    "wins['movie_name'] = wins['movie_name'].map(lambda x: x.strip())#removes extra white spaces"
   ]
  },
  {
   "cell_type": "code",
   "execution_count": 32,
   "metadata": {
    "collapsed": true
   },
   "outputs": [],
   "source": [
    "noms['movie_name'] = noms['movie_name'].map(lambda x: x.strip())"
   ]
  },
  {
   "cell_type": "code",
   "execution_count": 33,
   "metadata": {
    "collapsed": true
   },
   "outputs": [],
   "source": [
    "#stores our datasets to pickle files, so we can use them later.\n",
    "wins.to_pickle('../../data/processed/wins.pkl')\n",
    "noms.to_pickle('../../data/processed/noms.pkl')"
   ]
  },
  {
   "cell_type": "code",
   "execution_count": null,
   "metadata": {
    "collapsed": true
   },
   "outputs": [],
   "source": []
  }
 ],
 "metadata": {
  "kernelspec": {
   "display_name": "Python 3",
   "language": "python",
   "name": "python3"
  },
  "language_info": {
   "codemirror_mode": {
    "name": "ipython",
    "version": 3
   },
   "file_extension": ".py",
   "mimetype": "text/x-python",
   "name": "python",
   "nbconvert_exporter": "python",
   "pygments_lexer": "ipython3",
   "version": "3.6.3"
  }
 },
 "nbformat": 4,
 "nbformat_minor": 2
}

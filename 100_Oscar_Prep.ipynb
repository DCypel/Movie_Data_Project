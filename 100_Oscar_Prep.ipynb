{
 "cells": [
  {
   "cell_type": "code",
   "execution_count": 35,
   "metadata": {
    "collapsed": true
   },
   "outputs": [],
   "source": [
    "import os.path\n",
    "import pandas as pd"
   ]
  },
  {
   "cell_type": "code",
   "execution_count": 36,
   "metadata": {
    "collapsed": true
   },
   "outputs": [],
   "source": [
    "awards = pd.read_csv('academy_awards.csv',  encoding='latin-1')"
   ]
  },
  {
   "cell_type": "code",
   "execution_count": 37,
   "metadata": {},
   "outputs": [
    {
     "data": {
      "text/html": [
       "<div>\n",
       "<style>\n",
       "    .dataframe thead tr:only-child th {\n",
       "        text-align: right;\n",
       "    }\n",
       "\n",
       "    .dataframe thead th {\n",
       "        text-align: left;\n",
       "    }\n",
       "\n",
       "    .dataframe tbody tr th {\n",
       "        vertical-align: top;\n",
       "    }\n",
       "</style>\n",
       "<table border=\"1\" class=\"dataframe\">\n",
       "  <thead>\n",
       "    <tr style=\"text-align: right;\">\n",
       "      <th></th>\n",
       "      <th>Year</th>\n",
       "      <th>Category</th>\n",
       "      <th>Nominee</th>\n",
       "      <th>Additional Info</th>\n",
       "      <th>Won?</th>\n",
       "      <th>Unnamed: 5</th>\n",
       "      <th>Unnamed: 6</th>\n",
       "      <th>Unnamed: 7</th>\n",
       "      <th>Unnamed: 8</th>\n",
       "      <th>Unnamed: 9</th>\n",
       "      <th>Unnamed: 10</th>\n",
       "    </tr>\n",
       "  </thead>\n",
       "  <tbody>\n",
       "    <tr>\n",
       "      <th>0</th>\n",
       "      <td>2010 (83rd)</td>\n",
       "      <td>Actor -- Leading Role</td>\n",
       "      <td>Javier Bardem</td>\n",
       "      <td>Biutiful {'Uxbal'}</td>\n",
       "      <td>NO</td>\n",
       "      <td>NaN</td>\n",
       "      <td>NaN</td>\n",
       "      <td>NaN</td>\n",
       "      <td>NaN</td>\n",
       "      <td>NaN</td>\n",
       "      <td>NaN</td>\n",
       "    </tr>\n",
       "    <tr>\n",
       "      <th>1</th>\n",
       "      <td>2010 (83rd)</td>\n",
       "      <td>Actor -- Leading Role</td>\n",
       "      <td>Jeff Bridges</td>\n",
       "      <td>True Grit {'Rooster Cogburn'}</td>\n",
       "      <td>NO</td>\n",
       "      <td>NaN</td>\n",
       "      <td>NaN</td>\n",
       "      <td>NaN</td>\n",
       "      <td>NaN</td>\n",
       "      <td>NaN</td>\n",
       "      <td>NaN</td>\n",
       "    </tr>\n",
       "    <tr>\n",
       "      <th>2</th>\n",
       "      <td>2010 (83rd)</td>\n",
       "      <td>Actor -- Leading Role</td>\n",
       "      <td>Jesse Eisenberg</td>\n",
       "      <td>The Social Network {'Mark Zuckerberg'}</td>\n",
       "      <td>NO</td>\n",
       "      <td>NaN</td>\n",
       "      <td>NaN</td>\n",
       "      <td>NaN</td>\n",
       "      <td>NaN</td>\n",
       "      <td>NaN</td>\n",
       "      <td>NaN</td>\n",
       "    </tr>\n",
       "    <tr>\n",
       "      <th>3</th>\n",
       "      <td>2010 (83rd)</td>\n",
       "      <td>Actor -- Leading Role</td>\n",
       "      <td>Colin Firth</td>\n",
       "      <td>The King's Speech {'King George VI'}</td>\n",
       "      <td>YES</td>\n",
       "      <td>NaN</td>\n",
       "      <td>NaN</td>\n",
       "      <td>NaN</td>\n",
       "      <td>NaN</td>\n",
       "      <td>NaN</td>\n",
       "      <td>NaN</td>\n",
       "    </tr>\n",
       "    <tr>\n",
       "      <th>4</th>\n",
       "      <td>2010 (83rd)</td>\n",
       "      <td>Actor -- Leading Role</td>\n",
       "      <td>James Franco</td>\n",
       "      <td>127 Hours {'Aron Ralston'}</td>\n",
       "      <td>NO</td>\n",
       "      <td>NaN</td>\n",
       "      <td>NaN</td>\n",
       "      <td>NaN</td>\n",
       "      <td>NaN</td>\n",
       "      <td>NaN</td>\n",
       "      <td>NaN</td>\n",
       "    </tr>\n",
       "  </tbody>\n",
       "</table>\n",
       "</div>"
      ],
      "text/plain": [
       "          Year               Category          Nominee  \\\n",
       "0  2010 (83rd)  Actor -- Leading Role    Javier Bardem   \n",
       "1  2010 (83rd)  Actor -- Leading Role     Jeff Bridges   \n",
       "2  2010 (83rd)  Actor -- Leading Role  Jesse Eisenberg   \n",
       "3  2010 (83rd)  Actor -- Leading Role      Colin Firth   \n",
       "4  2010 (83rd)  Actor -- Leading Role     James Franco   \n",
       "\n",
       "                          Additional Info Won? Unnamed: 5 Unnamed: 6  \\\n",
       "0                      Biutiful {'Uxbal'}   NO        NaN        NaN   \n",
       "1           True Grit {'Rooster Cogburn'}   NO        NaN        NaN   \n",
       "2  The Social Network {'Mark Zuckerberg'}   NO        NaN        NaN   \n",
       "3    The King's Speech {'King George VI'}  YES        NaN        NaN   \n",
       "4              127 Hours {'Aron Ralston'}   NO        NaN        NaN   \n",
       "\n",
       "  Unnamed: 7 Unnamed: 8 Unnamed: 9 Unnamed: 10  \n",
       "0        NaN        NaN        NaN         NaN  \n",
       "1        NaN        NaN        NaN         NaN  \n",
       "2        NaN        NaN        NaN         NaN  \n",
       "3        NaN        NaN        NaN         NaN  \n",
       "4        NaN        NaN        NaN         NaN  "
      ]
     },
     "execution_count": 37,
     "metadata": {},
     "output_type": "execute_result"
    }
   ],
   "source": [
    "awards.head()"
   ]
  },
  {
   "cell_type": "code",
   "execution_count": 38,
   "metadata": {},
   "outputs": [],
   "source": [
    "awards.drop(['Unnamed: 5', 'Unnamed: 6','Unnamed: 7','Unnamed: 8','Unnamed: 9','Unnamed: 10',], axis=1, inplace=True)"
   ]
  },
  {
   "cell_type": "code",
   "execution_count": 39,
   "metadata": {
    "collapsed": true
   },
   "outputs": [],
   "source": [
    "awards.rename(columns={'Won?': 'Winner','Additional Info': 'Movie'}, inplace=True)"
   ]
  },
  {
   "cell_type": "code",
   "execution_count": 40,
   "metadata": {},
   "outputs": [
    {
     "data": {
      "text/html": [
       "<div>\n",
       "<style>\n",
       "    .dataframe thead tr:only-child th {\n",
       "        text-align: right;\n",
       "    }\n",
       "\n",
       "    .dataframe thead th {\n",
       "        text-align: left;\n",
       "    }\n",
       "\n",
       "    .dataframe tbody tr th {\n",
       "        vertical-align: top;\n",
       "    }\n",
       "</style>\n",
       "<table border=\"1\" class=\"dataframe\">\n",
       "  <thead>\n",
       "    <tr style=\"text-align: right;\">\n",
       "      <th></th>\n",
       "      <th>Year</th>\n",
       "      <th>Category</th>\n",
       "      <th>Nominee</th>\n",
       "      <th>Movie</th>\n",
       "      <th>Winner</th>\n",
       "    </tr>\n",
       "  </thead>\n",
       "  <tbody>\n",
       "    <tr>\n",
       "      <th>0</th>\n",
       "      <td>2010 (83rd)</td>\n",
       "      <td>Actor -- Leading Role</td>\n",
       "      <td>Javier Bardem</td>\n",
       "      <td>Biutiful {'Uxbal'}</td>\n",
       "      <td>NO</td>\n",
       "    </tr>\n",
       "    <tr>\n",
       "      <th>1</th>\n",
       "      <td>2010 (83rd)</td>\n",
       "      <td>Actor -- Leading Role</td>\n",
       "      <td>Jeff Bridges</td>\n",
       "      <td>True Grit {'Rooster Cogburn'}</td>\n",
       "      <td>NO</td>\n",
       "    </tr>\n",
       "    <tr>\n",
       "      <th>2</th>\n",
       "      <td>2010 (83rd)</td>\n",
       "      <td>Actor -- Leading Role</td>\n",
       "      <td>Jesse Eisenberg</td>\n",
       "      <td>The Social Network {'Mark Zuckerberg'}</td>\n",
       "      <td>NO</td>\n",
       "    </tr>\n",
       "    <tr>\n",
       "      <th>3</th>\n",
       "      <td>2010 (83rd)</td>\n",
       "      <td>Actor -- Leading Role</td>\n",
       "      <td>Colin Firth</td>\n",
       "      <td>The King's Speech {'King George VI'}</td>\n",
       "      <td>YES</td>\n",
       "    </tr>\n",
       "    <tr>\n",
       "      <th>4</th>\n",
       "      <td>2010 (83rd)</td>\n",
       "      <td>Actor -- Leading Role</td>\n",
       "      <td>James Franco</td>\n",
       "      <td>127 Hours {'Aron Ralston'}</td>\n",
       "      <td>NO</td>\n",
       "    </tr>\n",
       "  </tbody>\n",
       "</table>\n",
       "</div>"
      ],
      "text/plain": [
       "          Year               Category          Nominee  \\\n",
       "0  2010 (83rd)  Actor -- Leading Role    Javier Bardem   \n",
       "1  2010 (83rd)  Actor -- Leading Role     Jeff Bridges   \n",
       "2  2010 (83rd)  Actor -- Leading Role  Jesse Eisenberg   \n",
       "3  2010 (83rd)  Actor -- Leading Role      Colin Firth   \n",
       "4  2010 (83rd)  Actor -- Leading Role     James Franco   \n",
       "\n",
       "                                    Movie Winner  \n",
       "0                      Biutiful {'Uxbal'}     NO  \n",
       "1           True Grit {'Rooster Cogburn'}     NO  \n",
       "2  The Social Network {'Mark Zuckerberg'}     NO  \n",
       "3    The King's Speech {'King George VI'}    YES  \n",
       "4              127 Hours {'Aron Ralston'}     NO  "
      ]
     },
     "execution_count": 40,
     "metadata": {},
     "output_type": "execute_result"
    }
   ],
   "source": [
    "awards.head()"
   ]
  },
  {
   "cell_type": "code",
   "execution_count": 41,
   "metadata": {
    "collapsed": true
   },
   "outputs": [],
   "source": [
    "oscar_winners =  awards[awards.Winner == 'YES']\n",
    "oscar_nominees =  awards[awards.Winner == 'NO']"
   ]
  },
  {
   "cell_type": "code",
   "execution_count": 42,
   "metadata": {},
   "outputs": [
    {
     "data": {
      "text/html": [
       "<div>\n",
       "<style>\n",
       "    .dataframe thead tr:only-child th {\n",
       "        text-align: right;\n",
       "    }\n",
       "\n",
       "    .dataframe thead th {\n",
       "        text-align: left;\n",
       "    }\n",
       "\n",
       "    .dataframe tbody tr th {\n",
       "        vertical-align: top;\n",
       "    }\n",
       "</style>\n",
       "<table border=\"1\" class=\"dataframe\">\n",
       "  <thead>\n",
       "    <tr style=\"text-align: right;\">\n",
       "      <th></th>\n",
       "      <th>Year</th>\n",
       "      <th>Category</th>\n",
       "      <th>Nominee</th>\n",
       "      <th>Movie</th>\n",
       "      <th>Winner</th>\n",
       "    </tr>\n",
       "  </thead>\n",
       "  <tbody>\n",
       "    <tr>\n",
       "      <th>3</th>\n",
       "      <td>2010 (83rd)</td>\n",
       "      <td>Actor -- Leading Role</td>\n",
       "      <td>Colin Firth</td>\n",
       "      <td>The King's Speech {'King George VI'}</td>\n",
       "      <td>YES</td>\n",
       "    </tr>\n",
       "    <tr>\n",
       "      <th>5</th>\n",
       "      <td>2010 (83rd)</td>\n",
       "      <td>Actor -- Supporting Role</td>\n",
       "      <td>Christian Bale</td>\n",
       "      <td>The Fighter {'Dicky Eklund'}</td>\n",
       "      <td>YES</td>\n",
       "    </tr>\n",
       "    <tr>\n",
       "      <th>13</th>\n",
       "      <td>2010 (83rd)</td>\n",
       "      <td>Actress -- Leading Role</td>\n",
       "      <td>Natalie Portman</td>\n",
       "      <td>Black Swan {'Nina Sayers/The Swan Queen'}</td>\n",
       "      <td>YES</td>\n",
       "    </tr>\n",
       "    <tr>\n",
       "      <th>17</th>\n",
       "      <td>2010 (83rd)</td>\n",
       "      <td>Actress -- Supporting Role</td>\n",
       "      <td>Melissa Leo</td>\n",
       "      <td>The Fighter {'Alice Ward'}</td>\n",
       "      <td>YES</td>\n",
       "    </tr>\n",
       "    <tr>\n",
       "      <th>22</th>\n",
       "      <td>2010 (83rd)</td>\n",
       "      <td>Animated Feature Film</td>\n",
       "      <td>Toy Story 3</td>\n",
       "      <td>Lee Unkrich</td>\n",
       "      <td>YES</td>\n",
       "    </tr>\n",
       "  </tbody>\n",
       "</table>\n",
       "</div>"
      ],
      "text/plain": [
       "           Year                    Category          Nominee  \\\n",
       "3   2010 (83rd)       Actor -- Leading Role      Colin Firth   \n",
       "5   2010 (83rd)    Actor -- Supporting Role   Christian Bale   \n",
       "13  2010 (83rd)     Actress -- Leading Role  Natalie Portman   \n",
       "17  2010 (83rd)  Actress -- Supporting Role      Melissa Leo   \n",
       "22  2010 (83rd)       Animated Feature Film      Toy Story 3   \n",
       "\n",
       "                                        Movie Winner  \n",
       "3        The King's Speech {'King George VI'}    YES  \n",
       "5                The Fighter {'Dicky Eklund'}    YES  \n",
       "13  Black Swan {'Nina Sayers/The Swan Queen'}    YES  \n",
       "17                 The Fighter {'Alice Ward'}    YES  \n",
       "22                                Lee Unkrich    YES  "
      ]
     },
     "execution_count": 42,
     "metadata": {},
     "output_type": "execute_result"
    }
   ],
   "source": [
    "oscar_winners.head()"
   ]
  },
  {
   "cell_type": "code",
   "execution_count": 43,
   "metadata": {
    "collapsed": true
   },
   "outputs": [],
   "source": [
    "Directing =  oscar_winners[oscar_winners.Category == 'Directing']\n",
    "leadActor =  oscar_winners[oscar_winners.Category == 'Actor -- Leading Role']\n",
    "leadActress =  oscar_winners[oscar_winners.Category == 'Actress -- Leading Role']\n",
    "supportActor =  oscar_winners[oscar_winners.Category == 'Actor -- Supporting Role']\n",
    "supportActress =  oscar_winners[oscar_winners.Category == 'Actress -- Supporting Role']\n",
    "\n",
    "DirectingNom =  oscar_nominees[oscar_nominees.Category == 'Directing']\n",
    "leadActorNom =  nominations[oscar_nominees.Category == 'Actor -- Leading Role']\n",
    "leadActressNom =  oscar_nominees[oscar_nominees.Category == 'Actress -- Leading Role']\n",
    "supportActorNom =  oscar_nominees[oscar_nominees.Category == 'Actor -- Supporting Role']\n",
    "supportActressNom =  oscar_nominees[oscar_nominees.Category == 'Actress -- Supporting Role']"
   ]
  },
  {
   "cell_type": "code",
   "execution_count": 44,
   "metadata": {
    "collapsed": true
   },
   "outputs": [],
   "source": [
    "oscar_win = pd.concat([Directing,leadActor,leadActress,supportActor,supportActress],axis=0,ignore_index=True)\n",
    "\n",
    "oscar_nom = pd.concat([DirectingNom,leadActorNom,leadActressNom,supportActorNom,supportActressNom],axis=0,ignore_index=True)"
   ]
  },
  {
   "cell_type": "code",
   "execution_count": 45,
   "metadata": {},
   "outputs": [
    {
     "data": {
      "text/plain": [
       "(1575, 5)"
      ]
     },
     "execution_count": 45,
     "metadata": {},
     "output_type": "execute_result"
    }
   ],
   "source": [
    "oscar_nom.shape"
   ]
  },
  {
   "cell_type": "code",
   "execution_count": 46,
   "metadata": {},
   "outputs": [
    {
     "data": {
      "text/plain": [
       "(404, 5)"
      ]
     },
     "execution_count": 46,
     "metadata": {},
     "output_type": "execute_result"
    }
   ],
   "source": [
    "oscar_win.shape"
   ]
  },
  {
   "cell_type": "code",
   "execution_count": 47,
   "metadata": {},
   "outputs": [
    {
     "data": {
      "text/html": [
       "<div>\n",
       "<style>\n",
       "    .dataframe thead tr:only-child th {\n",
       "        text-align: right;\n",
       "    }\n",
       "\n",
       "    .dataframe thead th {\n",
       "        text-align: left;\n",
       "    }\n",
       "\n",
       "    .dataframe tbody tr th {\n",
       "        vertical-align: top;\n",
       "    }\n",
       "</style>\n",
       "<table border=\"1\" class=\"dataframe\">\n",
       "  <thead>\n",
       "    <tr style=\"text-align: right;\">\n",
       "      <th></th>\n",
       "      <th>Year</th>\n",
       "      <th>Category</th>\n",
       "      <th>Nominee</th>\n",
       "      <th>Movie</th>\n",
       "      <th>Winner</th>\n",
       "    </tr>\n",
       "  </thead>\n",
       "  <tbody>\n",
       "    <tr>\n",
       "      <th>0</th>\n",
       "      <td>2010 (83rd)</td>\n",
       "      <td>Directing</td>\n",
       "      <td>The King's Speech</td>\n",
       "      <td>Tom Hooper</td>\n",
       "      <td>YES</td>\n",
       "    </tr>\n",
       "    <tr>\n",
       "      <th>1</th>\n",
       "      <td>2009 (82nd)</td>\n",
       "      <td>Directing</td>\n",
       "      <td>The Hurt Locker</td>\n",
       "      <td>Kathryn Bigelow</td>\n",
       "      <td>YES</td>\n",
       "    </tr>\n",
       "    <tr>\n",
       "      <th>85</th>\n",
       "      <td>2010 (83rd)</td>\n",
       "      <td>Actor -- Leading Role</td>\n",
       "      <td>Colin Firth</td>\n",
       "      <td>The King's Speech {'King George VI'}</td>\n",
       "      <td>YES</td>\n",
       "    </tr>\n",
       "    <tr>\n",
       "      <th>86</th>\n",
       "      <td>2009 (82nd)</td>\n",
       "      <td>Actor -- Leading Role</td>\n",
       "      <td>Jeff Bridges</td>\n",
       "      <td>Crazy Heart {'Bad Blake'}</td>\n",
       "      <td>YES</td>\n",
       "    </tr>\n",
       "    <tr>\n",
       "      <th>170</th>\n",
       "      <td>2010 (83rd)</td>\n",
       "      <td>Actress -- Leading Role</td>\n",
       "      <td>Natalie Portman</td>\n",
       "      <td>Black Swan {'Nina Sayers/The Swan Queen'}</td>\n",
       "      <td>YES</td>\n",
       "    </tr>\n",
       "    <tr>\n",
       "      <th>171</th>\n",
       "      <td>2009 (82nd)</td>\n",
       "      <td>Actress -- Leading Role</td>\n",
       "      <td>Sandra Bullock</td>\n",
       "      <td>The Blind Side {'Leigh Anne Tuohy'}</td>\n",
       "      <td>YES</td>\n",
       "    </tr>\n",
       "    <tr>\n",
       "      <th>254</th>\n",
       "      <td>2010 (83rd)</td>\n",
       "      <td>Actor -- Supporting Role</td>\n",
       "      <td>Christian Bale</td>\n",
       "      <td>The Fighter {'Dicky Eklund'}</td>\n",
       "      <td>YES</td>\n",
       "    </tr>\n",
       "    <tr>\n",
       "      <th>255</th>\n",
       "      <td>2009 (82nd)</td>\n",
       "      <td>Actor -- Supporting Role</td>\n",
       "      <td>Christoph Waltz</td>\n",
       "      <td>Inglourious Basterds {'Col. Hans Landa'}</td>\n",
       "      <td>YES</td>\n",
       "    </tr>\n",
       "    <tr>\n",
       "      <th>329</th>\n",
       "      <td>2010 (83rd)</td>\n",
       "      <td>Actress -- Supporting Role</td>\n",
       "      <td>Melissa Leo</td>\n",
       "      <td>The Fighter {'Alice Ward'}</td>\n",
       "      <td>YES</td>\n",
       "    </tr>\n",
       "    <tr>\n",
       "      <th>330</th>\n",
       "      <td>2009 (82nd)</td>\n",
       "      <td>Actress -- Supporting Role</td>\n",
       "      <td>Mo'Nique</td>\n",
       "      <td>Precious: Based on the Novel 'Push' by Sapphir...</td>\n",
       "      <td>YES</td>\n",
       "    </tr>\n",
       "  </tbody>\n",
       "</table>\n",
       "</div>"
      ],
      "text/plain": [
       "            Year                    Category            Nominee  \\\n",
       "0    2010 (83rd)                   Directing  The King's Speech   \n",
       "1    2009 (82nd)                   Directing    The Hurt Locker   \n",
       "85   2010 (83rd)       Actor -- Leading Role        Colin Firth   \n",
       "86   2009 (82nd)       Actor -- Leading Role       Jeff Bridges   \n",
       "170  2010 (83rd)     Actress -- Leading Role    Natalie Portman   \n",
       "171  2009 (82nd)     Actress -- Leading Role     Sandra Bullock   \n",
       "254  2010 (83rd)    Actor -- Supporting Role     Christian Bale   \n",
       "255  2009 (82nd)    Actor -- Supporting Role    Christoph Waltz   \n",
       "329  2010 (83rd)  Actress -- Supporting Role        Melissa Leo   \n",
       "330  2009 (82nd)  Actress -- Supporting Role           Mo'Nique   \n",
       "\n",
       "                                                 Movie Winner  \n",
       "0                                           Tom Hooper    YES  \n",
       "1                                      Kathryn Bigelow    YES  \n",
       "85                The King's Speech {'King George VI'}    YES  \n",
       "86                           Crazy Heart {'Bad Blake'}    YES  \n",
       "170          Black Swan {'Nina Sayers/The Swan Queen'}    YES  \n",
       "171                The Blind Side {'Leigh Anne Tuohy'}    YES  \n",
       "254                       The Fighter {'Dicky Eklund'}    YES  \n",
       "255           Inglourious Basterds {'Col. Hans Landa'}    YES  \n",
       "329                         The Fighter {'Alice Ward'}    YES  \n",
       "330  Precious: Based on the Novel 'Push' by Sapphir...    YES  "
      ]
     },
     "execution_count": 47,
     "metadata": {},
     "output_type": "execute_result"
    }
   ],
   "source": [
    "oscar_win.groupby('Category').head(2)"
   ]
  },
  {
   "cell_type": "code",
   "execution_count": 48,
   "metadata": {
    "collapsed": true
   },
   "outputs": [],
   "source": [
    "Director_idx = (oscar_win['Category'] == 'Directing')\n",
    "oscar_win.loc[Director_idx,['Nominee','Movie']] = oscar_win.loc[Director_idx,['Movie','Nominee']].values\n",
    "\n",
    "DirectorNom_idx = (oscar_nom['Category'] == 'Directing')\n",
    "oscar_nom.loc[DirectorNom_idx,['Nominee','Movie']] = oscar_nom.loc[DirectorNom_idx,['Movie','Nominee']].values"
   ]
  },
  {
   "cell_type": "code",
   "execution_count": 49,
   "metadata": {},
   "outputs": [
    {
     "data": {
      "text/html": [
       "<div>\n",
       "<style>\n",
       "    .dataframe thead tr:only-child th {\n",
       "        text-align: right;\n",
       "    }\n",
       "\n",
       "    .dataframe thead th {\n",
       "        text-align: left;\n",
       "    }\n",
       "\n",
       "    .dataframe tbody tr th {\n",
       "        vertical-align: top;\n",
       "    }\n",
       "</style>\n",
       "<table border=\"1\" class=\"dataframe\">\n",
       "  <thead>\n",
       "    <tr style=\"text-align: right;\">\n",
       "      <th></th>\n",
       "      <th>Year</th>\n",
       "      <th>Category</th>\n",
       "      <th>Nominee</th>\n",
       "      <th>Movie</th>\n",
       "      <th>Winner</th>\n",
       "    </tr>\n",
       "  </thead>\n",
       "  <tbody>\n",
       "    <tr>\n",
       "      <th>0</th>\n",
       "      <td>2010 (83rd)</td>\n",
       "      <td>Directing</td>\n",
       "      <td>Darren Aronofsky</td>\n",
       "      <td>Black Swan</td>\n",
       "      <td>NO</td>\n",
       "    </tr>\n",
       "    <tr>\n",
       "      <th>1</th>\n",
       "      <td>2010 (83rd)</td>\n",
       "      <td>Directing</td>\n",
       "      <td>David O. Russell</td>\n",
       "      <td>The Fighter</td>\n",
       "      <td>NO</td>\n",
       "    </tr>\n",
       "    <tr>\n",
       "      <th>2</th>\n",
       "      <td>2010 (83rd)</td>\n",
       "      <td>Directing</td>\n",
       "      <td>David Fincher</td>\n",
       "      <td>The Social Network</td>\n",
       "      <td>NO</td>\n",
       "    </tr>\n",
       "    <tr>\n",
       "      <th>3</th>\n",
       "      <td>2010 (83rd)</td>\n",
       "      <td>Directing</td>\n",
       "      <td>Joel Coen and Ethan Coen</td>\n",
       "      <td>True Grit</td>\n",
       "      <td>NO</td>\n",
       "    </tr>\n",
       "    <tr>\n",
       "      <th>4</th>\n",
       "      <td>2009 (82nd)</td>\n",
       "      <td>Directing</td>\n",
       "      <td>James Cameron</td>\n",
       "      <td>Avatar</td>\n",
       "      <td>NO</td>\n",
       "    </tr>\n",
       "    <tr>\n",
       "      <th>325</th>\n",
       "      <td>2010 (83rd)</td>\n",
       "      <td>Actor -- Leading Role</td>\n",
       "      <td>Javier Bardem</td>\n",
       "      <td>Biutiful {'Uxbal'}</td>\n",
       "      <td>NO</td>\n",
       "    </tr>\n",
       "    <tr>\n",
       "      <th>326</th>\n",
       "      <td>2010 (83rd)</td>\n",
       "      <td>Actor -- Leading Role</td>\n",
       "      <td>Jeff Bridges</td>\n",
       "      <td>True Grit {'Rooster Cogburn'}</td>\n",
       "      <td>NO</td>\n",
       "    </tr>\n",
       "    <tr>\n",
       "      <th>327</th>\n",
       "      <td>2010 (83rd)</td>\n",
       "      <td>Actor -- Leading Role</td>\n",
       "      <td>Jesse Eisenberg</td>\n",
       "      <td>The Social Network {'Mark Zuckerberg'}</td>\n",
       "      <td>NO</td>\n",
       "    </tr>\n",
       "    <tr>\n",
       "      <th>328</th>\n",
       "      <td>2010 (83rd)</td>\n",
       "      <td>Actor -- Leading Role</td>\n",
       "      <td>James Franco</td>\n",
       "      <td>127 Hours {'Aron Ralston'}</td>\n",
       "      <td>NO</td>\n",
       "    </tr>\n",
       "    <tr>\n",
       "      <th>329</th>\n",
       "      <td>2009 (82nd)</td>\n",
       "      <td>Actor -- Leading Role</td>\n",
       "      <td>George Clooney</td>\n",
       "      <td>Up in the Air {'Ryan Bingham'}</td>\n",
       "      <td>NO</td>\n",
       "    </tr>\n",
       "    <tr>\n",
       "      <th>648</th>\n",
       "      <td>2010 (83rd)</td>\n",
       "      <td>Actress -- Leading Role</td>\n",
       "      <td>Annette Bening</td>\n",
       "      <td>The Kids Are All Right {'Nic'}</td>\n",
       "      <td>NO</td>\n",
       "    </tr>\n",
       "    <tr>\n",
       "      <th>649</th>\n",
       "      <td>2010 (83rd)</td>\n",
       "      <td>Actress -- Leading Role</td>\n",
       "      <td>Nicole Kidman</td>\n",
       "      <td>Rabbit Hole {'Becca'}</td>\n",
       "      <td>NO</td>\n",
       "    </tr>\n",
       "    <tr>\n",
       "      <th>650</th>\n",
       "      <td>2010 (83rd)</td>\n",
       "      <td>Actress -- Leading Role</td>\n",
       "      <td>Jennifer Lawrence</td>\n",
       "      <td>Winter's Bone {'Ree'}</td>\n",
       "      <td>NO</td>\n",
       "    </tr>\n",
       "    <tr>\n",
       "      <th>651</th>\n",
       "      <td>2010 (83rd)</td>\n",
       "      <td>Actress -- Leading Role</td>\n",
       "      <td>Michelle Williams</td>\n",
       "      <td>Blue Valentine {'Cindy'}</td>\n",
       "      <td>NO</td>\n",
       "    </tr>\n",
       "    <tr>\n",
       "      <th>652</th>\n",
       "      <td>2009 (82nd)</td>\n",
       "      <td>Actress -- Leading Role</td>\n",
       "      <td>Helen Mirren</td>\n",
       "      <td>The Last Station {'Sofya'}</td>\n",
       "      <td>NO</td>\n",
       "    </tr>\n",
       "    <tr>\n",
       "      <th>975</th>\n",
       "      <td>2010 (83rd)</td>\n",
       "      <td>Actor -- Supporting Role</td>\n",
       "      <td>John Hawkes</td>\n",
       "      <td>Winter's Bone {'Teardrop'}</td>\n",
       "      <td>NO</td>\n",
       "    </tr>\n",
       "    <tr>\n",
       "      <th>976</th>\n",
       "      <td>2010 (83rd)</td>\n",
       "      <td>Actor -- Supporting Role</td>\n",
       "      <td>Jeremy Renner</td>\n",
       "      <td>The Town {'James Coughlin'}</td>\n",
       "      <td>NO</td>\n",
       "    </tr>\n",
       "    <tr>\n",
       "      <th>977</th>\n",
       "      <td>2010 (83rd)</td>\n",
       "      <td>Actor -- Supporting Role</td>\n",
       "      <td>Mark Ruffalo</td>\n",
       "      <td>The Kids Are All Right {'Paul'}</td>\n",
       "      <td>NO</td>\n",
       "    </tr>\n",
       "    <tr>\n",
       "      <th>978</th>\n",
       "      <td>2010 (83rd)</td>\n",
       "      <td>Actor -- Supporting Role</td>\n",
       "      <td>Geoffrey Rush</td>\n",
       "      <td>The King's Speech {'Lionel Logue'}</td>\n",
       "      <td>NO</td>\n",
       "    </tr>\n",
       "    <tr>\n",
       "      <th>979</th>\n",
       "      <td>2009 (82nd)</td>\n",
       "      <td>Actor -- Supporting Role</td>\n",
       "      <td>Matt Damon</td>\n",
       "      <td>Invictus {'Francois Pienaar'}</td>\n",
       "      <td>NO</td>\n",
       "    </tr>\n",
       "    <tr>\n",
       "      <th>1275</th>\n",
       "      <td>2010 (83rd)</td>\n",
       "      <td>Actress -- Supporting Role</td>\n",
       "      <td>Amy Adams</td>\n",
       "      <td>The Fighter {'Charlene Fleming'}</td>\n",
       "      <td>NO</td>\n",
       "    </tr>\n",
       "    <tr>\n",
       "      <th>1276</th>\n",
       "      <td>2010 (83rd)</td>\n",
       "      <td>Actress -- Supporting Role</td>\n",
       "      <td>Helena Bonham Carter</td>\n",
       "      <td>The King's Speech {'Queen Elizabeth'}</td>\n",
       "      <td>NO</td>\n",
       "    </tr>\n",
       "    <tr>\n",
       "      <th>1277</th>\n",
       "      <td>2010 (83rd)</td>\n",
       "      <td>Actress -- Supporting Role</td>\n",
       "      <td>Hailee Steinfeld</td>\n",
       "      <td>True Grit {'Mattie Ross'}</td>\n",
       "      <td>NO</td>\n",
       "    </tr>\n",
       "    <tr>\n",
       "      <th>1278</th>\n",
       "      <td>2010 (83rd)</td>\n",
       "      <td>Actress -- Supporting Role</td>\n",
       "      <td>Jacki Weaver</td>\n",
       "      <td>Animal Kingdom {'Janine 'Smurf' Cody'}</td>\n",
       "      <td>NO</td>\n",
       "    </tr>\n",
       "    <tr>\n",
       "      <th>1279</th>\n",
       "      <td>2009 (82nd)</td>\n",
       "      <td>Actress -- Supporting Role</td>\n",
       "      <td>Penélope Cruz</td>\n",
       "      <td>Nine {'Carla'}</td>\n",
       "      <td>NO</td>\n",
       "    </tr>\n",
       "  </tbody>\n",
       "</table>\n",
       "</div>"
      ],
      "text/plain": [
       "             Year                    Category                   Nominee  \\\n",
       "0     2010 (83rd)                   Directing          Darren Aronofsky   \n",
       "1     2010 (83rd)                   Directing          David O. Russell   \n",
       "2     2010 (83rd)                   Directing             David Fincher   \n",
       "3     2010 (83rd)                   Directing  Joel Coen and Ethan Coen   \n",
       "4     2009 (82nd)                   Directing             James Cameron   \n",
       "325   2010 (83rd)       Actor -- Leading Role             Javier Bardem   \n",
       "326   2010 (83rd)       Actor -- Leading Role              Jeff Bridges   \n",
       "327   2010 (83rd)       Actor -- Leading Role           Jesse Eisenberg   \n",
       "328   2010 (83rd)       Actor -- Leading Role              James Franco   \n",
       "329   2009 (82nd)       Actor -- Leading Role            George Clooney   \n",
       "648   2010 (83rd)     Actress -- Leading Role            Annette Bening   \n",
       "649   2010 (83rd)     Actress -- Leading Role             Nicole Kidman   \n",
       "650   2010 (83rd)     Actress -- Leading Role         Jennifer Lawrence   \n",
       "651   2010 (83rd)     Actress -- Leading Role         Michelle Williams   \n",
       "652   2009 (82nd)     Actress -- Leading Role              Helen Mirren   \n",
       "975   2010 (83rd)    Actor -- Supporting Role               John Hawkes   \n",
       "976   2010 (83rd)    Actor -- Supporting Role             Jeremy Renner   \n",
       "977   2010 (83rd)    Actor -- Supporting Role              Mark Ruffalo   \n",
       "978   2010 (83rd)    Actor -- Supporting Role             Geoffrey Rush   \n",
       "979   2009 (82nd)    Actor -- Supporting Role                Matt Damon   \n",
       "1275  2010 (83rd)  Actress -- Supporting Role                 Amy Adams   \n",
       "1276  2010 (83rd)  Actress -- Supporting Role      Helena Bonham Carter   \n",
       "1277  2010 (83rd)  Actress -- Supporting Role          Hailee Steinfeld   \n",
       "1278  2010 (83rd)  Actress -- Supporting Role              Jacki Weaver   \n",
       "1279  2009 (82nd)  Actress -- Supporting Role             Penélope Cruz   \n",
       "\n",
       "                                       Movie Winner  \n",
       "0                                 Black Swan     NO  \n",
       "1                                The Fighter     NO  \n",
       "2                         The Social Network     NO  \n",
       "3                                  True Grit     NO  \n",
       "4                                     Avatar     NO  \n",
       "325                       Biutiful {'Uxbal'}     NO  \n",
       "326            True Grit {'Rooster Cogburn'}     NO  \n",
       "327   The Social Network {'Mark Zuckerberg'}     NO  \n",
       "328               127 Hours {'Aron Ralston'}     NO  \n",
       "329           Up in the Air {'Ryan Bingham'}     NO  \n",
       "648           The Kids Are All Right {'Nic'}     NO  \n",
       "649                    Rabbit Hole {'Becca'}     NO  \n",
       "650                    Winter's Bone {'Ree'}     NO  \n",
       "651                 Blue Valentine {'Cindy'}     NO  \n",
       "652               The Last Station {'Sofya'}     NO  \n",
       "975               Winter's Bone {'Teardrop'}     NO  \n",
       "976              The Town {'James Coughlin'}     NO  \n",
       "977          The Kids Are All Right {'Paul'}     NO  \n",
       "978       The King's Speech {'Lionel Logue'}     NO  \n",
       "979            Invictus {'Francois Pienaar'}     NO  \n",
       "1275        The Fighter {'Charlene Fleming'}     NO  \n",
       "1276   The King's Speech {'Queen Elizabeth'}     NO  \n",
       "1277               True Grit {'Mattie Ross'}     NO  \n",
       "1278  Animal Kingdom {'Janine 'Smurf' Cody'}     NO  \n",
       "1279                          Nine {'Carla'}     NO  "
      ]
     },
     "execution_count": 49,
     "metadata": {},
     "output_type": "execute_result"
    }
   ],
   "source": [
    "oscar_nom.groupby('Category').head()"
   ]
  },
  {
   "cell_type": "code",
   "execution_count": 50,
   "metadata": {
    "collapsed": true
   },
   "outputs": [],
   "source": [
    "oscar_win = oscar_win.replace(dict(Movie={'\\ {.*\\}': ''}), regex=True)\n",
    "oscar_win = oscar_win.replace(dict(Year={'\\(.*\\)': ''}), regex=True)\n",
    "\n",
    "oscar_nom = oscar_nom.replace(dict(Movie={'\\ {.*\\}': ''}), regex=True)\n",
    "oscar_nom = oscar_nom.replace(dict(Year={'\\(.*\\)': ''}), regex=True)"
   ]
  },
  {
   "cell_type": "code",
   "execution_count": 51,
   "metadata": {},
   "outputs": [
    {
     "data": {
      "text/plain": [
       "Year        False\n",
       "Category    False\n",
       "Nominee     False\n",
       "Movie       False\n",
       "Winner      False\n",
       "dtype: bool"
      ]
     },
     "execution_count": 51,
     "metadata": {},
     "output_type": "execute_result"
    }
   ],
   "source": [
    "oscar_nom.isnull().any()"
   ]
  },
  {
   "cell_type": "code",
   "execution_count": 52,
   "metadata": {},
   "outputs": [
    {
     "data": {
      "text/plain": [
       "Year        False\n",
       "Category    False\n",
       "Nominee      True\n",
       "Movie        True\n",
       "Winner      False\n",
       "dtype: bool"
      ]
     },
     "execution_count": 52,
     "metadata": {},
     "output_type": "execute_result"
    }
   ],
   "source": [
    "oscar_win.isnull().any()"
   ]
  },
  {
   "cell_type": "code",
   "execution_count": 53,
   "metadata": {
    "collapsed": true
   },
   "outputs": [],
   "source": [
    "nans = lambda oscar_win: oscar_win[oscar_win.isnull().any(axis=1)]\n",
    "nans2 = lambda oscar_win: oscar_nom[oscar_nom.isnull().any(axis=1)]"
   ]
  },
  {
   "cell_type": "code",
   "execution_count": 54,
   "metadata": {},
   "outputs": [
    {
     "data": {
      "text/html": [
       "<div>\n",
       "<style>\n",
       "    .dataframe thead tr:only-child th {\n",
       "        text-align: right;\n",
       "    }\n",
       "\n",
       "    .dataframe thead th {\n",
       "        text-align: left;\n",
       "    }\n",
       "\n",
       "    .dataframe tbody tr th {\n",
       "        vertical-align: top;\n",
       "    }\n",
       "</style>\n",
       "<table border=\"1\" class=\"dataframe\">\n",
       "  <thead>\n",
       "    <tr style=\"text-align: right;\">\n",
       "      <th></th>\n",
       "      <th>Year</th>\n",
       "      <th>Category</th>\n",
       "      <th>Nominee</th>\n",
       "      <th>Movie</th>\n",
       "      <th>Winner</th>\n",
       "    </tr>\n",
       "  </thead>\n",
       "  <tbody>\n",
       "    <tr>\n",
       "      <th>84</th>\n",
       "      <td>1927/28</td>\n",
       "      <td>Directing</td>\n",
       "      <td>NaN</td>\n",
       "      <td>To Charles Chaplin, for acting, writing, direc...</td>\n",
       "      <td>YES</td>\n",
       "    </tr>\n",
       "    <tr>\n",
       "      <th>169</th>\n",
       "      <td>1927/28</td>\n",
       "      <td>Actor -- Leading Role</td>\n",
       "      <td>To Charles Chaplin, for acting, writing, direc...</td>\n",
       "      <td>NaN</td>\n",
       "      <td>YES</td>\n",
       "    </tr>\n",
       "  </tbody>\n",
       "</table>\n",
       "</div>"
      ],
      "text/plain": [
       "         Year               Category  \\\n",
       "84   1927/28               Directing   \n",
       "169  1927/28   Actor -- Leading Role   \n",
       "\n",
       "                                               Nominee  \\\n",
       "84                                                 NaN   \n",
       "169  To Charles Chaplin, for acting, writing, direc...   \n",
       "\n",
       "                                                 Movie Winner  \n",
       "84   To Charles Chaplin, for acting, writing, direc...    YES  \n",
       "169                                                NaN    YES  "
      ]
     },
     "execution_count": 54,
     "metadata": {},
     "output_type": "execute_result"
    }
   ],
   "source": [
    "nans(oscar_win)"
   ]
  },
  {
   "cell_type": "code",
   "execution_count": 55,
   "metadata": {},
   "outputs": [
    {
     "data": {
      "text/html": [
       "<div>\n",
       "<style>\n",
       "    .dataframe thead tr:only-child th {\n",
       "        text-align: right;\n",
       "    }\n",
       "\n",
       "    .dataframe thead th {\n",
       "        text-align: left;\n",
       "    }\n",
       "\n",
       "    .dataframe tbody tr th {\n",
       "        vertical-align: top;\n",
       "    }\n",
       "</style>\n",
       "<table border=\"1\" class=\"dataframe\">\n",
       "  <thead>\n",
       "    <tr style=\"text-align: right;\">\n",
       "      <th></th>\n",
       "      <th>Year</th>\n",
       "      <th>Category</th>\n",
       "      <th>Nominee</th>\n",
       "      <th>Movie</th>\n",
       "      <th>Winner</th>\n",
       "    </tr>\n",
       "  </thead>\n",
       "  <tbody>\n",
       "  </tbody>\n",
       "</table>\n",
       "</div>"
      ],
      "text/plain": [
       "Empty DataFrame\n",
       "Columns: [Year, Category, Nominee, Movie, Winner]\n",
       "Index: []"
      ]
     },
     "execution_count": 55,
     "metadata": {},
     "output_type": "execute_result"
    }
   ],
   "source": [
    "nans2(oscar_nom)"
   ]
  },
  {
   "cell_type": "code",
   "execution_count": 56,
   "metadata": {},
   "outputs": [
    {
     "data": {
      "text/plain": [
       "(404, 5)"
      ]
     },
     "execution_count": 56,
     "metadata": {},
     "output_type": "execute_result"
    }
   ],
   "source": [
    "oscar_win.shape"
   ]
  },
  {
   "cell_type": "code",
   "execution_count": 57,
   "metadata": {
    "collapsed": true
   },
   "outputs": [],
   "source": [
    "oscar_win = oscar_win.drop([oscar_win.index[84],oscar_win.index[169]])"
   ]
  },
  {
   "cell_type": "code",
   "execution_count": 58,
   "metadata": {},
   "outputs": [
    {
     "data": {
      "text/plain": [
       "(402, 5)"
      ]
     },
     "execution_count": 58,
     "metadata": {},
     "output_type": "execute_result"
    }
   ],
   "source": [
    "oscar_win.shape"
   ]
  },
  {
   "cell_type": "code",
   "execution_count": 59,
   "metadata": {
    "collapsed": true
   },
   "outputs": [],
   "source": [
    "oscar_win.to_pickle(\"Oscars.pkl\")\n",
    "oscar_nom.to_pickle(\"OscarNoms.pkl\")"
   ]
  },
  {
   "cell_type": "code",
   "execution_count": null,
   "metadata": {
    "collapsed": true
   },
   "outputs": [],
   "source": []
  }
 ],
 "metadata": {
  "kernelspec": {
   "display_name": "Python 3",
   "language": "python",
   "name": "python3"
  },
  "language_info": {
   "codemirror_mode": {
    "name": "ipython",
    "version": 3
   },
   "file_extension": ".py",
   "mimetype": "text/x-python",
   "name": "python",
   "nbconvert_exporter": "python",
   "pygments_lexer": "ipython3",
   "version": "3.6.3"
  }
 },
 "nbformat": 4,
 "nbformat_minor": 2
}

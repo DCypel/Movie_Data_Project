{
 "cells": [
  {
   "cell_type": "code",
   "execution_count": 1,
   "metadata": {
    "collapsed": true
   },
   "outputs": [],
   "source": [
    "import os.path\n",
    "import pandas as pd"
   ]
  },
  {
   "cell_type": "code",
   "execution_count": 2,
   "metadata": {
    "collapsed": true
   },
   "outputs": [],
   "source": [
    "if  not os.path.exists(\"movies.csv\"):\n",
    "    print(\"Missing dataset file\")"
   ]
  },
  {
   "cell_type": "code",
   "execution_count": 3,
   "metadata": {
    "collapsed": true
   },
   "outputs": [],
   "source": [
    "movies = pd.read_csv('movies.csv',  encoding='latin-1')"
   ]
  },
  {
   "cell_type": "code",
   "execution_count": 4,
   "metadata": {
    "collapsed": true
   },
   "outputs": [],
   "source": [
    "wins = pd.read_pickle('wins.pkl')\n",
    "noms = pd.read_pickle('noms.pkl')"
   ]
  },
  {
   "cell_type": "code",
   "execution_count": 5,
   "metadata": {},
   "outputs": [
    {
     "data": {
      "text/html": [
       "<div>\n",
       "<style>\n",
       "    .dataframe thead tr:only-child th {\n",
       "        text-align: right;\n",
       "    }\n",
       "\n",
       "    .dataframe thead th {\n",
       "        text-align: left;\n",
       "    }\n",
       "\n",
       "    .dataframe tbody tr th {\n",
       "        vertical-align: top;\n",
       "    }\n",
       "</style>\n",
       "<table border=\"1\" class=\"dataframe\">\n",
       "  <thead>\n",
       "    <tr style=\"text-align: right;\">\n",
       "      <th></th>\n",
       "      <th>budget</th>\n",
       "      <th>company</th>\n",
       "      <th>country</th>\n",
       "      <th>director</th>\n",
       "      <th>genre</th>\n",
       "      <th>gross</th>\n",
       "      <th>name</th>\n",
       "      <th>rating</th>\n",
       "      <th>released</th>\n",
       "      <th>runtime</th>\n",
       "      <th>score</th>\n",
       "      <th>star</th>\n",
       "      <th>votes</th>\n",
       "      <th>writer</th>\n",
       "      <th>year</th>\n",
       "    </tr>\n",
       "  </thead>\n",
       "  <tbody>\n",
       "    <tr>\n",
       "      <th>0</th>\n",
       "      <td>8000000.0</td>\n",
       "      <td>Columbia Pictures Corporation</td>\n",
       "      <td>USA</td>\n",
       "      <td>Rob Reiner</td>\n",
       "      <td>Adventure</td>\n",
       "      <td>52287414.0</td>\n",
       "      <td>Stand by Me</td>\n",
       "      <td>R</td>\n",
       "      <td>1986-08-22</td>\n",
       "      <td>89</td>\n",
       "      <td>8.1</td>\n",
       "      <td>Wil Wheaton</td>\n",
       "      <td>299174</td>\n",
       "      <td>Stephen King</td>\n",
       "      <td>1986</td>\n",
       "    </tr>\n",
       "    <tr>\n",
       "      <th>1</th>\n",
       "      <td>6000000.0</td>\n",
       "      <td>Paramount Pictures</td>\n",
       "      <td>USA</td>\n",
       "      <td>John Hughes</td>\n",
       "      <td>Comedy</td>\n",
       "      <td>70136369.0</td>\n",
       "      <td>Ferris Bueller's Day Off</td>\n",
       "      <td>PG-13</td>\n",
       "      <td>1986-06-11</td>\n",
       "      <td>103</td>\n",
       "      <td>7.8</td>\n",
       "      <td>Matthew Broderick</td>\n",
       "      <td>264740</td>\n",
       "      <td>John Hughes</td>\n",
       "      <td>1986</td>\n",
       "    </tr>\n",
       "    <tr>\n",
       "      <th>2</th>\n",
       "      <td>15000000.0</td>\n",
       "      <td>Paramount Pictures</td>\n",
       "      <td>USA</td>\n",
       "      <td>Tony Scott</td>\n",
       "      <td>Action</td>\n",
       "      <td>179800601.0</td>\n",
       "      <td>Top Gun</td>\n",
       "      <td>PG</td>\n",
       "      <td>1986-05-16</td>\n",
       "      <td>110</td>\n",
       "      <td>6.9</td>\n",
       "      <td>Tom Cruise</td>\n",
       "      <td>236909</td>\n",
       "      <td>Jim Cash</td>\n",
       "      <td>1986</td>\n",
       "    </tr>\n",
       "    <tr>\n",
       "      <th>3</th>\n",
       "      <td>18500000.0</td>\n",
       "      <td>Twentieth Century Fox Film Corporation</td>\n",
       "      <td>USA</td>\n",
       "      <td>James Cameron</td>\n",
       "      <td>Action</td>\n",
       "      <td>85160248.0</td>\n",
       "      <td>Aliens</td>\n",
       "      <td>R</td>\n",
       "      <td>1986-07-18</td>\n",
       "      <td>137</td>\n",
       "      <td>8.4</td>\n",
       "      <td>Sigourney Weaver</td>\n",
       "      <td>540152</td>\n",
       "      <td>James Cameron</td>\n",
       "      <td>1986</td>\n",
       "    </tr>\n",
       "    <tr>\n",
       "      <th>4</th>\n",
       "      <td>9000000.0</td>\n",
       "      <td>Walt Disney Pictures</td>\n",
       "      <td>USA</td>\n",
       "      <td>Randal Kleiser</td>\n",
       "      <td>Adventure</td>\n",
       "      <td>18564613.0</td>\n",
       "      <td>Flight of the Navigator</td>\n",
       "      <td>PG</td>\n",
       "      <td>1986-08-01</td>\n",
       "      <td>90</td>\n",
       "      <td>6.9</td>\n",
       "      <td>Joey Cramer</td>\n",
       "      <td>36636</td>\n",
       "      <td>Mark H. Baker</td>\n",
       "      <td>1986</td>\n",
       "    </tr>\n",
       "  </tbody>\n",
       "</table>\n",
       "</div>"
      ],
      "text/plain": [
       "       budget                                 company country        director  \\\n",
       "0   8000000.0           Columbia Pictures Corporation     USA      Rob Reiner   \n",
       "1   6000000.0                      Paramount Pictures     USA     John Hughes   \n",
       "2  15000000.0                      Paramount Pictures     USA      Tony Scott   \n",
       "3  18500000.0  Twentieth Century Fox Film Corporation     USA   James Cameron   \n",
       "4   9000000.0                    Walt Disney Pictures     USA  Randal Kleiser   \n",
       "\n",
       "       genre        gross                      name rating    released  \\\n",
       "0  Adventure   52287414.0               Stand by Me      R  1986-08-22   \n",
       "1     Comedy   70136369.0  Ferris Bueller's Day Off  PG-13  1986-06-11   \n",
       "2     Action  179800601.0                   Top Gun     PG  1986-05-16   \n",
       "3     Action   85160248.0                    Aliens      R  1986-07-18   \n",
       "4  Adventure   18564613.0   Flight of the Navigator     PG  1986-08-01   \n",
       "\n",
       "   runtime  score               star   votes         writer  year  \n",
       "0       89    8.1        Wil Wheaton  299174   Stephen King  1986  \n",
       "1      103    7.8  Matthew Broderick  264740    John Hughes  1986  \n",
       "2      110    6.9         Tom Cruise  236909       Jim Cash  1986  \n",
       "3      137    8.4   Sigourney Weaver  540152  James Cameron  1986  \n",
       "4       90    6.9        Joey Cramer   36636  Mark H. Baker  1986  "
      ]
     },
     "execution_count": 5,
     "metadata": {},
     "output_type": "execute_result"
    }
   ],
   "source": [
    "movies.head(5)"
   ]
  },
  {
   "cell_type": "code",
   "execution_count": 6,
   "metadata": {},
   "outputs": [
    {
     "data": {
      "text/plain": [
       "(6820, 15)"
      ]
     },
     "execution_count": 6,
     "metadata": {},
     "output_type": "execute_result"
    }
   ],
   "source": [
    "movies.shape"
   ]
  },
  {
   "cell_type": "code",
   "execution_count": 7,
   "metadata": {},
   "outputs": [
    {
     "data": {
      "text/plain": [
       "budget      0\n",
       "company     0\n",
       "country     0\n",
       "director    0\n",
       "genre       0\n",
       "gross       0\n",
       "name        0\n",
       "rating      0\n",
       "released    0\n",
       "runtime     0\n",
       "score       0\n",
       "star        0\n",
       "votes       0\n",
       "writer      0\n",
       "year        0\n",
       "dtype: int64"
      ]
     },
     "execution_count": 7,
     "metadata": {},
     "output_type": "execute_result"
    }
   ],
   "source": [
    "movies.isnull().sum()"
   ]
  },
  {
   "cell_type": "code",
   "execution_count": 8,
   "metadata": {},
   "outputs": [
    {
     "data": {
      "text/plain": [
       "False    6820\n",
       "Name: score, dtype: int64"
      ]
     },
     "execution_count": 8,
     "metadata": {},
     "output_type": "execute_result"
    }
   ],
   "source": [
    "(movies.score == 0).value_counts()"
   ]
  },
  {
   "cell_type": "code",
   "execution_count": 33,
   "metadata": {},
   "outputs": [
    {
     "data": {
      "text/plain": [
       "False    6820\n",
       "Name: gross, dtype: int64"
      ]
     },
     "execution_count": 33,
     "metadata": {},
     "output_type": "execute_result"
    }
   ],
   "source": [
    "(movies.gross == 0).value_counts()"
   ]
  },
  {
   "cell_type": "code",
   "execution_count": 9,
   "metadata": {},
   "outputs": [],
   "source": [
    "wins = movies.merge(wins, left_on='name', right_on='movie_name')"
   ]
  },
  {
   "cell_type": "code",
   "execution_count": 10,
   "metadata": {
    "collapsed": true
   },
   "outputs": [],
   "source": [
    "noms = movies.merge(noms, left_on='name', right_on='movie_name')"
   ]
  },
  {
   "cell_type": "code",
   "execution_count": 11,
   "metadata": {},
   "outputs": [
    {
     "data": {
      "text/plain": [
       "(353, 17)"
      ]
     },
     "execution_count": 11,
     "metadata": {},
     "output_type": "execute_result"
    }
   ],
   "source": [
    "noms.shape"
   ]
  },
  {
   "cell_type": "code",
   "execution_count": 12,
   "metadata": {},
   "outputs": [
    {
     "data": {
      "text/html": [
       "<div>\n",
       "<style>\n",
       "    .dataframe thead tr:only-child th {\n",
       "        text-align: right;\n",
       "    }\n",
       "\n",
       "    .dataframe thead th {\n",
       "        text-align: left;\n",
       "    }\n",
       "\n",
       "    .dataframe tbody tr th {\n",
       "        vertical-align: top;\n",
       "    }\n",
       "</style>\n",
       "<table border=\"1\" class=\"dataframe\">\n",
       "  <thead>\n",
       "    <tr style=\"text-align: right;\">\n",
       "      <th></th>\n",
       "      <th>budget</th>\n",
       "      <th>company</th>\n",
       "      <th>country</th>\n",
       "      <th>director</th>\n",
       "      <th>genre</th>\n",
       "      <th>gross</th>\n",
       "      <th>name</th>\n",
       "      <th>rating</th>\n",
       "      <th>released</th>\n",
       "      <th>runtime</th>\n",
       "      <th>score</th>\n",
       "      <th>star</th>\n",
       "      <th>votes</th>\n",
       "      <th>writer</th>\n",
       "      <th>year</th>\n",
       "      <th>Oscar_noms</th>\n",
       "      <th>movie_name</th>\n",
       "    </tr>\n",
       "  </thead>\n",
       "  <tbody>\n",
       "    <tr>\n",
       "      <th>0</th>\n",
       "      <td>18500000.0</td>\n",
       "      <td>Twentieth Century Fox Film Corporation</td>\n",
       "      <td>USA</td>\n",
       "      <td>James Cameron</td>\n",
       "      <td>Action</td>\n",
       "      <td>85160248.0</td>\n",
       "      <td>Aliens</td>\n",
       "      <td>R</td>\n",
       "      <td>1986-07-18</td>\n",
       "      <td>137</td>\n",
       "      <td>8.4</td>\n",
       "      <td>Sigourney Weaver</td>\n",
       "      <td>540152</td>\n",
       "      <td>James Cameron</td>\n",
       "      <td>1986</td>\n",
       "      <td>1</td>\n",
       "      <td>Aliens</td>\n",
       "    </tr>\n",
       "    <tr>\n",
       "      <th>1</th>\n",
       "      <td>6000000.0</td>\n",
       "      <td>Hemdale</td>\n",
       "      <td>UK</td>\n",
       "      <td>Oliver Stone</td>\n",
       "      <td>Drama</td>\n",
       "      <td>138530565.0</td>\n",
       "      <td>Platoon</td>\n",
       "      <td>R</td>\n",
       "      <td>1987-02-06</td>\n",
       "      <td>120</td>\n",
       "      <td>8.1</td>\n",
       "      <td>Charlie Sheen</td>\n",
       "      <td>317585</td>\n",
       "      <td>Oliver Stone</td>\n",
       "      <td>1986</td>\n",
       "      <td>2</td>\n",
       "      <td>Platoon</td>\n",
       "    </tr>\n",
       "    <tr>\n",
       "      <th>2</th>\n",
       "      <td>6000000.0</td>\n",
       "      <td>De Laurentiis Entertainment Group (DEG)</td>\n",
       "      <td>USA</td>\n",
       "      <td>David Lynch</td>\n",
       "      <td>Drama</td>\n",
       "      <td>8551228.0</td>\n",
       "      <td>Blue Velvet</td>\n",
       "      <td>R</td>\n",
       "      <td>1986-10-23</td>\n",
       "      <td>120</td>\n",
       "      <td>7.8</td>\n",
       "      <td>Isabella Rossellini</td>\n",
       "      <td>146768</td>\n",
       "      <td>David Lynch</td>\n",
       "      <td>1986</td>\n",
       "      <td>1</td>\n",
       "      <td>Blue Velvet</td>\n",
       "    </tr>\n",
       "    <tr>\n",
       "      <th>3</th>\n",
       "      <td>24500000.0</td>\n",
       "      <td>Warner Bros.</td>\n",
       "      <td>UK</td>\n",
       "      <td>Roland Joffé</td>\n",
       "      <td>Adventure</td>\n",
       "      <td>17218023.0</td>\n",
       "      <td>The Mission</td>\n",
       "      <td>PG</td>\n",
       "      <td>1986-10-31</td>\n",
       "      <td>125</td>\n",
       "      <td>7.5</td>\n",
       "      <td>Robert De Niro</td>\n",
       "      <td>47497</td>\n",
       "      <td>Robert Bolt</td>\n",
       "      <td>1986</td>\n",
       "      <td>1</td>\n",
       "      <td>The Mission</td>\n",
       "    </tr>\n",
       "    <tr>\n",
       "      <th>4</th>\n",
       "      <td>13800000.0</td>\n",
       "      <td>Touchstone Pictures</td>\n",
       "      <td>USA</td>\n",
       "      <td>Martin Scorsese</td>\n",
       "      <td>Drama</td>\n",
       "      <td>52293982.0</td>\n",
       "      <td>The Color of Money</td>\n",
       "      <td>R</td>\n",
       "      <td>1986-10-17</td>\n",
       "      <td>119</td>\n",
       "      <td>7.0</td>\n",
       "      <td>Paul Newman</td>\n",
       "      <td>62495</td>\n",
       "      <td>Walter Tevis</td>\n",
       "      <td>1986</td>\n",
       "      <td>1</td>\n",
       "      <td>The Color of Money</td>\n",
       "    </tr>\n",
       "  </tbody>\n",
       "</table>\n",
       "</div>"
      ],
      "text/plain": [
       "       budget                                  company country  \\\n",
       "0  18500000.0   Twentieth Century Fox Film Corporation     USA   \n",
       "1   6000000.0                                  Hemdale      UK   \n",
       "2   6000000.0  De Laurentiis Entertainment Group (DEG)     USA   \n",
       "3  24500000.0                             Warner Bros.      UK   \n",
       "4  13800000.0                      Touchstone Pictures     USA   \n",
       "\n",
       "          director      genre        gross                name rating  \\\n",
       "0    James Cameron     Action   85160248.0              Aliens      R   \n",
       "1     Oliver Stone      Drama  138530565.0             Platoon      R   \n",
       "2      David Lynch      Drama    8551228.0         Blue Velvet      R   \n",
       "3     Roland Joffé  Adventure   17218023.0         The Mission     PG   \n",
       "4  Martin Scorsese      Drama   52293982.0  The Color of Money      R   \n",
       "\n",
       "     released  runtime  score                 star   votes         writer  \\\n",
       "0  1986-07-18      137    8.4     Sigourney Weaver  540152  James Cameron   \n",
       "1  1987-02-06      120    8.1        Charlie Sheen  317585   Oliver Stone   \n",
       "2  1986-10-23      120    7.8  Isabella Rossellini  146768    David Lynch   \n",
       "3  1986-10-31      125    7.5       Robert De Niro   47497    Robert Bolt   \n",
       "4  1986-10-17      119    7.0          Paul Newman   62495   Walter Tevis   \n",
       "\n",
       "   year  Oscar_noms          movie_name  \n",
       "0  1986           1              Aliens  \n",
       "1  1986           2             Platoon  \n",
       "2  1986           1         Blue Velvet  \n",
       "3  1986           1         The Mission  \n",
       "4  1986           1  The Color of Money  "
      ]
     },
     "execution_count": 12,
     "metadata": {},
     "output_type": "execute_result"
    }
   ],
   "source": [
    "noms.head()"
   ]
  },
  {
   "cell_type": "code",
   "execution_count": 13,
   "metadata": {},
   "outputs": [
    {
     "data": {
      "text/plain": [
       "(107, 17)"
      ]
     },
     "execution_count": 13,
     "metadata": {},
     "output_type": "execute_result"
    }
   ],
   "source": [
    "wins.shape"
   ]
  },
  {
   "cell_type": "code",
   "execution_count": 14,
   "metadata": {},
   "outputs": [
    {
     "data": {
      "text/html": [
       "<div>\n",
       "<style>\n",
       "    .dataframe thead tr:only-child th {\n",
       "        text-align: right;\n",
       "    }\n",
       "\n",
       "    .dataframe thead th {\n",
       "        text-align: left;\n",
       "    }\n",
       "\n",
       "    .dataframe tbody tr th {\n",
       "        vertical-align: top;\n",
       "    }\n",
       "</style>\n",
       "<table border=\"1\" class=\"dataframe\">\n",
       "  <thead>\n",
       "    <tr style=\"text-align: right;\">\n",
       "      <th></th>\n",
       "      <th>budget</th>\n",
       "      <th>company</th>\n",
       "      <th>country</th>\n",
       "      <th>director</th>\n",
       "      <th>genre</th>\n",
       "      <th>gross</th>\n",
       "      <th>name</th>\n",
       "      <th>rating</th>\n",
       "      <th>released</th>\n",
       "      <th>runtime</th>\n",
       "      <th>score</th>\n",
       "      <th>star</th>\n",
       "      <th>votes</th>\n",
       "      <th>writer</th>\n",
       "      <th>year</th>\n",
       "      <th>Oscar_wins</th>\n",
       "      <th>movie_name</th>\n",
       "    </tr>\n",
       "  </thead>\n",
       "  <tbody>\n",
       "    <tr>\n",
       "      <th>0</th>\n",
       "      <td>6000000.0</td>\n",
       "      <td>Hemdale</td>\n",
       "      <td>UK</td>\n",
       "      <td>Oliver Stone</td>\n",
       "      <td>Drama</td>\n",
       "      <td>138530565.0</td>\n",
       "      <td>Platoon</td>\n",
       "      <td>R</td>\n",
       "      <td>1987-02-06</td>\n",
       "      <td>120</td>\n",
       "      <td>8.1</td>\n",
       "      <td>Charlie Sheen</td>\n",
       "      <td>317585</td>\n",
       "      <td>Oliver Stone</td>\n",
       "      <td>1986</td>\n",
       "      <td>1</td>\n",
       "      <td>Platoon</td>\n",
       "    </tr>\n",
       "    <tr>\n",
       "      <th>1</th>\n",
       "      <td>13800000.0</td>\n",
       "      <td>Touchstone Pictures</td>\n",
       "      <td>USA</td>\n",
       "      <td>Martin Scorsese</td>\n",
       "      <td>Drama</td>\n",
       "      <td>52293982.0</td>\n",
       "      <td>The Color of Money</td>\n",
       "      <td>R</td>\n",
       "      <td>1986-10-17</td>\n",
       "      <td>119</td>\n",
       "      <td>7.0</td>\n",
       "      <td>Paul Newman</td>\n",
       "      <td>62495</td>\n",
       "      <td>Walter Tevis</td>\n",
       "      <td>1986</td>\n",
       "      <td>1</td>\n",
       "      <td>The Color of Money</td>\n",
       "    </tr>\n",
       "    <tr>\n",
       "      <th>2</th>\n",
       "      <td>6400000.0</td>\n",
       "      <td>Orion Pictures</td>\n",
       "      <td>USA</td>\n",
       "      <td>Woody Allen</td>\n",
       "      <td>Comedy</td>\n",
       "      <td>40084041.0</td>\n",
       "      <td>Hannah and Her Sisters</td>\n",
       "      <td>PG-13</td>\n",
       "      <td>1986-03-14</td>\n",
       "      <td>107</td>\n",
       "      <td>8.0</td>\n",
       "      <td>Mia Farrow</td>\n",
       "      <td>56988</td>\n",
       "      <td>Woody Allen</td>\n",
       "      <td>1986</td>\n",
       "      <td>2</td>\n",
       "      <td>Hannah and Her Sisters</td>\n",
       "    </tr>\n",
       "    <tr>\n",
       "      <th>3</th>\n",
       "      <td>0.0</td>\n",
       "      <td>Paramount Pictures</td>\n",
       "      <td>USA</td>\n",
       "      <td>Randa Haines</td>\n",
       "      <td>Drama</td>\n",
       "      <td>31853080.0</td>\n",
       "      <td>Children of a Lesser God</td>\n",
       "      <td>R</td>\n",
       "      <td>1986-10-31</td>\n",
       "      <td>119</td>\n",
       "      <td>7.2</td>\n",
       "      <td>William Hurt</td>\n",
       "      <td>12538</td>\n",
       "      <td>Mark Medoff</td>\n",
       "      <td>1986</td>\n",
       "      <td>1</td>\n",
       "      <td>Children of a Lesser God</td>\n",
       "    </tr>\n",
       "    <tr>\n",
       "      <th>4</th>\n",
       "      <td>25000000.0</td>\n",
       "      <td>Paramount Pictures</td>\n",
       "      <td>USA</td>\n",
       "      <td>Brian De Palma</td>\n",
       "      <td>Crime</td>\n",
       "      <td>76270454.0</td>\n",
       "      <td>The Untouchables</td>\n",
       "      <td>R</td>\n",
       "      <td>1987-06-03</td>\n",
       "      <td>119</td>\n",
       "      <td>7.9</td>\n",
       "      <td>Kevin Costner</td>\n",
       "      <td>234254</td>\n",
       "      <td>Oscar Fraley</td>\n",
       "      <td>1987</td>\n",
       "      <td>1</td>\n",
       "      <td>The Untouchables</td>\n",
       "    </tr>\n",
       "  </tbody>\n",
       "</table>\n",
       "</div>"
      ],
      "text/plain": [
       "       budget              company country         director   genre  \\\n",
       "0   6000000.0              Hemdale      UK     Oliver Stone   Drama   \n",
       "1  13800000.0  Touchstone Pictures     USA  Martin Scorsese   Drama   \n",
       "2   6400000.0       Orion Pictures     USA      Woody Allen  Comedy   \n",
       "3         0.0   Paramount Pictures     USA     Randa Haines   Drama   \n",
       "4  25000000.0   Paramount Pictures     USA   Brian De Palma   Crime   \n",
       "\n",
       "         gross                      name rating    released  runtime  score  \\\n",
       "0  138530565.0                   Platoon      R  1987-02-06      120    8.1   \n",
       "1   52293982.0        The Color of Money      R  1986-10-17      119    7.0   \n",
       "2   40084041.0    Hannah and Her Sisters  PG-13  1986-03-14      107    8.0   \n",
       "3   31853080.0  Children of a Lesser God      R  1986-10-31      119    7.2   \n",
       "4   76270454.0          The Untouchables      R  1987-06-03      119    7.9   \n",
       "\n",
       "            star   votes        writer  year  Oscar_wins  \\\n",
       "0  Charlie Sheen  317585  Oliver Stone  1986           1   \n",
       "1    Paul Newman   62495  Walter Tevis  1986           1   \n",
       "2     Mia Farrow   56988   Woody Allen  1986           2   \n",
       "3   William Hurt   12538   Mark Medoff  1986           1   \n",
       "4  Kevin Costner  234254  Oscar Fraley  1987           1   \n",
       "\n",
       "                 movie_name  \n",
       "0                   Platoon  \n",
       "1        The Color of Money  \n",
       "2    Hannah and Her Sisters  \n",
       "3  Children of a Lesser God  \n",
       "4          The Untouchables  "
      ]
     },
     "execution_count": 14,
     "metadata": {},
     "output_type": "execute_result"
    }
   ],
   "source": [
    "wins.head()"
   ]
  },
  {
   "cell_type": "code",
   "execution_count": 15,
   "metadata": {},
   "outputs": [
    {
     "data": {
      "text/plain": [
       "Oscar_noms\n",
       "1    236\n",
       "2     88\n",
       "3     22\n",
       "4      7\n",
       "dtype: int64"
      ]
     },
     "execution_count": 15,
     "metadata": {},
     "output_type": "execute_result"
    }
   ],
   "source": [
    "noms.groupby('Oscar_noms').size()"
   ]
  },
  {
   "cell_type": "code",
   "execution_count": 16,
   "metadata": {},
   "outputs": [
    {
     "data": {
      "text/plain": [
       "Oscar_wins\n",
       "1    86\n",
       "2    18\n",
       "3     3\n",
       "dtype: int64"
      ]
     },
     "execution_count": 16,
     "metadata": {},
     "output_type": "execute_result"
    }
   ],
   "source": [
    "wins.groupby('Oscar_wins').size()"
   ]
  },
  {
   "cell_type": "code",
   "execution_count": 17,
   "metadata": {
    "collapsed": true
   },
   "outputs": [],
   "source": [
    "oscar_wins = movies.append(wins)"
   ]
  },
  {
   "cell_type": "code",
   "execution_count": 18,
   "metadata": {},
   "outputs": [
    {
     "data": {
      "text/plain": [
       "(6927, 17)"
      ]
     },
     "execution_count": 18,
     "metadata": {},
     "output_type": "execute_result"
    }
   ],
   "source": [
    "oscar_wins.shape"
   ]
  },
  {
   "cell_type": "code",
   "execution_count": 19,
   "metadata": {
    "collapsed": true
   },
   "outputs": [],
   "source": [
    "oscar_wins.drop_duplicates(subset='name', keep='last', inplace=True)"
   ]
  },
  {
   "cell_type": "code",
   "execution_count": 20,
   "metadata": {},
   "outputs": [
    {
     "data": {
      "text/plain": [
       "(6731, 17)"
      ]
     },
     "execution_count": 20,
     "metadata": {},
     "output_type": "execute_result"
    }
   ],
   "source": [
    "oscar_wins.shape"
   ]
  },
  {
   "cell_type": "code",
   "execution_count": 21,
   "metadata": {
    "collapsed": true
   },
   "outputs": [],
   "source": [
    "oscar_noms = movies.append(noms)"
   ]
  },
  {
   "cell_type": "code",
   "execution_count": 22,
   "metadata": {
    "collapsed": true
   },
   "outputs": [],
   "source": [
    "oscar_noms.drop_duplicates(subset='name', keep='last', inplace=True)"
   ]
  },
  {
   "cell_type": "code",
   "execution_count": 23,
   "metadata": {},
   "outputs": [
    {
     "data": {
      "text/plain": [
       "(6731, 17)"
      ]
     },
     "execution_count": 23,
     "metadata": {},
     "output_type": "execute_result"
    }
   ],
   "source": [
    "oscar_noms.shape"
   ]
  },
  {
   "cell_type": "code",
   "execution_count": 24,
   "metadata": {
    "collapsed": true
   },
   "outputs": [],
   "source": [
    "oscarMovies = pd.merge(oscar_wins,oscar_noms[['name','Oscar_noms']],on='name', how='left')"
   ]
  },
  {
   "cell_type": "code",
   "execution_count": 25,
   "metadata": {},
   "outputs": [
    {
     "data": {
      "text/html": [
       "<div>\n",
       "<style>\n",
       "    .dataframe thead tr:only-child th {\n",
       "        text-align: right;\n",
       "    }\n",
       "\n",
       "    .dataframe thead th {\n",
       "        text-align: left;\n",
       "    }\n",
       "\n",
       "    .dataframe tbody tr th {\n",
       "        vertical-align: top;\n",
       "    }\n",
       "</style>\n",
       "<table border=\"1\" class=\"dataframe\">\n",
       "  <thead>\n",
       "    <tr style=\"text-align: right;\">\n",
       "      <th></th>\n",
       "      <th>Oscar_wins</th>\n",
       "      <th>budget</th>\n",
       "      <th>company</th>\n",
       "      <th>country</th>\n",
       "      <th>director</th>\n",
       "      <th>genre</th>\n",
       "      <th>gross</th>\n",
       "      <th>movie_name</th>\n",
       "      <th>name</th>\n",
       "      <th>rating</th>\n",
       "      <th>released</th>\n",
       "      <th>runtime</th>\n",
       "      <th>score</th>\n",
       "      <th>star</th>\n",
       "      <th>votes</th>\n",
       "      <th>writer</th>\n",
       "      <th>year</th>\n",
       "      <th>Oscar_noms</th>\n",
       "    </tr>\n",
       "  </thead>\n",
       "  <tbody>\n",
       "    <tr>\n",
       "      <th>0</th>\n",
       "      <td>NaN</td>\n",
       "      <td>8000000.0</td>\n",
       "      <td>Columbia Pictures Corporation</td>\n",
       "      <td>USA</td>\n",
       "      <td>Rob Reiner</td>\n",
       "      <td>Adventure</td>\n",
       "      <td>52287414.0</td>\n",
       "      <td>NaN</td>\n",
       "      <td>Stand by Me</td>\n",
       "      <td>R</td>\n",
       "      <td>1986-08-22</td>\n",
       "      <td>89</td>\n",
       "      <td>8.1</td>\n",
       "      <td>Wil Wheaton</td>\n",
       "      <td>299174</td>\n",
       "      <td>Stephen King</td>\n",
       "      <td>1986</td>\n",
       "      <td>NaN</td>\n",
       "    </tr>\n",
       "    <tr>\n",
       "      <th>1</th>\n",
       "      <td>NaN</td>\n",
       "      <td>6000000.0</td>\n",
       "      <td>Paramount Pictures</td>\n",
       "      <td>USA</td>\n",
       "      <td>John Hughes</td>\n",
       "      <td>Comedy</td>\n",
       "      <td>70136369.0</td>\n",
       "      <td>NaN</td>\n",
       "      <td>Ferris Bueller's Day Off</td>\n",
       "      <td>PG-13</td>\n",
       "      <td>1986-06-11</td>\n",
       "      <td>103</td>\n",
       "      <td>7.8</td>\n",
       "      <td>Matthew Broderick</td>\n",
       "      <td>264740</td>\n",
       "      <td>John Hughes</td>\n",
       "      <td>1986</td>\n",
       "      <td>NaN</td>\n",
       "    </tr>\n",
       "    <tr>\n",
       "      <th>2</th>\n",
       "      <td>NaN</td>\n",
       "      <td>15000000.0</td>\n",
       "      <td>Paramount Pictures</td>\n",
       "      <td>USA</td>\n",
       "      <td>Tony Scott</td>\n",
       "      <td>Action</td>\n",
       "      <td>179800601.0</td>\n",
       "      <td>NaN</td>\n",
       "      <td>Top Gun</td>\n",
       "      <td>PG</td>\n",
       "      <td>1986-05-16</td>\n",
       "      <td>110</td>\n",
       "      <td>6.9</td>\n",
       "      <td>Tom Cruise</td>\n",
       "      <td>236909</td>\n",
       "      <td>Jim Cash</td>\n",
       "      <td>1986</td>\n",
       "      <td>NaN</td>\n",
       "    </tr>\n",
       "    <tr>\n",
       "      <th>3</th>\n",
       "      <td>NaN</td>\n",
       "      <td>18500000.0</td>\n",
       "      <td>Twentieth Century Fox Film Corporation</td>\n",
       "      <td>USA</td>\n",
       "      <td>James Cameron</td>\n",
       "      <td>Action</td>\n",
       "      <td>85160248.0</td>\n",
       "      <td>NaN</td>\n",
       "      <td>Aliens</td>\n",
       "      <td>R</td>\n",
       "      <td>1986-07-18</td>\n",
       "      <td>137</td>\n",
       "      <td>8.4</td>\n",
       "      <td>Sigourney Weaver</td>\n",
       "      <td>540152</td>\n",
       "      <td>James Cameron</td>\n",
       "      <td>1986</td>\n",
       "      <td>1.0</td>\n",
       "    </tr>\n",
       "    <tr>\n",
       "      <th>4</th>\n",
       "      <td>NaN</td>\n",
       "      <td>9000000.0</td>\n",
       "      <td>Walt Disney Pictures</td>\n",
       "      <td>USA</td>\n",
       "      <td>Randal Kleiser</td>\n",
       "      <td>Adventure</td>\n",
       "      <td>18564613.0</td>\n",
       "      <td>NaN</td>\n",
       "      <td>Flight of the Navigator</td>\n",
       "      <td>PG</td>\n",
       "      <td>1986-08-01</td>\n",
       "      <td>90</td>\n",
       "      <td>6.9</td>\n",
       "      <td>Joey Cramer</td>\n",
       "      <td>36636</td>\n",
       "      <td>Mark H. Baker</td>\n",
       "      <td>1986</td>\n",
       "      <td>NaN</td>\n",
       "    </tr>\n",
       "  </tbody>\n",
       "</table>\n",
       "</div>"
      ],
      "text/plain": [
       "   Oscar_wins      budget                                 company country  \\\n",
       "0         NaN   8000000.0           Columbia Pictures Corporation     USA   \n",
       "1         NaN   6000000.0                      Paramount Pictures     USA   \n",
       "2         NaN  15000000.0                      Paramount Pictures     USA   \n",
       "3         NaN  18500000.0  Twentieth Century Fox Film Corporation     USA   \n",
       "4         NaN   9000000.0                    Walt Disney Pictures     USA   \n",
       "\n",
       "         director      genre        gross movie_name  \\\n",
       "0      Rob Reiner  Adventure   52287414.0        NaN   \n",
       "1     John Hughes     Comedy   70136369.0        NaN   \n",
       "2      Tony Scott     Action  179800601.0        NaN   \n",
       "3   James Cameron     Action   85160248.0        NaN   \n",
       "4  Randal Kleiser  Adventure   18564613.0        NaN   \n",
       "\n",
       "                       name rating    released  runtime  score  \\\n",
       "0               Stand by Me      R  1986-08-22       89    8.1   \n",
       "1  Ferris Bueller's Day Off  PG-13  1986-06-11      103    7.8   \n",
       "2                   Top Gun     PG  1986-05-16      110    6.9   \n",
       "3                    Aliens      R  1986-07-18      137    8.4   \n",
       "4   Flight of the Navigator     PG  1986-08-01       90    6.9   \n",
       "\n",
       "                star   votes         writer  year  Oscar_noms  \n",
       "0        Wil Wheaton  299174   Stephen King  1986         NaN  \n",
       "1  Matthew Broderick  264740    John Hughes  1986         NaN  \n",
       "2         Tom Cruise  236909       Jim Cash  1986         NaN  \n",
       "3   Sigourney Weaver  540152  James Cameron  1986         1.0  \n",
       "4        Joey Cramer   36636  Mark H. Baker  1986         NaN  "
      ]
     },
     "execution_count": 25,
     "metadata": {},
     "output_type": "execute_result"
    }
   ],
   "source": [
    "oscarMovies.head()"
   ]
  },
  {
   "cell_type": "code",
   "execution_count": 26,
   "metadata": {},
   "outputs": [],
   "source": [
    "oscarMovies['Oscar_noms']=oscarMovies['Oscar_noms'].fillna('0')"
   ]
  },
  {
   "cell_type": "code",
   "execution_count": 27,
   "metadata": {},
   "outputs": [],
   "source": [
    "oscarMovies['Oscar_wins']=oscarMovies['Oscar_wins'].fillna('0')"
   ]
  },
  {
   "cell_type": "code",
   "execution_count": 28,
   "metadata": {},
   "outputs": [
    {
     "data": {
      "text/html": [
       "<div>\n",
       "<style>\n",
       "    .dataframe thead tr:only-child th {\n",
       "        text-align: right;\n",
       "    }\n",
       "\n",
       "    .dataframe thead th {\n",
       "        text-align: left;\n",
       "    }\n",
       "\n",
       "    .dataframe tbody tr th {\n",
       "        vertical-align: top;\n",
       "    }\n",
       "</style>\n",
       "<table border=\"1\" class=\"dataframe\">\n",
       "  <thead>\n",
       "    <tr style=\"text-align: right;\">\n",
       "      <th></th>\n",
       "      <th>Oscar_wins</th>\n",
       "      <th>budget</th>\n",
       "      <th>company</th>\n",
       "      <th>country</th>\n",
       "      <th>director</th>\n",
       "      <th>genre</th>\n",
       "      <th>gross</th>\n",
       "      <th>movie_name</th>\n",
       "      <th>name</th>\n",
       "      <th>rating</th>\n",
       "      <th>released</th>\n",
       "      <th>runtime</th>\n",
       "      <th>score</th>\n",
       "      <th>star</th>\n",
       "      <th>votes</th>\n",
       "      <th>writer</th>\n",
       "      <th>year</th>\n",
       "      <th>Oscar_noms</th>\n",
       "    </tr>\n",
       "  </thead>\n",
       "  <tbody>\n",
       "    <tr>\n",
       "      <th>0</th>\n",
       "      <td>0</td>\n",
       "      <td>8000000.0</td>\n",
       "      <td>Columbia Pictures Corporation</td>\n",
       "      <td>USA</td>\n",
       "      <td>Rob Reiner</td>\n",
       "      <td>Adventure</td>\n",
       "      <td>52287414.0</td>\n",
       "      <td>NaN</td>\n",
       "      <td>Stand by Me</td>\n",
       "      <td>R</td>\n",
       "      <td>1986-08-22</td>\n",
       "      <td>89</td>\n",
       "      <td>8.1</td>\n",
       "      <td>Wil Wheaton</td>\n",
       "      <td>299174</td>\n",
       "      <td>Stephen King</td>\n",
       "      <td>1986</td>\n",
       "      <td>0</td>\n",
       "    </tr>\n",
       "    <tr>\n",
       "      <th>1</th>\n",
       "      <td>0</td>\n",
       "      <td>6000000.0</td>\n",
       "      <td>Paramount Pictures</td>\n",
       "      <td>USA</td>\n",
       "      <td>John Hughes</td>\n",
       "      <td>Comedy</td>\n",
       "      <td>70136369.0</td>\n",
       "      <td>NaN</td>\n",
       "      <td>Ferris Bueller's Day Off</td>\n",
       "      <td>PG-13</td>\n",
       "      <td>1986-06-11</td>\n",
       "      <td>103</td>\n",
       "      <td>7.8</td>\n",
       "      <td>Matthew Broderick</td>\n",
       "      <td>264740</td>\n",
       "      <td>John Hughes</td>\n",
       "      <td>1986</td>\n",
       "      <td>0</td>\n",
       "    </tr>\n",
       "    <tr>\n",
       "      <th>2</th>\n",
       "      <td>0</td>\n",
       "      <td>15000000.0</td>\n",
       "      <td>Paramount Pictures</td>\n",
       "      <td>USA</td>\n",
       "      <td>Tony Scott</td>\n",
       "      <td>Action</td>\n",
       "      <td>179800601.0</td>\n",
       "      <td>NaN</td>\n",
       "      <td>Top Gun</td>\n",
       "      <td>PG</td>\n",
       "      <td>1986-05-16</td>\n",
       "      <td>110</td>\n",
       "      <td>6.9</td>\n",
       "      <td>Tom Cruise</td>\n",
       "      <td>236909</td>\n",
       "      <td>Jim Cash</td>\n",
       "      <td>1986</td>\n",
       "      <td>0</td>\n",
       "    </tr>\n",
       "    <tr>\n",
       "      <th>3</th>\n",
       "      <td>0</td>\n",
       "      <td>18500000.0</td>\n",
       "      <td>Twentieth Century Fox Film Corporation</td>\n",
       "      <td>USA</td>\n",
       "      <td>James Cameron</td>\n",
       "      <td>Action</td>\n",
       "      <td>85160248.0</td>\n",
       "      <td>NaN</td>\n",
       "      <td>Aliens</td>\n",
       "      <td>R</td>\n",
       "      <td>1986-07-18</td>\n",
       "      <td>137</td>\n",
       "      <td>8.4</td>\n",
       "      <td>Sigourney Weaver</td>\n",
       "      <td>540152</td>\n",
       "      <td>James Cameron</td>\n",
       "      <td>1986</td>\n",
       "      <td>1</td>\n",
       "    </tr>\n",
       "    <tr>\n",
       "      <th>4</th>\n",
       "      <td>0</td>\n",
       "      <td>9000000.0</td>\n",
       "      <td>Walt Disney Pictures</td>\n",
       "      <td>USA</td>\n",
       "      <td>Randal Kleiser</td>\n",
       "      <td>Adventure</td>\n",
       "      <td>18564613.0</td>\n",
       "      <td>NaN</td>\n",
       "      <td>Flight of the Navigator</td>\n",
       "      <td>PG</td>\n",
       "      <td>1986-08-01</td>\n",
       "      <td>90</td>\n",
       "      <td>6.9</td>\n",
       "      <td>Joey Cramer</td>\n",
       "      <td>36636</td>\n",
       "      <td>Mark H. Baker</td>\n",
       "      <td>1986</td>\n",
       "      <td>0</td>\n",
       "    </tr>\n",
       "  </tbody>\n",
       "</table>\n",
       "</div>"
      ],
      "text/plain": [
       "  Oscar_wins      budget                                 company country  \\\n",
       "0          0   8000000.0           Columbia Pictures Corporation     USA   \n",
       "1          0   6000000.0                      Paramount Pictures     USA   \n",
       "2          0  15000000.0                      Paramount Pictures     USA   \n",
       "3          0  18500000.0  Twentieth Century Fox Film Corporation     USA   \n",
       "4          0   9000000.0                    Walt Disney Pictures     USA   \n",
       "\n",
       "         director      genre        gross movie_name  \\\n",
       "0      Rob Reiner  Adventure   52287414.0        NaN   \n",
       "1     John Hughes     Comedy   70136369.0        NaN   \n",
       "2      Tony Scott     Action  179800601.0        NaN   \n",
       "3   James Cameron     Action   85160248.0        NaN   \n",
       "4  Randal Kleiser  Adventure   18564613.0        NaN   \n",
       "\n",
       "                       name rating    released  runtime  score  \\\n",
       "0               Stand by Me      R  1986-08-22       89    8.1   \n",
       "1  Ferris Bueller's Day Off  PG-13  1986-06-11      103    7.8   \n",
       "2                   Top Gun     PG  1986-05-16      110    6.9   \n",
       "3                    Aliens      R  1986-07-18      137    8.4   \n",
       "4   Flight of the Navigator     PG  1986-08-01       90    6.9   \n",
       "\n",
       "                star   votes         writer  year Oscar_noms  \n",
       "0        Wil Wheaton  299174   Stephen King  1986          0  \n",
       "1  Matthew Broderick  264740    John Hughes  1986          0  \n",
       "2         Tom Cruise  236909       Jim Cash  1986          0  \n",
       "3   Sigourney Weaver  540152  James Cameron  1986          1  \n",
       "4        Joey Cramer   36636  Mark H. Baker  1986          0  "
      ]
     },
     "execution_count": 28,
     "metadata": {},
     "output_type": "execute_result"
    }
   ],
   "source": [
    "oscarMovies.head()"
   ]
  },
  {
   "cell_type": "code",
   "execution_count": 29,
   "metadata": {},
   "outputs": [],
   "source": [
    " oscarMovies = oscarMovies.drop(['movie_name','company','released','country','rating','genre','runtime','votes','writer'], axis=1)"
   ]
  },
  {
   "cell_type": "code",
   "execution_count": 30,
   "metadata": {},
   "outputs": [
    {
     "data": {
      "text/html": [
       "<div>\n",
       "<style>\n",
       "    .dataframe thead tr:only-child th {\n",
       "        text-align: right;\n",
       "    }\n",
       "\n",
       "    .dataframe thead th {\n",
       "        text-align: left;\n",
       "    }\n",
       "\n",
       "    .dataframe tbody tr th {\n",
       "        vertical-align: top;\n",
       "    }\n",
       "</style>\n",
       "<table border=\"1\" class=\"dataframe\">\n",
       "  <thead>\n",
       "    <tr style=\"text-align: right;\">\n",
       "      <th></th>\n",
       "      <th>Oscar_wins</th>\n",
       "      <th>budget</th>\n",
       "      <th>director</th>\n",
       "      <th>gross</th>\n",
       "      <th>name</th>\n",
       "      <th>score</th>\n",
       "      <th>star</th>\n",
       "      <th>year</th>\n",
       "      <th>Oscar_noms</th>\n",
       "    </tr>\n",
       "  </thead>\n",
       "  <tbody>\n",
       "    <tr>\n",
       "      <th>0</th>\n",
       "      <td>0</td>\n",
       "      <td>8000000.0</td>\n",
       "      <td>Rob Reiner</td>\n",
       "      <td>52287414.0</td>\n",
       "      <td>Stand by Me</td>\n",
       "      <td>8.1</td>\n",
       "      <td>Wil Wheaton</td>\n",
       "      <td>1986</td>\n",
       "      <td>0</td>\n",
       "    </tr>\n",
       "    <tr>\n",
       "      <th>1</th>\n",
       "      <td>0</td>\n",
       "      <td>6000000.0</td>\n",
       "      <td>John Hughes</td>\n",
       "      <td>70136369.0</td>\n",
       "      <td>Ferris Bueller's Day Off</td>\n",
       "      <td>7.8</td>\n",
       "      <td>Matthew Broderick</td>\n",
       "      <td>1986</td>\n",
       "      <td>0</td>\n",
       "    </tr>\n",
       "    <tr>\n",
       "      <th>2</th>\n",
       "      <td>0</td>\n",
       "      <td>15000000.0</td>\n",
       "      <td>Tony Scott</td>\n",
       "      <td>179800601.0</td>\n",
       "      <td>Top Gun</td>\n",
       "      <td>6.9</td>\n",
       "      <td>Tom Cruise</td>\n",
       "      <td>1986</td>\n",
       "      <td>0</td>\n",
       "    </tr>\n",
       "    <tr>\n",
       "      <th>3</th>\n",
       "      <td>0</td>\n",
       "      <td>18500000.0</td>\n",
       "      <td>James Cameron</td>\n",
       "      <td>85160248.0</td>\n",
       "      <td>Aliens</td>\n",
       "      <td>8.4</td>\n",
       "      <td>Sigourney Weaver</td>\n",
       "      <td>1986</td>\n",
       "      <td>1</td>\n",
       "    </tr>\n",
       "    <tr>\n",
       "      <th>4</th>\n",
       "      <td>0</td>\n",
       "      <td>9000000.0</td>\n",
       "      <td>Randal Kleiser</td>\n",
       "      <td>18564613.0</td>\n",
       "      <td>Flight of the Navigator</td>\n",
       "      <td>6.9</td>\n",
       "      <td>Joey Cramer</td>\n",
       "      <td>1986</td>\n",
       "      <td>0</td>\n",
       "    </tr>\n",
       "  </tbody>\n",
       "</table>\n",
       "</div>"
      ],
      "text/plain": [
       "  Oscar_wins      budget        director        gross  \\\n",
       "0          0   8000000.0      Rob Reiner   52287414.0   \n",
       "1          0   6000000.0     John Hughes   70136369.0   \n",
       "2          0  15000000.0      Tony Scott  179800601.0   \n",
       "3          0  18500000.0   James Cameron   85160248.0   \n",
       "4          0   9000000.0  Randal Kleiser   18564613.0   \n",
       "\n",
       "                       name  score               star  year Oscar_noms  \n",
       "0               Stand by Me    8.1        Wil Wheaton  1986          0  \n",
       "1  Ferris Bueller's Day Off    7.8  Matthew Broderick  1986          0  \n",
       "2                   Top Gun    6.9         Tom Cruise  1986          0  \n",
       "3                    Aliens    8.4   Sigourney Weaver  1986          1  \n",
       "4   Flight of the Navigator    6.9        Joey Cramer  1986          0  "
      ]
     },
     "execution_count": 30,
     "metadata": {},
     "output_type": "execute_result"
    }
   ],
   "source": [
    "oscarMovies.head()"
   ]
  },
  {
   "cell_type": "code",
   "execution_count": 31,
   "metadata": {},
   "outputs": [
    {
     "data": {
      "text/plain": [
       "(6731, 9)"
      ]
     },
     "execution_count": 31,
     "metadata": {},
     "output_type": "execute_result"
    }
   ],
   "source": [
    "oscarMovies.shape"
   ]
  },
  {
   "cell_type": "code",
   "execution_count": 32,
   "metadata": {
    "collapsed": true
   },
   "outputs": [],
   "source": [
    "oscarMovies.to_pickle('oscarMovies.pkl')"
   ]
  },
  {
   "cell_type": "code",
   "execution_count": null,
   "metadata": {
    "collapsed": true
   },
   "outputs": [],
   "source": []
  }
 ],
 "metadata": {
  "kernelspec": {
   "display_name": "Python 3",
   "language": "python",
   "name": "python3"
  },
  "language_info": {
   "codemirror_mode": {
    "name": "ipython",
    "version": 3
   },
   "file_extension": ".py",
   "mimetype": "text/x-python",
   "name": "python",
   "nbconvert_exporter": "python",
   "pygments_lexer": "ipython3",
   "version": "3.6.3"
  }
 },
 "nbformat": 4,
 "nbformat_minor": 2
}
